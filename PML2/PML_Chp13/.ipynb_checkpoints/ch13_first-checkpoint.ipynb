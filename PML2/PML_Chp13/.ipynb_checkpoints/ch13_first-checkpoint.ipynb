{
 "cells": [
  {
   "cell_type": "markdown",
   "metadata": {},
   "source": [
    "# 13. Parallelizing Neural Network Training with Theano"
   ]
  },
  {
   "cell_type": "markdown",
   "metadata": {},
   "source": [
    "이전 챕터들에서는 주로 수학적 배경을 다뤘다. 이 챕터에서는 재미진 것들을 할 것이다. 라이브러리 써서~! (GPU 연산) 시작하기 전에 무엇들을 다룰지 보자.\n",
    "\n",
    "* Theano를 이용해 최적화된 기계학습 코드짜기\n",
    "* 인공신경망을 위한 activation function 선택하기\n",
    "* Keras 딥러닝 라이브러리를 이용해 빨리, 쉽게 실험하기"
   ]
  },
  {
   "cell_type": "markdown",
   "metadata": {},
   "source": [
    "## Building, compiling, and running expressions with Theano"
   ]
  },
  {
   "cell_type": "markdown",
   "metadata": {},
   "source": [
    "디폴트로 파이썬은 하나의 코어에서 코드가 실행되도록 하고 있다. 하지만 multiprocessing 라이브러를 사용하면 멀티코어 연산을 할 수 있게 된다. 이전 MNIST 데이터셋을 학습시킬때 봤듯이, 하나의 코어만을 이용해 학습시키는 것은 거의 불가능 하다. 그래서 GPU를 쓸 것이다! "
   ]
  },
  {
   "cell_type": "markdown",
   "metadata": {},
   "source": [
    "<img src=\"ch13_1.png\" alt=\"Drawing\" style=\"width: 700px;\"/>"
   ]
  },
  {
   "cell_type": "markdown",
   "metadata": {},
   "source": [
    "GPU는 CPU보다 450배 정도 많은 코어를 가지고 있다. CUDA나 OpenCL은 GPU를 동작시키도록 코드를 짤 수 있지만 CUDA나 OpenCL로 짜는건 제일 편리한 방식은 아니기는 하다. 그래서 Teano가 나왔다!\n"
   ]
  },
  {
   "cell_type": "markdown",
   "metadata": {},
   "source": [
    "## What is Theano?"
   ]
  },
  {
   "cell_type": "markdown",
   "metadata": {},
   "source": [
    "Theano가 뭔가? 컴퓨터 언어? 컴파일러? 파이썬 라이브러리? 모두 맞다. Theano는 컴파일하고 실행하고 수학 표현을 다차원 어레이(텐서)로 표현할 수 있게 해주기 위해 개발되었다. 또한 이러한 연산을 GPU로 할 수 있게 해준다. Theano를 사용한다면, GPU 병렬 연산을 굉장히 잘 할 수 있다. Theano를 이용하면 Numpy를 사용하는 것 보다 CPU에서는 1.8배, GPu에서는 11배정도 빠르다. (2010년 기준) "
   ]
  },
  {
   "cell_type": "markdown",
   "metadata": {},
   "source": [
    "Theano는 그럼 Numpy와 어떻게 연결되어 있는가? Theano는 Numpy위에 빌드되어 있어 굉장히 비슷한 문법을 가진다. Theano는 단순히 \"Numpy on steroids\"가 아니다. 이전 챕터들에서 보았듯, Numpy에서는 먼저 변수들이 뭔지 설정하고, 그들을 조합해 line by line으로 실행한다. 그러나 Theano에서는 문제를 먼저 적고 그다음 그것을 어떻게 분석할 것인지 적는다. 그 다음 Theano는 C/C++ 이나 CUDA등을 이용해 코드를 컴파일하고 최적화한다. 최적화된 코드를 만들기 위해 Theano는 우리가 처리하고자 하는 문제의 scope가 필요하다. 아직 Theano는 개발중이며, 매번 업데이트가 되고 있다. 이 챕터에서는 Theano에 대한 기본적인 이해를 탐구하고 이것을 기계학습에 어떻게 적용시킬지 배울 것이다. \n",
    "\n",
    "Theano에 대한 online documentation은 다음과 같다: http://deeplearning.net/software/theano/"
   ]
  },
  {
   "cell_type": "markdown",
   "metadata": {},
   "source": [
    "## First steps with Theano"
   ]
  },
  {
   "cell_type": "markdown",
   "metadata": {},
   "source": [
    "`pip install Theano` \n",
    "\n",
    "커멘드로 설치한다. "
   ]
  },
  {
   "cell_type": "markdown",
   "metadata": {},
   "source": [
    "Theano는 소위 텐서라고 불리우는 것들로 빌드되어 있고 이로 symbolic mathematical expressions를 표시할 수 있다. 텐서는 스칼라, 벡터, 행렬 들의 일반화된 형태로 이해할 수 있다. 더 구체적으로, 스칼라는 rank 0 텐서, 벡터는 rank 1 텐서, 행렬은 rank 2 텐서, 3차원 행렬은 rank 3 텐서이다. "
   ]
  },
  {
   "cell_type": "markdown",
   "metadata": {},
   "source": [
    "<img src=\"ch13_2.png\" alt=\"Drawing\" style=\"width: 300px;\"/>"
   ]
  },
  {
   "cell_type": "markdown",
   "metadata": {},
   "source": [
    "위 코드는 다음과 같이 표현할 수 있다."
   ]
  },
  {
   "cell_type": "code",
   "execution_count": 1,
   "metadata": {
    "collapsed": false
   },
   "outputs": [
    {
     "name": "stdout",
     "output_type": "stream",
     "text": [
      "Net input: 2.50\n"
     ]
    }
   ],
   "source": [
    "import theano\n",
    "from theano import tensor as T\n",
    "\n",
    "# initialize\n",
    "x1 = T.scalar()\n",
    "w1 = T.scalar()\n",
    "w0 = T.scalar()\n",
    "z1 = w1 * x1 + w0\n",
    "\n",
    "# compile\n",
    "net_input = theano.function(inputs=[w1, x1, w0], outputs=z1)\n",
    "\n",
    "# execute\n",
    "print('Net input: %.2f' % net_input(2.0, 1.0, 0.5))"
   ]
  },
  {
   "cell_type": "markdown",
   "metadata": {},
   "source": [
    "쉽다! Theano로 코드를 쓰다면, 다음과 같은 3개의 과정을 거쳐야만 한다. _symbols_(Variable object), 코드 컴파일, 그리고 실행이 그것이다. initialization 과정에서는 x1, w1, w0과 같은 심볼로 z1을 계산한다. 그다음 `net_input` 함수를 컴파일 한다. \n",
    "\n",
    "하지만, 주의할 점이 있다. 변수의 타입(dtpye)이다. Theano에서는 64비트 혹은 32비트 integer/float를 정해서 써 주어야 하고, 이는 코드의 성능에 큰 영향을 미친다."
   ]
  },
  {
   "cell_type": "markdown",
   "metadata": {},
   "source": [
    "## Configuring Theano"
   ]
  },
  {
   "cell_type": "markdown",
   "metadata": {},
   "source": [
    "요즈음엔 어떤 운영체제를 사용하든지 보통 64bit 메모리 주소를 사용한다. 하지만, GPU를 써서 연산을 할때 우리는 보통 32bit 메모리 주소를 사용한다. 현재 이는 Theano 아키텍처에서 거의 유일하게 지원하고 있다. 이번 섹션에서는 Theano를 어떻게 configure 할 것인지 볼 것이다. "
   ]
  },
  {
   "cell_type": "markdown",
   "metadata": {},
   "source": [
    "기계학습 알고리즘을 시행할때, 우리는 대부분 floating point 숫자를 대상으로 한다. 기본적으로 Numpy와 Theano는 double-precision floating point(`float64`)를 사용한다. 하지만, `float64`(CPU)와 `float32`(GPU) 사이에서 왔다갔다 하며 CPU에서 프로토타입을 만들고 GPU에서 실행을 시키면 매우 좋을 것이다. 예를 들어서 Theano의 float variable에 대한 기본 세팅에 접근하고 싶다면 다음 코드를 치면 된다."
   ]
  },
  {
   "cell_type": "code",
   "execution_count": 2,
   "metadata": {
    "collapsed": false
   },
   "outputs": [
    {
     "name": "stdout",
     "output_type": "stream",
     "text": [
      "float64\n"
     ]
    }
   ],
   "source": [
    "print(theano.config.floatX)"
   ]
  },
  {
   "cell_type": "markdown",
   "metadata": {},
   "source": [
    "Theano를 처음 인스톨 하게 되면, `float64`로 세팅이 되어 있다. 하지만 이를 `float32`로 다음의 코드를 통해 바꿀 수 있다."
   ]
  },
  {
   "cell_type": "code",
   "execution_count": 3,
   "metadata": {
    "collapsed": false
   },
   "outputs": [
    {
     "name": "stdout",
     "output_type": "stream",
     "text": [
      "float32\n"
     ]
    }
   ],
   "source": [
    "theano.config.floatX = 'float32'\n",
    "print(theano.config.floatX)"
   ]
  },
  {
   "cell_type": "markdown",
   "metadata": {},
   "source": [
    "현재 Theano의 GPU연산을 사용하려면 `float32` 타입을 써야 한다. 우리의 CPU에서는 `float32`나 `float64`둘다 사용 가능하다. 따라서, 만약 세팅을 글로벌로 바꾸고 싶다면 `THEANO_FLAGS` 변수안에 있는 세팅을 바꾸면 된다. 터미널에 다음 코드를 치면 된다."
   ]
  },
  {
   "cell_type": "code",
   "execution_count": 4,
   "metadata": {
    "collapsed": false,
    "scrolled": true
   },
   "outputs": [
    {
     "ename": "SyntaxError",
     "evalue": "invalid syntax (<ipython-input-4-26cd39c0d2b3>, line 1)",
     "output_type": "error",
     "traceback": [
      "\u001b[0;36m  File \u001b[0;32m\"<ipython-input-4-26cd39c0d2b3>\"\u001b[0;36m, line \u001b[0;32m1\u001b[0m\n\u001b[0;31m    export THEANO_FLAGS=floatX=float32\u001b[0m\n\u001b[0m                      ^\u001b[0m\n\u001b[0;31mSyntaxError\u001b[0m\u001b[0;31m:\u001b[0m invalid syntax\n"
     ]
    }
   ],
   "source": [
    "export THEANO_FLAGS=floatX=float32"
   ]
  },
  {
   "cell_type": "markdown",
   "metadata": {},
   "source": [
    "아니면, 다음과 같이 특정 파이썬 스크립트에만 적용시킬수도 있다."
   ]
  },
  {
   "cell_type": "code",
   "execution_count": null,
   "metadata": {
    "collapsed": true
   },
   "outputs": [],
   "source": [
    "THEANO_FLAGS=floatX=float32 python your_script.py"
   ]
  },
  {
   "cell_type": "markdown",
   "metadata": {},
   "source": [
    "이제 CPU와 GPU 실행 사이의 옵션을 어떻게 바꾸는지 봐보자. 프로토타입을 위해서는 cpu연산을 하는 것을 추천한다. "
   ]
  },
  {
   "cell_type": "code",
   "execution_count": 5,
   "metadata": {
    "collapsed": false
   },
   "outputs": [
    {
     "name": "stdout",
     "output_type": "stream",
     "text": [
      "cpu\n"
     ]
    }
   ],
   "source": [
    "print(theano.config.device)"
   ]
  },
  {
   "cell_type": "markdown",
   "metadata": {},
   "source": [
    "다음 코드로 CPU연산을 하게 할 수 있다.(커멘드라인에서) "
   ]
  },
  {
   "cell_type": "code",
   "execution_count": null,
   "metadata": {
    "collapsed": true
   },
   "outputs": [],
   "source": [
    "THEANO_FLAGS=device=cpu,floatX=float64 python your_script.py"
   ]
  },
  {
   "cell_type": "markdown",
   "metadata": {},
   "source": [
    "GPU연산을 하고싶다면 다음과 같다."
   ]
  },
  {
   "cell_type": "code",
   "execution_count": null,
   "metadata": {
    "collapsed": true
   },
   "outputs": [],
   "source": [
    "THEANO_FLAGS=device=gpu,floatX=float32 python your_script.py"
   ]
  },
  {
   "cell_type": "markdown",
   "metadata": {},
   "source": [
    "`.theanorc`파일을 미리 홈 디렉토리에 만들어 놓고 configuration를 영구적으로 저장할 수 있으면 편리하다. 예를 들어서, 모든 경우에 `float32`와 GPU 연산을 사용하고 싶다면 다음과 같이 `./theanorc`파일에 이런 세팅을 저장해 놓을 수 있다."
   ]
  },
  {
   "cell_type": "code",
   "execution_count": null,
   "metadata": {
    "collapsed": true
   },
   "outputs": [],
   "source": [
    "echo -e \"\\n[global]\\nfloatX=float32\\ndevice=gpu\\n\" >> ~/.theanorc"
   ]
  },
  {
   "cell_type": "markdown",
   "metadata": {},
   "source": [
    "## Working with array structures"
   ]
  },
  {
   "cell_type": "markdown",
   "metadata": {},
   "source": [
    "이 섹션에서는 어레이 구조를 Theano의 tensor 모듈을 이용해 어떻게 만들 것인지 공부한다. 다음 코드로, 2*3 행렬을 만들고 열의 합을 계산할 수 있다."
   ]
  },
  {
   "cell_type": "code",
   "execution_count": 6,
   "metadata": {
    "collapsed": false
   },
   "outputs": [
    {
     "name": "stdout",
     "output_type": "stream",
     "text": [
      "Column sum: [ 2.  4.  6.]\n",
      "Column sum: [ 2.  4.  6.]\n"
     ]
    }
   ],
   "source": [
    "import numpy as np\n",
    "\n",
    "# initialize\n",
    "x = T.fmatrix(name='x')\n",
    "x_sum = T.sum(x, axis=0)\n",
    "\n",
    "# compile\n",
    "calc_sum = theano.function(inputs=[x], outputs=x_sum)\n",
    "\n",
    "# execute (Python list)\n",
    "ary = [[1, 2, 3], [1, 2, 3]]\n",
    "print('Column sum:', calc_sum(ary))\n",
    "\n",
    "\n",
    "# execute (NumPy array)\n",
    "ary = np.array([[1, 2, 3], [1, 2, 3]], dtype=theano.config.floatX)\n",
    "print('Column sum:', calc_sum(ary))"
   ]
  },
  {
   "cell_type": "markdown",
   "metadata": {},
   "source": [
    "이전에 봤듯, initialize -> compile -> execute로 이뤄져 있다. 위 코드는 python 과 numpy 둘다 가능하다. 변수 x의 타입을 알려면 다음과 같은 코드로 접근할 수 있다."
   ]
  },
  {
   "cell_type": "code",
   "execution_count": 7,
   "metadata": {
    "collapsed": false
   },
   "outputs": [
    {
     "name": "stdout",
     "output_type": "stream",
     "text": [
      "<TensorType(float32, matrix)>\n"
     ]
    }
   ],
   "source": [
    "print(x.type())"
   ]
  },
  {
   "cell_type": "markdown",
   "metadata": {},
   "source": [
    "Theano는 메모리 관리 시스템도 굉장히 잘 되어 있어, 빨리 실행하기 위해 메모리를 다시 사용한다. 구체적으로, Theano는 메모리 공간을 여러 디바이스들(CPU, GPU)에 뿌려 메모리 공간의 변화를 트레킹한다. 다음으로 `shared` 변수를 살펴 볼 것이다. 이는 큰 오브젝트(어레이)를 뿌리고, 여러 함수에게 읽기/쓰기 접근권한을 준다. 따라서 컴파일 후로도 그러한 오브젝트에 대한 업데이트를 수행할 수 있다. \n",
    "\n",
    "여기서 관련 정보를 볼 수 있다: http://deeplearning.net/software/theano/tutorial/aliasing.html"
   ]
  },
  {
   "cell_type": "code",
   "execution_count": 8,
   "metadata": {
    "collapsed": false,
    "scrolled": true
   },
   "outputs": [
    {
     "name": "stdout",
     "output_type": "stream",
     "text": [
      "z0: [[ 0.]]\n",
      "z1: [[ 6.]]\n",
      "z2: [[ 12.]]\n",
      "z3: [[ 18.]]\n",
      "z4: [[ 24.]]\n"
     ]
    }
   ],
   "source": [
    "# initialize\n",
    "x = T.fmatrix('x')\n",
    "w = theano.shared(np.asarray([[0.0, 0.0, 0.0]], dtype=theano.config.floatX))\n",
    "z = x.dot(w.T)\n",
    "update = [[w, w + 1.0]]\n",
    "\n",
    "# compile\n",
    "net_input = theano.function(inputs=[x], updates=update, outputs=z)\n",
    "                      \n",
    "# execute\n",
    "data = np.array([[1, 2, 3]], dtype=theano.config.floatX)\n",
    "\n",
    "for i in range(5):\n",
    "    print('z%d:' % i, net_input(data))"
   ]
  },
  {
   "cell_type": "code",
   "execution_count": null,
   "metadata": {
    "collapsed": true
   },
   "outputs": [],
   "source": [
    "w"
   ]
  },
  {
   "cell_type": "markdown",
   "metadata": {},
   "source": [
    "여기서 볼 수 있듯 Theano를 이용해 메모리를 공유하는것은 매우 쉽다. 우리는 위 코드에서 `update` 변수를 정의하여 어레이 w에 for 루프의 각 시행 후 1.0을 더하는 시행을 했다. 우리가 어떤 변수에 대해 업데이트 하고 어떻게 할지 정의한 이후, 우리는 이 정보를 `update` 파라메터(theano.function 컴파일러의)로 넘겼다."
   ]
  },
  {
   "cell_type": "markdown",
   "metadata": {},
   "source": [
    "다른 트릭으로는 `givens` 변수를 사용해 컴파일 하기 전에 그래프에 변수를 insert하는 것이다. 이 접근을 사용해 RAM에서 GPU로 가는 전송의 숫자를 줄여 알고리즘의 학습을 빠르게 할 수 있다(shared variable 사용). 만약 우리가 `theano.function`의 `inputs` 파라메터를 이용해 한 데이터셋을 gradient descent를 이용해 여러번 학습시킬 때, 데이터는 CPU에서 GPU로 몇번에 걸쳐 전송된다. `givens`를 통해 우리는 데이터셋을 메모리가 허용하는 한 GPU에 계속 놔 둘 수 있다. 코드는 다음과 같다."
   ]
  },
  {
   "cell_type": "code",
   "execution_count": 9,
   "metadata": {
    "collapsed": false
   },
   "outputs": [
    {
     "name": "stdout",
     "output_type": "stream",
     "text": [
      "z: [[ 0.]]\n",
      "z: [[ 6.]]\n",
      "z: [[ 12.]]\n",
      "z: [[ 18.]]\n",
      "z: [[ 24.]]\n"
     ]
    }
   ],
   "source": [
    "# initialize\n",
    "data = np.array([[1, 2, 3]], dtype=theano.config.floatX)\n",
    "x = T.fmatrix('x')\n",
    "w = theano.shared(np.asarray([[0.0, 0.0, 0.0]], dtype=theano.config.floatX))\n",
    "z = x.dot(w.T)\n",
    "update = [[w, w + 1.0]]\n",
    "\n",
    "# compile\n",
    "net_input = theano.function(inputs=[], updates=update, givens={x: data}, outputs=z)\n",
    "\n",
    "# execute\n",
    "for i in range(5):\n",
    "    print('z:', net_input())"
   ]
  },
  {
   "cell_type": "markdown",
   "metadata": {},
   "source": [
    "위 코드를 보면, `givens` attribute는 파이썬 dictionary이다 (variable nap - python object) 여기서 우리는 `fmatrix`를 정의할때 이를 사용했다."
   ]
  },
  {
   "cell_type": "markdown",
   "metadata": {},
   "source": [
    "## Wrapping things up - a linear regression example"
   ]
  },
  {
   "cell_type": "markdown",
   "metadata": {},
   "source": [
    "OLS regression 해보자. "
   ]
  },
  {
   "cell_type": "code",
   "execution_count": 10,
   "metadata": {
    "collapsed": true
   },
   "outputs": [],
   "source": [
    "X_train = np.asarray([[0.0], [1.0],\n",
    "                        [2.0], [3.0],\n",
    "                        [4.0], [5.0],\n",
    "                        [6.0], [7.0],\n",
    "                        [8.0], [9.0]],\n",
    "                        dtype=theano.config.floatX)\n",
    "\n",
    "y_train = np.asarray([1.0, 1.3,\n",
    "                        3.1, 2.0,\n",
    "                        5.0, 6.3,\n",
    "                        6.6, 7.4,\n",
    "                        8.0, 9.0],\n",
    "                        dtype=theano.config.floatX)"
   ]
  },
  {
   "cell_type": "markdown",
   "metadata": {},
   "source": [
    "우리가 numpy 어레이를 만들때 `theano.config.floatX`를 사용하고 있음을 인지해야 우리가 원할 때 CPU 와 GPU를 바꿀 수 있다.\n",
    "\n",
    "다음으로, training function을 만들어 보자. "
   ]
  },
  {
   "cell_type": "code",
   "execution_count": 15,
   "metadata": {
    "collapsed": false
   },
   "outputs": [],
   "source": [
    "import theano\n",
    "from theano import tensor as T\n",
    "import numpy as np\n",
    "\n",
    "def train_linreg(X_train, y_train, eta, epochs):\n",
    "    costs = []\n",
    "\n",
    "    # Initialize arrays\n",
    "    eta0 = T.fscalar('eta0')\n",
    "    y = T.fvector(name='y')\n",
    "    X = T.fmatrix(name='X')\n",
    "    w = theano.shared(np.zeros(\n",
    "                        shape=(X_train.shape[1] + 1),\n",
    "                        dtype=theano.config.floatX),\n",
    "                        name='w')\n",
    "\n",
    "    # calculate cost\n",
    "    net_input = T.dot(X, w[1:]) + w[0]\n",
    "    errors = y - net_input\n",
    "    cost = T.sum(T.pow(errors, 2))\n",
    "\n",
    "    # perform gradient update\n",
    "    gradient = T.grad(cost, wrt=w)\n",
    "    update = [(w, w - eta0 * gradient)]\n",
    "\n",
    "    # compile model\n",
    "    train = theano.function(inputs=[eta0],\n",
    "                                outputs=cost,\n",
    "                                updates=update,\n",
    "                                givens={X: X_train, y: y_train,})\n",
    "\n",
    "    for _ in range(epochs):\n",
    "        costs.append(train(eta))\n",
    "\n",
    "    return costs, w"
   ]
  },
  {
   "cell_type": "markdown",
   "metadata": {},
   "source": [
    "Theano의 좋은 특징은 `grad`함수이다. 이 함수는 자동적으로 `wrt` 아규먼트로 전달된 w를 이의 파라메터들에 따라 미분한다.\n",
    "\n",
    "학습 함수를 실행시고 나서, 우리의 선형회귀 모델을 학습시키고 SSE 비용함수를 확인해보자."
   ]
  },
  {
   "cell_type": "code",
   "execution_count": 16,
   "metadata": {
    "collapsed": false
   },
   "outputs": [
    {
     "data": {
      "image/png": "[encoded data removed]",
      "text/plain": [
       "<matplotlib.figure.Figure at 0x119243358>"
      ]
     },
     "metadata": {},
     "output_type": "display_data"
    }
   ],
   "source": [
    "import matplotlib.pyplot as plt\n",
    "costs, w = train_linreg(X_train, y_train, eta=0.001, epochs=10)\n",
    "plt.plot(range(1, len(costs)+1), costs)\n",
    "plt.tight_layout()\n",
    "plt.xlabel('Epoch')\n",
    "plt.ylabel('Cost')\n",
    "plt.show()"
   ]
  },
  {
   "cell_type": "markdown",
   "metadata": {
    "collapsed": true
   },
   "source": [
    "이제 새로운 함수를 컴파일해 예측을 해보자."
   ]
  },
  {
   "cell_type": "code",
   "execution_count": 18,
   "metadata": {
    "collapsed": false
   },
   "outputs": [],
   "source": [
    "def predict_linreg(X, w):\n",
    "    Xt = T.matrix(name='X')\n",
    "    net_input = T.dot(Xt, w[1:]) + w[0]\n",
    "    predict = theano.function(inputs=[Xt],\n",
    "                                givens={w: w},\n",
    "                                outputs=net_input)\n",
    "\n",
    "    return predict(X)"
   ]
  },
  {
   "cell_type": "code",
   "execution_count": 19,
   "metadata": {
    "collapsed": false
   },
   "outputs": [
    {
     "data": {
      "image/png": "[encoded data removed]",
      "text/plain": [
       "<matplotlib.figure.Figure at 0x11a2ea5c0>"
      ]
     },
     "metadata": {},
     "output_type": "display_data"
    }
   ],
   "source": [
    "plt.scatter(X_train, y_train, marker='s', s=50)\n",
    "plt.plot(range(X_train.shape[0]),\n",
    "                predict_linreg(X_train, w),\n",
    "                color='gray',\n",
    "                marker='o',\n",
    "                markersize=4,\n",
    "                linewidth=3)\n",
    "\n",
    "plt.xlabel('x')\n",
    "plt.ylabel('y')\n",
    "plt.show()"
   ]
  },
  {
   "cell_type": "markdown",
   "metadata": {
    "collapsed": true
   },
   "source": [
    "## Choosing activation functions for feedfoward neural networks"
   ]
  },
  {
   "cell_type": "markdown",
   "metadata": {
    "collapsed": true
   },
   "source": [
    "단순한 설명을 위해 이제까지는 sigmoid activation function으로만 신경망 feedforward를 해왔다. 우리가 이 activation function을 sigmoid라고 부름에도, 더 정확한 정의는 logistic function이나 negative log-likelihood function이다. 다음 장부터는 sigmoid말고 다른 것들이 뭐가 있는지 알아 볼 것이다.\n",
    "\n"
   ]
  },
  {
   "cell_type": "markdown",
   "metadata": {
    "collapsed": true
   },
   "source": [
    "기술적으로, 사실 멀티레이어 신경망에서 activation function은 미분 가능하기만 하면 다 쓸수 있다. 심지어 선형적인 것도. 하지만 실제로는 선형함수를 적용시키는 것은 전혀 쓸모가 없다. nonlinearity 만들려고 하는데 그걸 만들지 못하니까.\n",
    "\n",
    "logistic activation 함수는 우리 뇌에 있는 뉴런의 concept과 매우 닮았다. 우리는 이를 마치 neuron이 fire or not 하는 확률로 생각할수 있기 때문이다. 하지만 로지스틱 activation function은 우리가 너무 큰 음의 값을 가지는 인풋을 가질 때 문제가 되는데, sigmoid의 아웃풋이 거의 0 에 가깝게 되기 때문이다. 이는 곧 신경망이 학습을 빨리 하지 못한다는 것이고, 곧 local minima에 빠질수도 있음을 의미한다. 이는 사람들이 **hyperbolic tangent**를 히든 레이어의 activation 함수로 선호하는 이유이다. "
   ]
  }
 ],
 "metadata": {
  "kernelspec": {
   "display_name": "Python 3",
   "language": "python",
   "name": "python3"
  },
  "language_info": {
   "codemirror_mode": {
    "name": "ipython",
    "version": 3
   },
   "file_extension": ".py",
   "mimetype": "text/x-python",
   "name": "python",
   "nbconvert_exporter": "python",
   "pygments_lexer": "ipython3",
   "version": "3.6.0"
  }
 },
 "nbformat": 4,
 "nbformat_minor": 2
}
