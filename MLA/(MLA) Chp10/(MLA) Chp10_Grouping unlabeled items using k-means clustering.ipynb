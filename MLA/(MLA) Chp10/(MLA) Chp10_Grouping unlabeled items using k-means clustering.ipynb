{
 "cells": [
  {
   "cell_type": "markdown",
   "metadata": {},
   "source": [
    "# Chp10. Grouping unlabeled items using k-means clustering\n",
    "\n",
    "- **발표자 : 정지원**\n",
    "- **날짜 : 2017.2.18(토)**\n",
    "\n",
    "---\n",
    "\n",
    "### ** This chapter covers **\n",
    "- The k-means clustering algorithm\n",
    "- Cluster postprocessing\n",
    "- Bisecting k-means\n",
    "- Clustering geographic points"
   ]
  },
  {
   "cell_type": "markdown",
   "metadata": {},
   "source": [
    "예전 미국 대선 때의 이야기다. 가장 많은 표를 얻은 주가 50.7%였다. 그리고 가장 낮은 득표율이 47.9%다. 만약에 퍼센트가 조금이라도 변한다면 선거의 결과 자체가 달라질 수도 있다는 얘기다. 자신을 지지하지 않는 소수의 사람의 마음을 바꿔 놓는다면, 결과가 바뀔 수도 있다. 그렇다면 그러한 그룹을 어떻게 찾을까? 그래서 어떻게 제한된 예산으로 그들의 마음을 바꿀까? 정답은 _clustering_에 있다.\n",
    "\n",
    "어떻게 클러스터링을 하면 될까? 먼저 사람들의 정보를 통하여 그들이 어떻게 투표를 하는지에 대해 살펴봐야 한다. 그리고 그 사람들의 정보를 클러스터링 한 후, 어느 그룹에 메시지를 전달하는 것이 가장 좋을지를 결정하면 된다.\n",
    "\n",
    "클러스터링은 유사한 것들끼리 자동으로 클러스터링을 형성하게 해주는 비지도학습(unsupervised learning)이다. 클러스터는 클러스터 내에 유사한 것들이 모이면 모일수록 좋아진다고 할 수 있다. 이번 챕터에서, _k-means_라 불리는 클러스터링 알고리즘에 대해 공부한다. _k-means_는 _k_개의 unique clusters를 구해준다. 클러스터안의 value의 평균이 클러스터 중심점이다.\n",
    "\n",
    "데이터가 있다고 하자. 유사한 것들끼리 묶고 그룹에 대해 구하려면 어떻게 해야할까? classification는 무엇을 찾고 싶어하는지를 알고 행하는 반면에, clustering은 그렇지 않다. 또한 predefined classes도 가지고 있지 않다. 그래서 clustering을 _unsupervised classification_이라고도 한다.\n",
    "\n",
    "클러스터분석에서 우리는 유사한 것들을 같은 클러스터에, 유사하지 않은 것들을 다른 클러스터에 놓고 싶어한다. 여기서 similarity는 유사도 측정을 통해 구해진다. 이전 챕터에서는 좀 다른 similarity measure을 봤을텐데, 이는 뒤에 챕터에서도 나오는 것이고 어디에 적용하냐에 따라 다르게 쓰인다.\n",
    "\n",
    "k-means 알고리즘을 더 자세히 살펴보자."
   ]
  },
  {
   "cell_type": "markdown",
   "metadata": {},
   "source": [
    "## 10.1 The k-means clustering algorithm\n",
    "\n",
    "![Images](figures/1.png)\n",
    "\n",
    "k-means는 주어진 데이터에서 k개의 clusters를 찾는 것이다. k는 user가 정해주면 된다. 각 클러스터마다 _centroid_라 부르는 하나의 점이 존재한다. Centroid는 그 클러스터내의 모든 점들의 center를 의미한다.\n",
    "\n",
    "k-means 알고리즘은 다음과 같이 작동한다. 먼저 k개의 centroids를 랜덤하게 정한다. 그리고서 각 점들을 하나의 클러스터에 대응시킨다. 대응은 가장 가까운 centroids의 cluster에 속하도록 한다. 이 과정을 거친 후 centroids는 모두 업데이트가 된다.\n",
    "\n",
    "![Images](figures/2.png)\n",
    "\n",
    "여기서 가장 가까운 centroid라는 것이 어떻게 정의되는지 생각해보자. 이는 몇 가지의 distance measure를 함축한다. k-means의 성능은 이렇게 사용한 distance measure에 의해 결정된다. 코드를 짜기 전에, 다음을 보자."
   ]
  },
  {
   "cell_type": "code",
   "execution_count": 1,
   "metadata": {
    "code_folding": [],
    "collapsed": false
   },
   "outputs": [],
   "source": [
    "from numpy import *\n",
    "\n",
    "def loadDataSet(fileName):\n",
    "    dataMat = []\n",
    "    fr = open(fileName)\n",
    "    for line in fr.readlines():\n",
    "        curLine = line.strip().split('\\t')\n",
    "        fltLine = map(float,curLine)\n",
    "        dataMat.append(fltLine)\n",
    "    return dataMat\n",
    "\n",
    "def distEclud(vecA, vecB):\n",
    "    return sqrt(sum(power(vecA - vecB, 2)))\n",
    "\n",
    "def randCent(dataSet, k):\n",
    "    n = shape(dataSet)[1]\n",
    "    centroids = mat(zeros((k,n)))\n",
    "    for j in range(n):\n",
    "        minJ = min(dataSet[:,j])\n",
    "        rangeJ = float(max(dataSet[:,j]) - minJ)\n",
    "        centroids[:,j] = minJ + rangeJ * random.rand(k,1)\n",
    "    return centroids"
   ]
  },
  {
   "cell_type": "code",
   "execution_count": 2,
   "metadata": {
    "collapsed": false,
    "scrolled": true
   },
   "outputs": [
    {
     "data": {
      "text/plain": [
       "matrix([[ 1.658985,  4.285136],\n",
       "        [-3.453687,  3.424321],\n",
       "        [ 4.838138, -1.151539],\n",
       "        [-5.379713, -3.362104],\n",
       "        [ 0.972564,  2.924086],\n",
       "        [-3.567919,  1.531611],\n",
       "        [ 0.450614, -3.302219],\n",
       "        [-3.487105, -1.724432],\n",
       "        [ 2.668759,  1.594842],\n",
       "        [-3.156485,  3.191137],\n",
       "        [ 3.165506, -3.999838],\n",
       "        [-2.786837, -3.099354],\n",
       "        [ 4.208187,  2.984927],\n",
       "        [-2.123337,  2.943366],\n",
       "        [ 0.704199, -0.479481],\n",
       "        [-0.39237 , -3.963704],\n",
       "        [ 2.831667,  1.574018],\n",
       "        [-0.790153,  3.343144],\n",
       "        [ 2.943496, -3.357075],\n",
       "        [-3.195883, -2.283926],\n",
       "        [ 2.336445,  2.875106],\n",
       "        [-1.786345,  2.554248],\n",
       "        [ 2.190101, -1.90602 ],\n",
       "        [-3.403367, -2.778288],\n",
       "        [ 1.778124,  3.880832],\n",
       "        [-1.688346,  2.230267],\n",
       "        [ 2.592976, -2.054368],\n",
       "        [-4.007257, -3.207066],\n",
       "        [ 2.257734,  3.387564],\n",
       "        [-2.679011,  0.785119],\n",
       "        [ 0.939512, -4.023563],\n",
       "        [-3.674424, -2.261084],\n",
       "        [ 2.046259,  2.735279],\n",
       "        [-3.18947 ,  1.780269],\n",
       "        [ 4.372646, -0.822248],\n",
       "        [-2.579316, -3.497576],\n",
       "        [ 1.889034,  5.1904  ],\n",
       "        [-0.798747,  2.185588],\n",
       "        [ 2.83652 , -2.658556],\n",
       "        [-3.837877, -3.253815],\n",
       "        [ 2.096701,  3.886007],\n",
       "        [-2.709034,  2.923887],\n",
       "        [ 3.367037, -3.184789],\n",
       "        [-2.121479, -4.232586],\n",
       "        [ 2.329546,  3.179764],\n",
       "        [-3.284816,  3.273099],\n",
       "        [ 3.091414, -3.815232],\n",
       "        [-3.762093, -2.432191],\n",
       "        [ 3.542056,  2.778832],\n",
       "        [-1.736822,  4.241041],\n",
       "        [ 2.127073, -2.98368 ],\n",
       "        [-4.323818, -3.938116],\n",
       "        [ 3.792121,  5.135768],\n",
       "        [-4.786473,  3.358547],\n",
       "        [ 2.624081, -3.260715],\n",
       "        [-4.009299, -2.978115],\n",
       "        [ 2.493525,  1.96371 ],\n",
       "        [-2.513661,  2.642162],\n",
       "        [ 1.864375, -3.176309],\n",
       "        [-3.171184, -3.572452],\n",
       "        [ 2.89422 ,  2.489128],\n",
       "        [-2.562539,  2.884438],\n",
       "        [ 3.491078, -3.947487],\n",
       "        [-2.565729, -2.012114],\n",
       "        [ 3.332948,  3.983102],\n",
       "        [-1.616805,  3.573188],\n",
       "        [ 2.280615, -2.559444],\n",
       "        [-2.651229, -3.103198],\n",
       "        [ 2.321395,  3.154987],\n",
       "        [-1.685703,  2.939697],\n",
       "        [ 3.031012, -3.620252],\n",
       "        [-4.599622, -2.185829],\n",
       "        [ 4.196223,  1.126677],\n",
       "        [-2.133863,  3.093686],\n",
       "        [ 4.668892, -2.562705],\n",
       "        [-2.793241, -2.149706],\n",
       "        [ 2.884105,  3.043438],\n",
       "        [-2.967647,  2.848696],\n",
       "        [ 4.479332, -1.764772],\n",
       "        [-4.905566, -2.91107 ]])"
      ]
     },
     "execution_count": 2,
     "metadata": {},
     "output_type": "execute_result"
    }
   ],
   "source": [
    "datMat = mat(loadDataSet('testSet.txt'))\n",
    "datMat"
   ]
  },
  {
   "cell_type": "code",
   "execution_count": 3,
   "metadata": {
    "collapsed": false
   },
   "outputs": [
    {
     "data": {
      "text/plain": [
       "(80, 2)"
      ]
     },
     "execution_count": 3,
     "metadata": {},
     "output_type": "execute_result"
    }
   ],
   "source": [
    "datMat.shape"
   ]
  },
  {
   "cell_type": "code",
   "execution_count": 4,
   "metadata": {
    "collapsed": false
   },
   "outputs": [
    {
     "data": {
      "text/plain": [
       "matrix([[-5.379713]])"
      ]
     },
     "execution_count": 4,
     "metadata": {},
     "output_type": "execute_result"
    }
   ],
   "source": [
    "min(datMat[:,0])"
   ]
  },
  {
   "cell_type": "code",
   "execution_count": 5,
   "metadata": {
    "collapsed": false
   },
   "outputs": [
    {
     "data": {
      "text/plain": [
       "matrix([[-4.232586]])"
      ]
     },
     "execution_count": 5,
     "metadata": {},
     "output_type": "execute_result"
    }
   ],
   "source": [
    "min(datMat[:,1])"
   ]
  },
  {
   "cell_type": "code",
   "execution_count": 6,
   "metadata": {
    "collapsed": false
   },
   "outputs": [
    {
     "data": {
      "text/plain": [
       "matrix([[ 5.1904]])"
      ]
     },
     "execution_count": 6,
     "metadata": {},
     "output_type": "execute_result"
    }
   ],
   "source": [
    "max(datMat[:,1])"
   ]
  },
  {
   "cell_type": "code",
   "execution_count": 7,
   "metadata": {
    "collapsed": false
   },
   "outputs": [
    {
     "data": {
      "text/plain": [
       "matrix([[ 4.838138]])"
      ]
     },
     "execution_count": 7,
     "metadata": {},
     "output_type": "execute_result"
    }
   ],
   "source": [
    "max(datMat[:,0])"
   ]
  },
  {
   "cell_type": "code",
   "execution_count": 8,
   "metadata": {
    "collapsed": false
   },
   "outputs": [
    {
     "data": {
      "text/plain": [
       "matrix([[ 3.1858579 ,  1.54257277],\n",
       "        [ 2.13382358, -2.2321309 ]])"
      ]
     },
     "execution_count": 8,
     "metadata": {},
     "output_type": "execute_result"
    }
   ],
   "source": [
    "randCent(datMat, 2)"
   ]
  },
  {
   "cell_type": "code",
   "execution_count": 9,
   "metadata": {
    "collapsed": false
   },
   "outputs": [
    {
     "data": {
      "text/plain": [
       "5.184632816681332"
      ]
     },
     "execution_count": 9,
     "metadata": {},
     "output_type": "execute_result"
    }
   ],
   "source": [
    "distEclud(datMat[0], datMat[1])"
   ]
  },
  {
   "cell_type": "code",
   "execution_count": 10,
   "metadata": {
    "collapsed": true
   },
   "outputs": [],
   "source": [
    "def kMeans(dataSet, k, distMeas=distEclud, createCent=randCent):\n",
    "    m = shape(dataSet)[0]\n",
    "    clusterAssment = mat(zeros((m,2)))#create mat to assign data points \n",
    "                                      #to a centroid, also holds SE of each point\n",
    "    centroids = createCent(dataSet, k)\n",
    "    clusterChanged = True\n",
    "    while clusterChanged:\n",
    "        clusterChanged = False\n",
    "        for i in range(m):#for each data point assign it to the closest centroid\n",
    "            minDist = inf; minIndex = -1\n",
    "            for j in range(k):\n",
    "                distJI = distMeas(centroids[j,:],dataSet[i,:])\n",
    "                if distJI < minDist:\n",
    "                    minDist = distJI; minIndex = j\n",
    "            if clusterAssment[i,0] != minIndex: clusterChanged = True\n",
    "            clusterAssment[i,:] = minIndex,minDist**2\n",
    "        print centroids\n",
    "        for cent in range(k):#recalculate centroids\n",
    "            ptsInClust = dataSet[nonzero(clusterAssment[:,0].A==cent)[0]]#get all the point in this cluster\n",
    "            centroids[cent,:] = mean(ptsInClust, axis=0) #assign centroid to mean \n",
    "    return centroids, clusterAssment"
   ]
  },
  {
   "cell_type": "markdown",
   "metadata": {},
   "source": [
    "clusterAssment는 (m*2) 행렬이다. 2개의 columns중 하나는 어느 클러스터에 속할지 인덱스를 저장, 하나는 Squared Error를 보관한다.\n",
    "\n",
    "clusterChanged를 비교하여 클러스터가 변하는 것이 하나라도 존재하면 true값을 갖게 된다. for문을 돌면서 하나도 변하지 않는다면 더 이상의 변화가 없으므로 while문을 종료한다.\n",
    "\n",
    "![Images](figures/3.png)\n",
    "\n",
    "마침내 루프를 돌고 모두 업데이트가 된다. centroids는 cluster의 all value의 mean값을 갖게 된다."
   ]
  },
  {
   "cell_type": "code",
   "execution_count": 11,
   "metadata": {
    "collapsed": true
   },
   "outputs": [],
   "source": [
    "datMat = mat(loadDataSet('testSet.txt'))"
   ]
  },
  {
   "cell_type": "code",
   "execution_count": 12,
   "metadata": {
    "collapsed": false
   },
   "outputs": [
    {
     "name": "stdout",
     "output_type": "stream",
     "text": [
      "[[ 2.81437545 -1.48639819]\n",
      " [-0.06141975  0.25932728]\n",
      " [ 1.58362351  2.87148742]\n",
      " [-1.35838578  3.16880918]]\n",
      "[[ 2.81706052 -2.71370657]\n",
      " [-3.29665957 -2.60368495]\n",
      " [ 2.54391447  3.21299611]\n",
      " [-2.45009747  2.89275747]]\n",
      "[[ 2.80293085 -2.7315146 ]\n",
      " [-3.38237045 -2.9473363 ]\n",
      " [ 2.6265299   3.10868015]\n",
      " [-2.46154315  2.78737555]]\n"
     ]
    },
    {
     "data": {
      "text/plain": [
       "matrix([[ 2.80293085, -2.7315146 ],\n",
       "        [-3.38237045, -2.9473363 ],\n",
       "        [ 2.6265299 ,  3.10868015],\n",
       "        [-2.46154315,  2.78737555]])"
      ]
     },
     "execution_count": 12,
     "metadata": {},
     "output_type": "execute_result"
    }
   ],
   "source": [
    "myCentroids, clustAssing = kMeans(datMat,4)\n",
    "myCentroids"
   ]
  },
  {
   "cell_type": "code",
   "execution_count": 13,
   "metadata": {
    "collapsed": false,
    "scrolled": true
   },
   "outputs": [
    {
     "data": {
      "image/png": "[encoded data removed]",
      "text/plain": [
       "<matplotlib.figure.Figure at 0x10e496710>"
      ]
     },
     "metadata": {},
     "output_type": "display_data"
    }
   ],
   "source": [
    "import matplotlib.pyplot as plt\n",
    "%matplotlib inline\n",
    "\n",
    "plt.scatter([datMat[i,0] for i in range(80) if clustAssing[i,0] == 0.],[datMat[i,1] for i in range(80) if clustAssing[i,0] == 0.],color='r')\n",
    "plt.scatter([datMat[i,0] for i in range(80) if clustAssing[i,0] == 1.],[datMat[i,1] for i in range(80) if clustAssing[i,0] == 1.],color='b')\n",
    "plt.scatter([datMat[i,0] for i in range(80) if clustAssing[i,0] == 2.],[datMat[i,1] for i in range(80) if clustAssing[i,0] == 2.],color='y')\n",
    "plt.scatter([datMat[i,0] for i in range(80) if clustAssing[i,0] == 3.],[datMat[i,1] for i in range(80) if clustAssing[i,0] == 3.],color='g')\n",
    "plt.scatter([myCentroids[i,0] for i in range(4)],[myCentroids[i,1] for i in range(4)],marker='+',color='black')\n",
    "plt.show()"
   ]
  },
  {
   "cell_type": "markdown",
   "metadata": {},
   "source": [
    "4번 iterations 후에 끝난다.\n",
    "\n",
    "## 10.2 Improving cluster performance with postprocessing\n",
    "\n",
    "k는 user가 정해줬는데, 이 k가 얼마나 right한가? 우리는 어떤 클러스터를 보고 좋은 클러스터링이라 할 수 있는가? 좋은 클러스터는 각 점마다의 error를 통해 평가할 수 있다.\n",
    "\n",
    "아래 사진을 보자. k-means가 수렴하였다. 하지만 썩 좋아보이지 않는다. 이유는 global minimum이 아닌 local minimum에 수렴해버렸기 때문이다.\n",
    "\n",
    "![Images](figures/4.png)\n",
    "\n",
    "SSE(sum of squared error)를 통하여 클러스터 할당이 잘 됐는지를 평가한다. 이 값들은 작을수록 더 좋은 클러스터링이라 할 수 있다. 이 값을 줄이려면? 단순히 클러스터의 수를 늘리면 된다. 하지만 그러면 우리의 주 목적(클러스터:의미있는 집단을 찾는 것)이랑 상반된다. 그렇다면 k의 값은 유지하면서 SSE를 줄이기 위한 방법은 무엇이 있을까?\n",
    "\n",
    "후처리를 해줄수도 있다. 가장 높은 SSE값을 갖는 클러스터를 2개의 클러스터로 나누는 것이다. 그 클러스터를 따로 받아서 k=2인 클러스터링을 하면 된다.\n",
    "\n",
    "다시 원래대로 돌리려면 merge하면 된다. 우리는 위 그림에서 잘못된 centroids를 쉽게 볼 수 있다. 하지만 이것은 2차원이라 그런데, 만약 40차원이라면 어쩔 것인가?\n",
    "\n",
    "(1)가장 가까운 centroids를 merge하거나 (2)total SSE를 가장 줄여줄 수 있는 두 centroids를 merge하는 방식이 있다. (1)은 모든 centroids 사이의 거리를 구해보면 되고, (2)는 모든 경우의 수(pairs)의 total SSE를 비교해보는 것이다.\n",
    "\n",
    "## 10.3 Bisecting k-means\n",
    "\n",
    "위와 같이 k-means 알고리즘이 local minimum에 빠지는 문제를 극복하기 위해 또 다른 알고리즘이 개발됐다. _bisecting k-means_는 하나의 클러스터로 시작해서 2개로 나눈다. 그러고서 어떤 cluster를 split할지 정한다. SSE를 minimize하는 방향으로 선택하게 된다. 이 알고리즘은 user가 정한 k개의 clusters로 나눠질 때까지 계속해서 split하게 된다.\n",
    "\n",
    "또 다른 방법은 largest SSE를 갖는 cluster를 선택하고 이것이 k개의 clusters가 될 때까지 split하는 것이다. 다음 코드를 살펴보자."
   ]
  },
  {
   "cell_type": "code",
   "execution_count": 14,
   "metadata": {
    "collapsed": true
   },
   "outputs": [],
   "source": [
    "def biKmeans(dataSet, k, distMeas=distEclud):\n",
    "    m = shape(dataSet)[0]\n",
    "    clusterAssment = mat(zeros((m,2)))\n",
    "    centroid0 = mean(dataSet, axis=0).tolist()[0]\n",
    "    centList =[centroid0] #create a list with one centroid\n",
    "    for j in range(m):#calc initial Error\n",
    "        clusterAssment[j,1] = distMeas(mat(centroid0), dataSet[j,:])**2\n",
    "    while (len(centList) < k):\n",
    "        lowestSSE = inf\n",
    "        for i in range(len(centList)):\n",
    "            ptsInCurrCluster = dataSet[nonzero(clusterAssment[:,0].A==i)[0],:]#get the data points currently in cluster i\n",
    "            centroidMat, splitClustAss = kMeans(ptsInCurrCluster, 2, distMeas)\n",
    "            sseSplit = sum(splitClustAss[:,1])#compare the SSE to the currrent minimum\n",
    "            sseNotSplit = sum(clusterAssment[nonzero(clusterAssment[:,0].A!=i)[0],1])\n",
    "            print \"sseSplit, and notSplit: \",sseSplit,sseNotSplit\n",
    "            if (sseSplit + sseNotSplit) < lowestSSE:\n",
    "                bestCentToSplit = i\n",
    "                bestNewCents = centroidMat\n",
    "                bestClustAss = splitClustAss.copy()\n",
    "                lowestSSE = sseSplit + sseNotSplit\n",
    "        bestClustAss[nonzero(bestClustAss[:,0].A == 1)[0],0] = len(centList) #change 1 to 3,4, or whatever\n",
    "        bestClustAss[nonzero(bestClustAss[:,0].A == 0)[0],0] = bestCentToSplit\n",
    "        print 'the bestCentToSplit is: ',bestCentToSplit\n",
    "        print 'the len of bestClustAss is: ', len(bestClustAss)\n",
    "        centList[bestCentToSplit] = bestNewCents[0,:].tolist()[0]#replace a centroid with two best centroids \n",
    "        centList.append(bestNewCents[1,:].tolist()[0])\n",
    "        clusterAssment[nonzero(clusterAssment[:,0].A == bestCentToSplit)[0],:]= bestClustAss#reassign new clusters, and SSE\n",
    "    return mat(centList), clusterAssment"
   ]
  },
  {
   "cell_type": "markdown",
   "metadata": {},
   "source": [
    "우선 전체 데이터셋을 통하여 하나의 centroid를 정한다. 정해진 것을 가지고 all data에 대해 centroid와 error를 구해준 후 시작한다.\n",
    "\n",
    "while루프를 돌면서 kMeans 함수를 통해 클러스터링을 해준다. 원하는 k개로 나눠질 때까지 실행한다. 처음에는 lowest SSE를 infinity로 설정한다. k-means를 통해 2개의 new centroids와 SSE를 얻을 수 있다. 계속해서 while문을 돌면서 lowest SSE를 반환하는 split을 찾는다. 마침내 새로운 cluster assignment를 정하게 되면, _centList_에 append하게 된다.\n",
    "\n",
    "while 루프가 끝나면, 원하는 centroid list와 cluster assignments를 얻을 수 있다."
   ]
  },
  {
   "cell_type": "code",
   "execution_count": 15,
   "metadata": {
    "collapsed": false
   },
   "outputs": [],
   "source": [
    "datMat3=mat(loadDataSet('testSet2.txt'))"
   ]
  },
  {
   "cell_type": "code",
   "execution_count": 16,
   "metadata": {
    "collapsed": false,
    "scrolled": true
   },
   "outputs": [
    {
     "name": "stdout",
     "output_type": "stream",
     "text": [
      "[[-0.65381793  2.23434163]\n",
      " [-3.06858565  2.35140363]]\n",
      "[[ 1.12342729  0.311763  ]\n",
      " [-3.14707283  3.35698672]]\n",
      "[[ 1.23710375  0.17480612]\n",
      " [-2.94737575  3.3263781 ]]\n",
      "sseSplit, and notSplit:  570.722757425 0.0\n",
      "the bestCentToSplit is:  0\n",
      "the len of bestClustAss is:  60\n",
      "[[-1.70953483 -3.33248341]\n",
      " [ 4.10495908  1.54478148]]\n",
      "[[-0.45965615 -2.7782156 ]\n",
      " [ 2.93386365  3.12782785]]\n",
      "sseSplit, and notSplit:  68.6865481262 38.0629506357\n",
      "[[-3.18228204  3.88171658]\n",
      " [-3.50097264  4.28406847]]\n",
      "[[-2.60978588  3.02149719]\n",
      " [-4.29773525  4.54590175]]\n",
      "sseSplit, and notSplit:  21.5094070749 532.659806789\n",
      "the bestCentToSplit is:  0\n",
      "the len of bestClustAss is:  40\n"
     ]
    }
   ],
   "source": [
    "centList,myNewAssments=biKmeans(datMat3,3)"
   ]
  },
  {
   "cell_type": "code",
   "execution_count": 17,
   "metadata": {
    "collapsed": false
   },
   "outputs": [
    {
     "data": {
      "text/plain": [
       "matrix([[-0.45965615, -2.7782156 ],\n",
       "        [-2.94737575,  3.3263781 ],\n",
       "        [ 2.93386365,  3.12782785]])"
      ]
     },
     "execution_count": 17,
     "metadata": {},
     "output_type": "execute_result"
    }
   ],
   "source": [
    "centList"
   ]
  },
  {
   "cell_type": "code",
   "execution_count": 18,
   "metadata": {
    "collapsed": false
   },
   "outputs": [
    {
     "data": {
      "text/plain": [
       "(60, 2)"
      ]
     },
     "execution_count": 18,
     "metadata": {},
     "output_type": "execute_result"
    }
   ],
   "source": [
    "myNewAssments.shape"
   ]
  },
  {
   "cell_type": "code",
   "execution_count": 19,
   "metadata": {
    "collapsed": false
   },
   "outputs": [
    {
     "data": {
      "image/png": "[encoded data removed]",
      "text/plain": [
       "<matplotlib.figure.Figure at 0x10a9047d0>"
      ]
     },
     "metadata": {},
     "output_type": "display_data"
    }
   ],
   "source": [
    "import matplotlib.pyplot as plt\n",
    "%matplotlib inline\n",
    "\n",
    "plt.scatter([datMat3[i,0] for i in range(60) if myNewAssments[i,0] == 0.],[datMat3[i,1] for i in range(60) if myNewAssments[i,0] == 0.],color='r')\n",
    "plt.scatter([datMat3[i,0] for i in range(60) if myNewAssments[i,0] == 1.],[datMat3[i,1] for i in range(60) if myNewAssments[i,0] == 1.],color='b')\n",
    "plt.scatter([datMat3[i,0] for i in range(60) if myNewAssments[i,0] == 2.],[datMat3[i,1] for i in range(60) if myNewAssments[i,0] == 2.],color='y')\n",
    "plt.scatter([datMat3[i,0] for i in range(60) if myNewAssments[i,0] == 3.],[datMat3[i,1] for i in range(60) if myNewAssments[i,0] == 3.],color='g')\n",
    "plt.scatter([centList[i,0] for i in range(3)],[centList[i,1] for i in range(3)],marker='+',color='black')\n",
    "plt.show()"
   ]
  },
  {
   "cell_type": "markdown",
   "metadata": {},
   "source": [
    "![Image](figures/5.png)\n",
    "\n",
    "## 10.4 Example: clustering points on a map\n",
    "\n",
    "친구인 Drew가 생일이라 town을 구경하길 원한다. 70곳의 가고싶은 지역 리스트를 내게 줬다. 클러스터링을 해서 생각해보려 했는데, 주소가 위도/경도 좌표가 아닌 주소기 때문에 거리를 계산할 수가 없다. 위도와 경도를 얻기 위해 어떻게 해야할까?\n",
    "\n",
    "![Image](figures/6.png)\n",
    "\n",
    "address를 latitude와 longitude로 바꿔주는 서비스가 필요하다. Yahoo가 제공한다.\n",
    "\n",
    "### 10.4.1 The Yahoo! PlaceFinder API\n",
    "\n",
    "The wonderful people at Yahoo! have provided a free API that will return a latitude and longitude for a given address. You can read more about it at the following URL: http://developer.yahoo.com/geo/placefinder/guide/.\n",
    "In order to use it, you need to sign up for an API key. To do that, you have to sign up for the Yahoo! Developer Network: http://developer.yahoo.com/. Create a desk- top app and you’ll get an appid. You’re going to need the appid to use the geocoder. A geocoder takes an address and returns the latitude and longitude of that address. The code listing will wrap all this together. Open kMeans.py and add the code from the following listing."
   ]
  },
  {
   "cell_type": "code",
   "execution_count": 20,
   "metadata": {
    "collapsed": true
   },
   "outputs": [],
   "source": [
    "import urllib\n",
    "import json\n",
    "def geoGrab(stAddress, city):\n",
    "    apiStem = 'http://where.yahooapis.com/geocode?'  #create a dict and constants for the goecoder\n",
    "    params = {}\n",
    "    params['flags'] = 'J'#JSON return type\n",
    "    params['appid'] = 'dj0yJmk9Z0dJSW82VkE0YmR3JmQ9WVdrOVIycGhXRlJPTm5VbWNHbzlNQS0tJnM9Y29uc3VtZXJzZWNyZXQmeD1kMw--'\n",
    "    params['location'] = '%s %s' % (stAddress, city)\n",
    "    url_params = urllib.urlencode(params)\n",
    "    yahooApi = apiStem + url_params      #print url_params\n",
    "    print yahooApi\n",
    "    c=urllib.urlopen(yahooApi)\n",
    "    return json.loads(c.read())\n",
    "\n",
    "from time import sleep\n",
    "def massPlaceFind(fileName):\n",
    "    fw = open('places.txt', 'w')\n",
    "    for line in open(fileName).readlines():\n",
    "        line = line.strip()\n",
    "        lineArr = line.split('\\t')\n",
    "        retDict = geoGrab(lineArr[1], lineArr[2])\n",
    "        if retDict['ResultSet']['Error'] == 0:\n",
    "            lat = float(retDict['ResultSet']['Results'][0]['latitude'])\n",
    "            lng = float(retDict['ResultSet']['Results'][0]['longitude'])\n",
    "            print \"%s\\t%f\\t%f\" % (lineArr[0], lat, lng)\n",
    "            fw.write('%s\\t%f\\t%f\\n' % (line, lat, lng))\n",
    "        else: print \"error fetching\"\n",
    "        sleep(1)\n",
    "    fw.close()"
   ]
  },
  {
   "cell_type": "markdown",
   "metadata": {},
   "source": [
    "서비스 종료"
   ]
  },
  {
   "cell_type": "code",
   "execution_count": 21,
   "metadata": {
    "collapsed": false
   },
   "outputs": [],
   "source": [
    "#geoResults=geoGrab('1 VA Center', 'Augusta, ME')"
   ]
  },
  {
   "cell_type": "markdown",
   "metadata": {},
   "source": [
    "![Image](figures/7.png)"
   ]
  },
  {
   "cell_type": "code",
   "execution_count": 22,
   "metadata": {
    "collapsed": false
   },
   "outputs": [],
   "source": [
    "geoResults = {u'ResultSet': {u'Locale': u'us_US', u'ErrorMessage': u'No error', u'Results': [{u'neighborhood': u'', u'house': u'1', u'county': u'Kennebec County', u'street': u'Center St', u'radius': 500, u'quality': 85, u'unit': u'', u'city': u'Augusta', u'countrycode': u'US', u'woeid': 12759521, u'xstreet': u'', u'line4': u'United States', u'line3': u'', u'line2': u'Augusta, ME  04330-6410', u'line1': u'1 Center St', u'state': u'Maine', u'latitude': u'44.307661', u'hash': u'B8BE9F5EE764C449', u'unittype': u'', u'offsetlat': u'44.307656', u'statecode': u'ME', u'postal': u'04330-6410', u'name': u'', u'uzip': u'04330', u'country': u'United States', u'longitude': u'-69.776608', u'countycode': u'', u'offsetlon': u'-69.776528',u'woetype': 11}], u'version': u'1.0', u'Error': 0, u'Found': 1, u'Quality': 87}}"
   ]
  },
  {
   "cell_type": "code",
   "execution_count": 23,
   "metadata": {
    "collapsed": false
   },
   "outputs": [
    {
     "data": {
      "text/plain": [
       "0"
      ]
     },
     "execution_count": 23,
     "metadata": {},
     "output_type": "execute_result"
    }
   ],
   "source": [
    "geoResults['ResultSet']['Error']"
   ]
  },
  {
   "cell_type": "code",
   "execution_count": 24,
   "metadata": {
    "collapsed": false
   },
   "outputs": [
    {
     "data": {
      "text/plain": [
       "u'-69.776608'"
      ]
     },
     "execution_count": 24,
     "metadata": {},
     "output_type": "execute_result"
    }
   ],
   "source": [
    "geoResults['ResultSet']['Results'][0]['longitude']"
   ]
  },
  {
   "cell_type": "code",
   "execution_count": 25,
   "metadata": {
    "collapsed": false
   },
   "outputs": [
    {
     "data": {
      "text/plain": [
       "u'44.307661'"
      ]
     },
     "execution_count": 25,
     "metadata": {},
     "output_type": "execute_result"
    }
   ],
   "source": [
    "geoResults['ResultSet']['Results'][0]['latitude']"
   ]
  },
  {
   "cell_type": "code",
   "execution_count": 26,
   "metadata": {
    "collapsed": false
   },
   "outputs": [],
   "source": [
    "#massPlaceFind('portlandClubs.txt')"
   ]
  },
  {
   "cell_type": "markdown",
   "metadata": {},
   "source": [
    "### 10.4.2 Clustering geographic coordinates\n",
    "\n",
    "실제 위도/경도는 거리 계산을 정확하게 안해준다. 지구의 반지름 등을 따져서 정확한 거리를 계산해주는 코드가 다음과 같다."
   ]
  },
  {
   "cell_type": "code",
   "execution_count": 27,
   "metadata": {
    "collapsed": true
   },
   "outputs": [],
   "source": [
    "def distSLC(vecA, vecB):#Spherical Law of Cosines\n",
    "    a = sin(vecA[0,1]*pi/180) * sin(vecB[0,1]*pi/180)\n",
    "    b = cos(vecA[0,1]*pi/180) * cos(vecB[0,1]*pi/180) * cos(pi * (vecB[0,0]-vecA[0,0]) /180)\n",
    "    return arccos(a + b)*6371.0 #pi is imported with numpy\n",
    "\n",
    "import matplotlib.pyplot as plt\n",
    "def clusterClubs(numClust=5):\n",
    "    datList = []\n",
    "    for line in open('places.txt').readlines():\n",
    "        lineArr = line.split('\\t')\n",
    "        datList.append([float(lineArr[4]), float(lineArr[3])])\n",
    "    datMat = mat(datList)\n",
    "    myCentroids, clustAssing = biKmeans(datMat, numClust, distMeas=distSLC)\n",
    "    fig = plt.figure()\n",
    "    rect=[0.1,0.1,0.8,0.8]\n",
    "    scatterMarkers=['s', 'o', '^', '8', 'p', \\\n",
    "                    'd', 'v', 'h', '>', '<']\n",
    "    axprops = dict(xticks=[], yticks=[])\n",
    "    ax0=fig.add_axes(rect, label='ax0', **axprops)\n",
    "    imgP = plt.imread('Portland.png')\n",
    "    ax0.imshow(imgP)\n",
    "    ax1=fig.add_axes(rect, label='ax1', frameon=False)\n",
    "    for i in range(numClust):\n",
    "        ptsInCurrCluster = datMat[nonzero(clustAssing[:,0].A==i)[0],:]\n",
    "        markerStyle = scatterMarkers[i % len(scatterMarkers)]\n",
    "        ax1.scatter(ptsInCurrCluster[:,0].flatten().A[0], ptsInCurrCluster[:,1].flatten().A[0], marker=markerStyle, s=90)\n",
    "    ax1.scatter(myCentroids[:,0].flatten().A[0], myCentroids[:,1].flatten().A[0], marker='+', s=300)\n",
    "    plt.show()"
   ]
  },
  {
   "cell_type": "code",
   "execution_count": 28,
   "metadata": {
    "collapsed": false
   },
   "outputs": [],
   "source": [
    "#clusterClubs(5)"
   ]
  },
  {
   "cell_type": "markdown",
   "metadata": {},
   "source": [
    "![Image](figures/8.png)\n",
    "\n",
    "## 10.5 Summary\n",
    "\n",
    "클러스터링은 비지도학습(unsupervised learning)에서 사용되는 technique이다. 비지도학습은 무엇을 찾는지 모르므로 target variables이 없다. 유사한 것들을 같은 그룹으로, 유사하지 않은 것들을 다른 그룹으로 묶는 것이 클러스터링이다.\n",
    "\n",
    "널리 사용되는 k-means는 random한 centroids로 시작한다. 각 점들을 클러스터의 중심과 거리를 계산하며, 가장 가까운 클러스터에 배정시킨다. 클러스터는 새로 배정된 점들을 통해 mean을 구하여 새로 위치하게 된다. 이러한 과정이 cluster의 centroids가 변하지 않을 때까지 계속하여 진행된다. 더 좋은 클러스터링을 하기 위해서 bisecting k-means를 사용하였다. 1개의 큰 클러스터로 시작하여 클러스터가 k개가 될 때까지 계속하여 클러스터를 하나씩 추가해간다. 이때 가장 많은 Error를 갖는 클러스터를 선택하여 split하게 된다. 이 과정을 반복하면 k개의 클러스터가 생긴다.\n",
    "\n",
    "k-means와 이것의 파생물만이 유일한 클러스터링 알고리즘은 아니다. hierarchical clustering으로 알려진 클러스터링도 널리 쓰인다. 다음 챕터에서는 연관 규칙을 찾기 위한 Apriori 알고리즘을 배운다."
   ]
  }
 ],
 "metadata": {
  "anaconda-cloud": {},
  "kernelspec": {
   "display_name": "Python [conda env:python2.7]",
   "language": "python",
   "name": "conda-env-python2.7-py"
  },
  "language_info": {
   "codemirror_mode": {
    "name": "ipython",
    "version": 2
   },
   "file_extension": ".py",
   "mimetype": "text/x-python",
   "name": "python",
   "nbconvert_exporter": "python",
   "pygments_lexer": "ipython2",
   "version": "2.7.13"
  }
 },
 "nbformat": 4,
 "nbformat_minor": 1
}
