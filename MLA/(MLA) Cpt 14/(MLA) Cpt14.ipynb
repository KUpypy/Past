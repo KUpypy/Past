{
 "cells": [
  {
   "cell_type": "markdown",
   "metadata": {},
   "source": [
    "# 14장 특이 값 분해로 데이터 간소화하기\n",
    "---\n",
    "    추천 알고리즘\n",
    "    여러 식당을 분류할 때 인위적으로 분류하는 것이 아니라 사람들의 의견을 통하여 유사성을 판단해 보자\n"
   ]
  },
  {
   "cell_type": "markdown",
   "metadata": {},
   "source": [
    "## 14.1 SVD 응용 프로그램\n",
    "---\n",
    "    SVD를 통하여 데이터 차원 축소\n",
    "    * 특이값 분해(Singular value decomposition, SVD)\n",
    "    원본 데이터 집합을 아주 작은 데이터 집합으로 표현하여 노이즈와 불필요한 정보 제거\n",
    "    행렬 차원에서의 PCA\n",
    "\n",
    "    장점: 데이터를 간소화하고, 노이즈를 제거하며, 알고리즘의 결과를 개선\n",
    "    단점: 변환된 데이터는 이해하기 어려울 수도 있다.\n",
    "    활용: 수치형 값\n"
   ]
  },
  {
   "cell_type": "markdown",
   "metadata": {},
   "source": [
    "### 14.1.1 잠재적 의미 색인\n",
    "---\n",
    "    SVD는 잠재적 의미 색인 중 하나\n",
    "    * 잠재적 의미 색인 (latent semantic indexing, LSI) / 잠재적 의미 분석(latent semactic analysis)\n",
    "    문서와 단어들을 통하여 행렬을 구성\n",
    "    => 특이값들의 집합 생성: 문서에 포함된 개념이나 주제를 대표\n",
    "    단점: 철자 틀린경우, 동음이의어"
   ]
  },
  {
   "cell_type": "markdown",
   "metadata": {},
   "source": [
    "### 14.1.2 추천 시스템\n",
    "---\n",
    "    아이템 간의 유사성 vs 사람들 간의 유사성\n",
    "    유사성을 계산하기 위하여 SVD사용\n",
    "    Ex)\n",
    "![img](1.png)\n",
    "\n",
    "    원래 7X5차원\n",
    "    하지만 자세히 보면 BBQ차원과 일본음식의 두 차원으로 나뉠 수 있다. \n",
    "    실제 데이터는 이렇게 명백하게 나타나지는 않음\n",
    "    넷플릭스 100만달러 추천 콘테스트 -> SVD"
   ]
  },
  {
   "cell_type": "markdown",
   "metadata": {},
   "source": [
    "## 14.2 행렬 인수분해\n",
    "---\n",
    "    * 숫자의 인수분해\n",
    "    12 = 1x12 = 2x6 = 3x4  \n",
    "\n",
    "    * 행렬의 인수분해  \n",
    "    자세한 설명은 생략  \n",
    "$${Data}_{m \\times n} = {U}_{m \\times m} \\cdot  {\\Sigma}_{m \\times n} \\cdot  {{V}^{T}}_{n \\times n}$$  \n",
    "${\\Sigma}_{m \\times n}$는 대각 원소만을 가지고 나머지는 0  \n",
    "${\\Sigma}_{m \\times n}$를 큰 것에서 작은것으로 정렬  \n",
    "\n",
    "대각 원소: 특이 값(Singular values) cf) PCA의 Eigen Value  \n",
    "관계: $Data \\times {Data}^{T}$  \n",
    "참고: https://ko.wikipedia.org/wiki/%ED%8A%B9%EC%9E%87%EA%B0%92, 수치형 선형대수학\n",
    "    "
   ]
  },
  {
   "cell_type": "markdown",
   "metadata": {},
   "source": [
    "## 14.3 파이썬 SVD\n",
    "---\n"
   ]
  },
  {
   "cell_type": "code",
   "execution_count": 2,
   "metadata": {
    "collapsed": false
   },
   "outputs": [
    {
     "name": "stdout",
     "output_type": "stream",
     "text": [
      "[[-0.14142136 -0.98994949]\n",
      " [-0.98994949  0.14142136]]\n",
      "\n",
      "[  1.00000000e+01   2.82797782e-16]\n",
      "\n",
      "[[-0.70710678 -0.70710678]\n",
      " [ 0.70710678 -0.70710678]]\n"
     ]
    }
   ],
   "source": [
    "from numpy import *\n",
    "U, Sigma, VT = linalg.svd([[1,1],[7,7]])\n",
    "print U\n",
    "print\n",
    "print Sigma\n",
    "print\n",
    "print VT"
   ]
  },
  {
   "cell_type": "code",
   "execution_count": 3,
   "metadata": {
    "collapsed": false
   },
   "outputs": [
    {
     "data": {
      "text/plain": [
       "array([[  1.00000000e+01,   0.00000000e+00],\n",
       "       [  0.00000000e+00,   2.82797782e-16]])"
      ]
     },
     "execution_count": 3,
     "metadata": {},
     "output_type": "execute_result"
    }
   ],
   "source": [
    "Sigma * eye(2)"
   ]
  },
  {
   "cell_type": "code",
   "execution_count": 7,
   "metadata": {
    "collapsed": false
   },
   "outputs": [
    {
     "name": "stdout",
     "output_type": "stream",
     "text": [
      "[  9.64365076e+00   5.29150262e+00   6.51609210e-16   2.14818942e-16\n",
      "   5.18511491e-17]\n",
      "1.0\n"
     ]
    }
   ],
   "source": [
    "def loadExData():\n",
    "    return[[0, 0, 0, 2, 2],\n",
    "           [0, 0, 0, 3, 3],\n",
    "           [0, 0, 0, 1, 1],\n",
    "           [1, 1, 1, 0, 0],\n",
    "           [2, 2, 2, 0, 0],\n",
    "           [5, 5, 5, 0, 0],\n",
    "           [1, 1, 1, 0, 0]]\n",
    "    \n",
    "Data = loadExData()\n",
    "U, Sigma, VT = linalg.svd(Data)\n",
    "print Sigma\n",
    "print sum(Sigma[0:3])/sum(Sigma)"
   ]
  },
  {
   "cell_type": "markdown",
   "metadata": {},
   "source": [
    "    앞에 세개의 값은 다른값들보다 훨씬 크다 => 3X3으로 축소 가능\n",
    "![img](2.png)    \n",
    "    \n",
    "$${Data}_{m \\times n} = {U}_{m \\times 3} \\cdot  {\\Sigma}_{3 \\times 3} \\cdot  {{V}^{T}}_{3 \\times n}$$  \n"
   ]
  },
  {
   "cell_type": "code",
   "execution_count": 21,
   "metadata": {
    "collapsed": false
   },
   "outputs": [
    {
     "name": "stdout",
     "output_type": "stream",
     "text": [
      "[[  9.64365076e+00   0.00000000e+00   0.00000000e+00]\n",
      " [  0.00000000e+00   5.29150262e+00   0.00000000e+00]\n",
      " [  0.00000000e+00   0.00000000e+00   6.51609210e-16]]\n"
     ]
    }
   ],
   "source": [
    "Sig3 = mat([[Sigma[0],0,0], [0,Sigma[1], 0], [0,0, Sigma[2]]])\n",
    "print Sig3"
   ]
  },
  {
   "cell_type": "code",
   "execution_count": 23,
   "metadata": {
    "collapsed": false
   },
   "outputs": [
    {
     "data": {
      "text/plain": [
       "matrix([[ -4.37395897e-16,   1.04047305e-15,   1.22370145e-15,\n",
       "           2.00000000e+00,   2.00000000e+00],\n",
       "        [ -6.64717157e-16,   3.85916933e-16,   2.78800224e-16,\n",
       "           3.00000000e+00,   3.00000000e+00],\n",
       "        [ -1.99303530e-16,   1.22205100e-16,   7.70984294e-17,\n",
       "           1.00000000e+00,   1.00000000e+00],\n",
       "        [  1.00000000e+00,   1.00000000e+00,   1.00000000e+00,\n",
       "          -7.27982527e-17,  -7.16286297e-17],\n",
       "        [  2.00000000e+00,   2.00000000e+00,   2.00000000e+00,\n",
       "          -1.15127656e-16,  -1.11630659e-16],\n",
       "        [  5.00000000e+00,   5.00000000e+00,   5.00000000e+00,\n",
       "           4.54084131e-17,   4.34259903e-17],\n",
       "        [  1.00000000e+00,   1.00000000e+00,   1.00000000e+00,\n",
       "          -5.75638278e-17,  -5.58153296e-17]])"
      ]
     },
     "execution_count": 23,
     "metadata": {},
     "output_type": "execute_result"
    }
   ],
   "source": [
    "U[:,:3]* Sig3 * VT[:3,:]"
   ]
  },
  {
   "cell_type": "markdown",
   "metadata": {},
   "source": [
    "    * 정보 보유도 조절: \n",
    "    특이값의 전체 합에서 선택한 특이값들의 합이 90%를 차지할 때 까지 \n",
    "    or\n",
    "    최대 2/3000개로 유지\n",
    "    "
   ]
  },
  {
   "cell_type": "markdown",
   "metadata": {},
   "source": [
    "## 14.4 협력적 여과 기반 추천 엔진\n",
    "---\n",
    "    * 협력적 여과(Collaborative filtering)\n",
    "    유사도 측정을 통하여 알려지지 않은 선호도 예측\n",
    "    선호도 예측 기반 추천\n",
    "    아이템 기반 vs 사용자 기반\n"
   ]
  },
  {
   "cell_type": "markdown",
   "metadata": {},
   "source": [
    "### 14.4.1 유사도 측정\n",
    "---\n",
    "Ex)\n",
    "![img](3.png)\n",
    "\n",
    "#### (1) Euclidean Distance\n",
    "\n",
    "    * 풀드 포크와 트리 팁간의 유사도\n",
    "$$\\sqrt{{(4-4)}^{2}+{(3-3)}^{2}+{(2-1)}^{2}} = 1$$\n",
    "\n",
    "    * 유사도를 0~1사이 값으로 전환\n",
    "    유사도 = 1/(1+거리)\n",
    "    \n",
    "#### (2) Pearson correlation\n",
    "\n",
    "    * 상관 계수를 사용\n",
    "    corrcoef() -1 ~ +1\n",
    "\n",
    "    * 유사도를 0~1사이 값으로 전환\n",
    "    0.5+0.5*corrcoef()\n",
    "\n",
    "#### (3) Cosine similarity\n",
    "\n",
    "    * 두 벡터간의 각도에 대한 코사인 값을 측정\n",
    "$$cos\\theta = \\frac{A\\cdot B}{\\begin{Vmatrix}A\\end{Vmatrix}\\cdot \\begin{Vmatrix}B\\end{Vmatrix}}$$\n",
    "\n",
    "    * 유사도를 0~1사이 값으로 전환\n",
    "    0.5+0.5*cos\n"
   ]
  },
  {
   "cell_type": "code",
   "execution_count": 9,
   "metadata": {
    "collapsed": true
   },
   "outputs": [],
   "source": [
    "from numpy import linalg as la\n",
    "\n",
    "def ecludSim(inA,inB):\n",
    "    return 1.0/(1.0 + la.norm(inA - inB))\n",
    "\n",
    "def pearsSim(inA,inB):\n",
    "    if len(inA) < 3 : return 1.0\n",
    "    return 0.5+0.5*corrcoef(inA, inB, rowvar = 0)[0][1]\n",
    "\n",
    "def cosSim(inA,inB):\n",
    "    num = float(inA.T*inB)\n",
    "    denom = la.norm(inA)*la.norm(inB)\n",
    "    return 0.5+0.5*(num/denom)"
   ]
  },
  {
   "cell_type": "code",
   "execution_count": 32,
   "metadata": {
    "collapsed": false
   },
   "outputs": [
    {
     "name": "stdout",
     "output_type": "stream",
     "text": [
      "0.129731907557\n",
      "\n",
      "1.0\n",
      "\n",
      "0.205965381738\n",
      "\n",
      "1.0\n",
      "\n",
      "0.5\n",
      "\n",
      "1.0\n"
     ]
    }
   ],
   "source": [
    "myMat = mat(loadExData())\n",
    "print ecludSim(myMat[:,0], myMat[:,4])\n",
    "print\n",
    "print ecludSim(myMat[:,0], myMat[:,0])\n",
    "print\n",
    "print pearsSim(myMat[:,0], myMat[:,4])\n",
    "print\n",
    "print pearsSim(myMat[:,0], myMat[:,0])\n",
    "print\n",
    "print cosSim(myMat[:,0], myMat[:,4])\n",
    "print\n",
    "print cosSim(myMat[:,0], myMat[:,0])"
   ]
  },
  {
   "cell_type": "markdown",
   "metadata": {},
   "source": [
    "    칼럼벡터를 사용한 것은, 우리가 앞으로 아이템 기반 유사도를 사용하게 될 것이라는 것을 뜻함"
   ]
  },
  {
   "cell_type": "markdown",
   "metadata": {},
   "source": [
    "### 14.4.2 아이템 기반 유사도와 사용자 기분 유사도\n",
    "---\n",
    "    아이템 기반vs 사용자 기반 유사도\n",
    "    - 둘 중에서 보유하고 있는 데이터 수가 적은 것을 기준으로 하는 것이 좋다\n",
    "    - 보통 아이템수 < 아이템 구매한 사람 수"
   ]
  },
  {
   "cell_type": "markdown",
   "metadata": {},
   "source": [
    "### 14.4.3 추천 엔진 평가하기\n",
    "---\n",
    "    * 교차 검증\n",
    "    기존에 사용자가 매긴 점수를 데이터의 결과값으로 한 다음 이 값을 예측 => 오차를 측정\n",
    "    오차의 제곱 평균 제곱근(RMSE, root mean squared error)\n",
    "    "
   ]
  },
  {
   "cell_type": "markdown",
   "metadata": {},
   "source": [
    "## 14.5 예제: 레스토랑 메뉴 추천 엔진 구축하기\n",
    "---\n",
    "    기본적인 추천 엔진 생성\n",
    "    SVD를 통하여 추천 개선\n",
    "    UI로 포장\n",
    "    문제점 논의"
   ]
  },
  {
   "cell_type": "markdown",
   "metadata": {},
   "source": [
    "### 14.5.1 맛보지 못한 음식 추천하기\n",
    "---\n",
    "    가장 좋은 N개의 추천 목록을 반황\n",
    "    1. 사용자가 아직 점수를 매기지 않은 아이템을 찾음. (0)\n",
    "    2. 0에 대하여 예상 점수를 구한다.\n",
    "    3. 점수를 내림차순으로 정렬하고 위에서 부터 N개의 아이템 반환"
   ]
  },
  {
   "cell_type": "code",
   "execution_count": 37,
   "metadata": {
    "collapsed": true
   },
   "outputs": [],
   "source": [
    "def standEst(dataMat, user, simMeas, item):\n",
    "    n = shape(dataMat)[1]\n",
    "    simTotal = 0.0; ratSimTotal = 0.0\n",
    "    for j in range(n):\n",
    "        userRating = dataMat[user,j]\n",
    "        if userRating == 0: continue\n",
    "        overLap = nonzero(logical_and(dataMat[:,item].A>0, \\\n",
    "                                      dataMat[:,j].A>0))[0] # 1. 사용자에 의해 점수가 매겨진 두 아이템을 찾음\n",
    "        if len(overLap) == 0: similarity = 0\n",
    "        else: similarity = simMeas(dataMat[overLap,item], \\\n",
    "                                   dataMat[overLap,j])\n",
    "        print 'the %d and %d similarity is: %f' % (item, j, similarity)\n",
    "        simTotal += similarity\n",
    "        ratSimTotal += similarity * userRating\n",
    "    if simTotal == 0: return 0\n",
    "    else: return ratSimTotal/simTotal\n",
    "    \n",
    "def recommend(dataMat, user, N=3, simMeas=cosSim, estMethod=standEst):\n",
    "    unratedItems = nonzero(dataMat[user,:].A==0)[1]#2. 점수를 매기지 않은 아이템을 찾음\n",
    "    if len(unratedItems) == 0: return 'you rated everything'\n",
    "    itemScores = []\n",
    "    for item in unratedItems:\n",
    "        estimatedScore = estMethod(dataMat, user, simMeas, item)\n",
    "        itemScores.append((item, estimatedScore))\n",
    "    return sorted(itemScores, key=lambda jj: jj[1], reverse=True)[:N]# 점수를 매기지 않은 아이템 중 상위 N개를 반환"
   ]
  },
  {
   "cell_type": "code",
   "execution_count": 35,
   "metadata": {
    "collapsed": false
   },
   "outputs": [
    {
     "name": "stdout",
     "output_type": "stream",
     "text": [
      "[[4 4 0 2 2]\n",
      " [4 0 0 3 3]\n",
      " [4 0 0 1 1]\n",
      " [1 1 1 2 0]\n",
      " [2 2 2 0 0]\n",
      " [5 5 5 0 0]\n",
      " [1 1 1 0 0]]\n"
     ]
    }
   ],
   "source": [
    "myMat = mat(loadExData())\n",
    "myMat[0,1] = myMat[0,0] = myMat[1,0] = myMat[2,0] = 4\n",
    "myMat[3,3] = 2\n",
    "print myMat"
   ]
  },
  {
   "cell_type": "code",
   "execution_count": 38,
   "metadata": {
    "collapsed": false
   },
   "outputs": [
    {
     "name": "stdout",
     "output_type": "stream",
     "text": [
      "the 1 and 0 similarity is: 1.000000\n",
      "the 1 and 3 similarity is: 0.928746\n",
      "the 1 and 4 similarity is: 1.000000\n",
      "the 2 and 0 similarity is: 1.000000\n",
      "the 2 and 3 similarity is: 1.000000\n",
      "the 2 and 4 similarity is: 0.000000\n"
     ]
    },
    {
     "data": {
      "text/plain": [
       "[(2, 2.5), (1, 2.0243290220056256)]"
      ]
     },
     "execution_count": 38,
     "metadata": {},
     "output_type": "execute_result"
    }
   ],
   "source": [
    "recommend(myMat,2)"
   ]
  },
  {
   "cell_type": "code",
   "execution_count": 42,
   "metadata": {
    "collapsed": false
   },
   "outputs": [
    {
     "name": "stdout",
     "output_type": "stream",
     "text": [
      "the 1 and 0 similarity is: 1.000000\n",
      "the 1 and 3 similarity is: 0.309017\n",
      "the 1 and 4 similarity is: 0.333333\n",
      "the 2 and 0 similarity is: 1.000000\n",
      "the 2 and 3 similarity is: 0.500000\n",
      "the 2 and 4 similarity is: 0.000000\n"
     ]
    },
    {
     "data": {
      "text/plain": [
       "[(2, 3.0), (1, 2.8266504712098603)]"
      ]
     },
     "execution_count": 42,
     "metadata": {},
     "output_type": "execute_result"
    }
   ],
   "source": [
    "recommend(myMat, 2, simMeas = ecludSim)"
   ]
  },
  {
   "cell_type": "code",
   "execution_count": 44,
   "metadata": {
    "collapsed": false
   },
   "outputs": [
    {
     "name": "stdout",
     "output_type": "stream",
     "text": [
      "the 1 and 0 similarity is: 1.000000\n",
      "the 1 and 3 similarity is: 1.000000\n",
      "the 1 and 4 similarity is: 1.000000\n",
      "the 2 and 0 similarity is: 1.000000\n",
      "the 2 and 3 similarity is: 1.000000\n",
      "the 2 and 4 similarity is: 0.000000\n"
     ]
    },
    {
     "data": {
      "text/plain": [
       "[(2, 2.5), (1, 2.0)]"
      ]
     },
     "execution_count": 44,
     "metadata": {},
     "output_type": "execute_result"
    }
   ],
   "source": [
    "recommend(myMat, 2, simMeas = pearsSim)"
   ]
  },
  {
   "cell_type": "markdown",
   "metadata": {},
   "source": [
    "### 14.5.2 SVD로 추천 개선하기\n",
    "---\n",
    "![img](5.png)"
   ]
  },
  {
   "cell_type": "code",
   "execution_count": 45,
   "metadata": {
    "collapsed": false
   },
   "outputs": [
    {
     "name": "stdout",
     "output_type": "stream",
     "text": [
      "[ 15.77075346  11.40670395  11.03044558   4.84639758   3.09292055\n",
      "   2.58097379   1.00413543   0.72817072   0.43800353   0.22082113\n",
      "   0.07367823]\n"
     ]
    }
   ],
   "source": [
    "def loadExData2():\n",
    "    return[[0, 0, 0, 0, 0, 4, 0, 0, 0, 0, 5],\n",
    "           [0, 0, 0, 3, 0, 4, 0, 0, 0, 0, 3],\n",
    "           [0, 0, 0, 0, 4, 0, 0, 1, 0, 4, 0],\n",
    "           [3, 3, 4, 0, 0, 0, 0, 2, 2, 0, 0],\n",
    "           [5, 4, 5, 0, 0, 0, 0, 5, 5, 0, 0],\n",
    "           [0, 0, 0, 0, 5, 0, 1, 0, 0, 5, 0],\n",
    "           [4, 3, 4, 0, 0, 0, 0, 5, 5, 0, 1],\n",
    "           [0, 0, 0, 4, 0, 4, 0, 0, 0, 0, 4],\n",
    "           [0, 0, 0, 2, 0, 2, 5, 0, 0, 1, 2],\n",
    "           [0, 0, 0, 0, 5, 0, 0, 0, 0, 4, 0],\n",
    "           [1, 0, 0, 0, 0, 0, 0, 1, 2, 0, 0]]\n",
    "Data = loadExData2()\n",
    "U, Sigma, VT = linalg.svd(Data)\n",
    "print Sigma"
   ]
  },
  {
   "cell_type": "code",
   "execution_count": 49,
   "metadata": {
    "collapsed": false
   },
   "outputs": [
    {
     "name": "stdout",
     "output_type": "stream",
     "text": [
      "542.0\n",
      "487.8\n",
      "378.829559511\n",
      "500.500289128\n"
     ]
    }
   ],
   "source": [
    "Sig2 = Sigma **2\n",
    "print sum(Sig2)\n",
    "print sum(Sig2) * 0.9\n",
    "print sum(Sig2[:2])\n",
    "print sum(Sig2[:3])"
   ]
  },
  {
   "cell_type": "code",
   "execution_count": 50,
   "metadata": {
    "collapsed": false
   },
   "outputs": [
    {
     "name": "stdout",
     "output_type": "stream",
     "text": [
      "the 1 and 0 similarity is: 0.498142\n",
      "the 1 and 3 similarity is: 0.498131\n",
      "the 1 and 4 similarity is: 0.509974\n",
      "the 2 and 0 similarity is: 0.552670\n",
      "the 2 and 3 similarity is: 0.552976\n",
      "the 2 and 4 similarity is: 0.217301\n"
     ]
    },
    {
     "data": {
      "text/plain": [
       "[(2, 3.4177569186592378), (1, 3.3307171545585641)]"
      ]
     },
     "execution_count": 50,
     "metadata": {},
     "output_type": "execute_result"
    }
   ],
   "source": [
    "def svdEst(dataMat, user, simMeas, item):\n",
    "    n = shape(dataMat)[1]\n",
    "    simTotal = 0.0; ratSimTotal = 0.0\n",
    "    U,Sigma,VT = la.svd(dataMat)\n",
    "    Sig4 = mat(eye(4)*Sigma[:4]) #arrange Sig4 into a diagonal matrix\n",
    "    xformedItems = dataMat.T * U[:,:4] * Sig4.I  #create transformed items\n",
    "    for j in range(n):\n",
    "        userRating = dataMat[user,j]\n",
    "        if userRating == 0 or j==item: continue\n",
    "        similarity = simMeas(xformedItems[item,:].T,\\\n",
    "                             xformedItems[j,:].T)\n",
    "        print 'the %d and %d similarity is: %f' % (item, j, similarity)\n",
    "        simTotal += similarity\n",
    "        ratSimTotal += similarity * userRating\n",
    "    if simTotal == 0: return 0\n",
    "    else: return ratSimTotal/simTotal\n",
    "\n",
    "recommend(myMat, 1, estMethod = svdEst)"
   ]
  },
  {
   "cell_type": "code",
   "execution_count": 51,
   "metadata": {
    "collapsed": false
   },
   "outputs": [
    {
     "name": "stdout",
     "output_type": "stream",
     "text": [
      "the 1 and 0 similarity is: 0.280908\n",
      "the 1 and 3 similarity is: 0.948940\n",
      "the 1 and 4 similarity is: 0.606039\n",
      "the 2 and 0 similarity is: 0.556905\n",
      "the 2 and 3 similarity is: 0.552447\n",
      "the 2 and 4 similarity is: 0.214974\n"
     ]
    },
    {
     "data": {
      "text/plain": [
       "[(2, 3.4205197987866822), (1, 3.1530093683701286)]"
      ]
     },
     "execution_count": 51,
     "metadata": {},
     "output_type": "execute_result"
    }
   ],
   "source": [
    "recommend(myMat, 1, estMethod = svdEst, simMeas = pearsSim)"
   ]
  },
  {
   "cell_type": "markdown",
   "metadata": {},
   "source": [
    "### 14.5.3 추천 엔진이 가지고 있는 과제\n",
    "---\n",
    "    데이터 집합이 클 경우 SVD를 사용하면 처리속도를 감소할 수 있음\n",
    "    * SVD를 매번 계산하는 것이 비효율적\n",
    "    한번 계산해 놓고 일주일에 한번정도 업데이트\n",
    "    * 초기 정보가 없을 때(Cold-start)\n",
    "    아이템들의 특징(콘텐츠 기반)을 기반으로 유사도를 측정"
   ]
  },
  {
   "cell_type": "markdown",
   "metadata": {},
   "source": [
    "## 예제: SVD로 이미지 압축하기\n",
    "---"
   ]
  },
  {
   "cell_type": "code",
   "execution_count": 10,
   "metadata": {
    "collapsed": false
   },
   "outputs": [
    {
     "name": "stdout",
     "output_type": "stream",
     "text": [
      "****original matrix******\n",
      "0 0 0 0 0 0 0 0 0 0 0 0 0 0 1 1 0 0 0 0 0 0 0 0 0 0 0 0 0 0 0 0 \n",
      "0 0 0 0 0 0 0 0 0 0 0 0 1 1 1 1 1 1 0 0 0 0 0 0 0 0 0 0 0 0 0 0 \n",
      "0 0 0 0 0 0 0 0 0 0 0 1 1 1 1 1 1 1 1 0 0 0 0 0 0 0 0 0 0 0 0 0 \n",
      "0 0 0 0 0 0 0 0 0 0 1 1 1 1 1 1 1 1 1 1 0 0 0 0 0 0 0 0 0 0 0 0 \n",
      "0 0 0 0 0 0 0 0 1 1 1 1 1 1 1 1 1 1 1 1 1 0 0 0 0 0 0 0 0 0 0 0 \n",
      "0 0 0 0 0 0 0 1 1 1 1 1 1 1 1 1 1 1 1 1 1 1 0 0 0 0 0 0 0 0 0 0 \n",
      "0 0 0 0 0 0 0 0 1 1 1 1 1 1 1 1 1 1 1 1 1 1 1 0 0 0 0 0 0 0 0 0 \n",
      "0 0 0 0 0 0 0 0 1 1 1 1 1 1 1 0 0 0 0 1 1 1 1 1 0 0 0 0 0 0 0 0 \n",
      "0 0 0 0 0 0 0 1 1 1 1 1 1 1 0 0 0 0 0 1 1 1 1 1 0 0 0 0 0 0 0 0 \n",
      "0 0 0 0 0 0 1 1 1 1 1 1 0 0 0 0 0 0 0 0 1 1 1 1 0 0 0 0 0 0 0 0 \n",
      "0 0 0 0 0 0 1 1 1 1 1 1 0 0 0 0 0 0 0 0 1 1 1 1 1 0 0 0 0 0 0 0 \n",
      "0 0 0 0 0 0 1 1 1 1 1 1 0 0 0 0 0 0 0 0 0 1 1 1 1 0 0 0 0 0 0 0 \n",
      "0 0 0 0 0 0 1 1 1 1 1 1 0 0 0 0 0 0 0 0 0 1 1 1 1 0 0 0 0 0 0 0 \n",
      "0 0 0 0 0 0 0 1 1 1 1 1 1 0 0 0 0 0 0 0 0 0 1 1 1 1 0 0 0 0 0 0 \n",
      "0 0 0 0 0 0 1 1 1 1 1 1 1 0 0 0 0 0 0 0 0 0 1 1 1 1 0 0 0 0 0 0 \n",
      "0 0 0 0 0 0 1 1 1 1 1 1 0 0 0 0 0 0 0 0 0 0 1 1 1 1 0 0 0 0 0 0 \n",
      "0 0 0 0 0 0 0 1 1 1 1 1 0 0 0 0 0 0 0 0 0 0 1 1 1 1 0 0 0 0 0 0 \n",
      "0 0 0 0 0 0 1 1 1 1 1 1 0 0 0 0 0 0 0 0 0 0 1 1 1 1 0 0 0 0 0 0 \n",
      "0 0 0 0 0 0 0 1 1 1 1 1 0 0 0 0 0 0 0 0 0 0 1 1 1 1 0 0 0 0 0 0 \n",
      "0 0 0 0 0 0 0 1 1 1 1 1 0 0 0 0 0 0 0 0 0 1 1 1 1 1 0 0 0 0 0 0 \n",
      "0 0 0 0 0 0 0 0 1 1 1 1 1 0 0 0 0 0 0 0 0 0 1 1 1 1 1 0 0 0 0 0 \n",
      "0 0 0 0 0 0 0 0 1 1 1 1 1 0 0 0 0 0 0 0 0 0 1 1 1 1 1 0 0 0 0 0 \n",
      "0 0 0 0 0 0 0 0 1 1 1 1 1 0 0 0 0 0 0 0 0 0 1 1 1 1 1 0 0 0 0 0 \n",
      "0 0 0 0 0 0 0 0 1 1 1 1 1 0 0 0 0 0 0 0 0 1 1 1 1 1 0 0 0 0 0 0 \n",
      "0 0 0 0 0 0 0 0 1 1 1 1 1 0 0 0 0 0 0 0 1 1 1 1 1 1 0 0 0 0 0 0 \n",
      "0 0 0 0 0 0 0 0 1 1 1 1 1 1 0 0 0 0 0 1 1 1 1 1 1 0 0 0 0 0 0 0 \n",
      "0 0 0 0 0 0 0 0 0 1 1 1 1 1 1 1 1 1 1 1 1 1 1 1 1 0 0 0 0 0 0 0 \n",
      "0 0 0 0 0 0 0 0 0 0 1 1 1 1 1 1 1 1 1 1 1 1 1 1 1 0 0 0 0 0 0 0 \n",
      "0 0 0 0 0 0 0 0 0 0 1 1 1 1 1 1 1 1 1 1 1 1 1 1 1 0 0 0 0 0 0 0 \n",
      "0 0 0 0 0 0 0 0 0 0 0 1 1 1 1 1 1 1 1 1 1 1 1 0 0 0 0 0 0 0 0 0 \n",
      "0 0 0 0 0 0 0 0 0 0 0 0 1 1 1 1 1 1 1 1 1 1 0 0 0 0 0 0 0 0 0 0 \n",
      "0 0 0 0 0 0 0 0 0 0 0 0 0 0 1 1 1 1 1 1 0 0 0 0 0 0 0 0 0 0 0 0 \n",
      "****reconstructed matrix using 2 singular values******\n",
      "0 0 0 0 0 0 0 0 0 0 0 0 0 0 0 0 0 0 0 0 0 0 0 0 0 0 0 0 0 0 0 0 \n",
      "0 0 0 0 0 0 0 0 0 0 0 0 0 0 0 0 0 0 0 0 0 0 0 0 0 0 0 0 0 0 0 0 \n",
      "0 0 0 0 0 0 0 0 0 0 0 0 0 1 1 1 1 1 0 0 0 0 0 0 0 0 0 0 0 0 0 0 \n",
      "0 0 0 0 0 0 0 0 0 0 0 0 1 1 1 1 1 1 1 1 0 0 0 0 0 0 0 0 0 0 0 0 \n",
      "0 0 0 0 0 0 0 0 0 0 0 1 1 1 1 1 1 1 1 1 1 0 0 0 0 0 0 0 0 0 0 0 \n",
      "0 0 0 0 0 0 0 0 0 0 1 1 1 1 1 1 1 1 1 1 1 1 0 0 0 0 0 0 0 0 0 0 \n",
      "0 0 0 0 0 0 0 0 0 0 1 1 1 1 1 1 1 1 1 1 1 1 0 0 0 0 0 0 0 0 0 0 \n",
      "0 0 0 0 0 0 0 0 0 1 1 1 1 0 0 0 0 0 0 0 0 0 1 0 0 0 0 0 0 0 0 0 \n",
      "0 0 0 0 0 0 0 0 1 1 1 1 0 0 0 0 0 0 0 0 0 0 1 1 0 0 0 0 0 0 0 0 \n",
      "0 0 0 0 0 0 0 0 1 1 1 1 0 0 0 0 0 0 0 0 0 0 1 1 1 0 0 0 0 0 0 0 \n",
      "0 0 0 0 0 0 0 0 1 1 1 1 0 0 0 0 0 0 0 0 0 0 1 1 1 0 0 0 0 0 0 0 \n",
      "0 0 0 0 0 0 0 0 1 1 1 1 0 0 0 0 0 0 0 0 0 0 1 1 1 0 0 0 0 0 0 0 \n",
      "0 0 0 0 0 0 0 0 1 1 1 1 0 0 0 0 0 0 0 0 0 0 1 1 1 0 0 0 0 0 0 0 \n",
      "0 0 0 0 0 0 0 0 1 1 1 1 0 0 0 0 0 0 0 0 0 0 1 1 1 0 0 0 0 0 0 0 \n",
      "0 0 0 0 0 0 0 0 1 1 1 1 0 0 0 0 0 0 0 0 0 0 1 1 1 0 0 0 0 0 0 0 \n",
      "0 0 0 0 0 0 0 0 1 1 1 1 0 0 0 0 0 0 0 0 0 0 1 1 1 0 0 0 0 0 0 0 \n",
      "0 0 0 0 0 0 0 0 1 1 1 1 0 0 0 0 0 0 0 0 0 0 1 1 1 0 0 0 0 0 0 0 \n",
      "0 0 0 0 0 0 0 0 1 1 1 1 0 0 0 0 0 0 0 0 0 0 1 1 1 0 0 0 0 0 0 0 \n",
      "0 0 0 0 0 0 0 0 1 1 1 1 0 0 0 0 0 0 0 0 0 0 1 1 1 0 0 0 0 0 0 0 \n",
      "0 0 0 0 0 0 0 0 1 1 1 1 0 0 0 0 0 0 0 0 0 0 1 1 1 0 0 0 0 0 0 0 \n",
      "0 0 0 0 0 0 0 0 1 1 1 1 0 0 0 0 0 0 0 0 0 0 1 1 1 0 0 0 0 0 0 0 \n",
      "0 0 0 0 0 0 0 0 1 1 1 1 0 0 0 0 0 0 0 0 0 0 1 1 1 0 0 0 0 0 0 0 \n",
      "0 0 0 0 0 0 0 0 1 1 1 1 0 0 0 0 0 0 0 0 0 0 1 1 1 0 0 0 0 0 0 0 \n",
      "0 0 0 0 0 0 0 0 1 1 1 1 0 0 0 0 0 0 0 0 0 0 1 1 1 0 0 0 0 0 0 0 \n",
      "0 0 0 0 0 0 0 0 1 1 1 1 0 0 0 0 0 0 0 0 0 0 1 1 1 0 0 0 0 0 0 0 \n",
      "0 0 0 0 0 0 0 0 1 1 1 1 0 0 0 0 0 0 0 0 0 0 1 1 0 0 0 0 0 0 0 0 \n",
      "0 0 0 0 0 0 0 0 0 0 1 1 1 1 1 1 1 1 1 1 1 1 1 0 0 0 0 0 0 0 0 0 \n",
      "0 0 0 0 0 0 0 0 0 0 1 1 1 1 1 1 1 1 1 1 1 1 0 0 0 0 0 0 0 0 0 0 \n",
      "0 0 0 0 0 0 0 0 0 0 1 1 1 1 1 1 1 1 1 1 1 1 0 0 0 0 0 0 0 0 0 0 \n",
      "0 0 0 0 0 0 0 0 0 0 0 0 1 1 1 1 1 1 1 1 1 0 0 0 0 0 0 0 0 0 0 0 \n",
      "0 0 0 0 0 0 0 0 0 0 0 0 1 1 1 1 1 1 1 1 0 0 0 0 0 0 0 0 0 0 0 0 \n",
      "0 0 0 0 0 0 0 0 0 0 0 0 0 0 0 0 0 0 0 0 0 0 0 0 0 0 0 0 0 0 0 0 \n"
     ]
    }
   ],
   "source": [
    "def printMat(inMat, thresh=0.8):\n",
    "    for i in range(32):\n",
    "        for k in range(32):\n",
    "            if float(inMat[i,k]) > thresh:\n",
    "                print 1,\n",
    "            else: print 0,\n",
    "        print ''\n",
    "\n",
    "def imgCompress(numSV=3, thresh=0.8):\n",
    "    myl = []\n",
    "    for line in open('0_5.txt').readlines():\n",
    "        newRow = []\n",
    "        for i in range(32):\n",
    "            newRow.append(int(line[i]))\n",
    "        myl.append(newRow)\n",
    "    myMat = mat(myl)\n",
    "    print \"****original matrix******\"\n",
    "    printMat(myMat, thresh)\n",
    "    U,Sigma,VT = la.svd(myMat)\n",
    "    SigRecon = mat(zeros((numSV, numSV)))\n",
    "    for k in range(numSV):#construct diagonal matrix from vector\n",
    "        SigRecon[k,k] = Sigma[k]\n",
    "    reconMat = U[:,:numSV]*SigRecon*VT[:numSV,:]\n",
    "    print \"****reconstructed matrix using %d singular values******\" % numSV\n",
    "    printMat(reconMat, thresh)\n",
    "    \n",
    "imgCompress(2)"
   ]
  }
 ],
 "metadata": {
  "anaconda-cloud": {},
  "kernelspec": {
   "display_name": "Python [conda env:DAND]",
   "language": "python",
   "name": "conda-env-DAND-py"
  },
  "language_info": {
   "codemirror_mode": {
    "name": "ipython",
    "version": 2
   },
   "file_extension": ".py",
   "mimetype": "text/x-python",
   "name": "python",
   "nbconvert_exporter": "python",
   "pygments_lexer": "ipython2",
   "version": "2.7.12"
  }
 },
 "nbformat": 4,
 "nbformat_minor": 2
}
