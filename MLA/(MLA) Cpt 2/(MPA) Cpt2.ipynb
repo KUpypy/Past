{
 "cells": [
  {
   "cell_type": "markdown",
   "metadata": {},
   "source": [
    "# 2장 k-최근접 이웃 알고리즘\n",
    "\n",
    "- 학습 목표\n",
    "\n",
    "k-최근접 이웃 알고리즘\n",
    "\n",
    "텍스트 파일로부터 데이터 불러오기 및 구문 분석 \n",
    "\n",
    "매스플롯라이브러리를 이용하여 scatter 플롯 생성 \n",
    "\n",
    "수치형 값 정규화\n"
   ]
  },
  {
   "cell_type": "markdown",
   "metadata": {},
   "source": [
    "## 2.1 거리 측정을 이용하여 분류하기\n",
    "\n",
    "- **k-최근접 이웃 알고리즘**\n",
    "\n",
    "장점: 높은 정확도, 오류 데이터(outlier)에 둔감, 데이터에 대한 가정이 없음  \n",
    "단점: 계산 비용이 높음, 많은 메모리 요구  \n",
    "적용: 수치형 값, 명목형 값  \n",
    "\n",
    "1) 각 데이터와 그에 대한 레이블이 제공  \n",
    "2) 레이블이 없는 새로운 데이터가 제공  \n",
    "3) 새로운 데이터를 기존의 데이터와 가장 유사한 항목을 살펴봄(k개)  \n",
    "4) k개의 데이터중 가장 유사한 데이터들 중 다수결을 통해 새로운 데이터의 레이블 결정  \n",
    "\n",
    "---\n",
    "예시\n",
    "\n",
    "![image](figures/1.png)\n",
    "\n",
    "![image](figures/2.png)\n",
    "\n",
    "k=3일때, 모두 로맨스 이므로 새로운 영화의 레이블을 로멘스로 예측\n",
    "\n",
    "---\n",
    "\n",
    "- **kNN의 일반적인 접근 방법**  \n",
    "1. 수집: 모든 방법  \n",
    "2. 준비: 수치형 값(거리를 계산하기 위해 필요), 구조적으로 표현된 데이터 형식이 가장 좋다.  \n",
    "3. 분석: 모든 방법  \n",
    "4. 훈련: kNN 알고리즘은 적용되지 않음  \n",
    "5. 검사: 오류율(error rate)을 계산함  \n",
    "6. 사용: 응용 프로그램은 입력 데이터를 받아 구조가 있는 수치형 값으로 출력하는 데 필요하다. 그런 다음,\n",
    "응용 프로그램은 입력 데이터를 가지고 kNN 알고리즘을 실행해서 입력 데이터가 속하는 분류 항목 을 결정한다. 응용 프로그램은 이때 계산된 분류 항목에서 몇 가지 조치를 취한다.  \n",
    "\n",
    "### 2.1.1 준비: 파이썬으로 데이터 불러오기"
   ]
  },
  {
   "cell_type": "code",
   "execution_count": 1,
   "metadata": {
    "collapsed": false
   },
   "outputs": [],
   "source": [
    "from numpy import * \n",
    "import operator\n",
    "def createDataSet():\n",
    "    group = array([[1.0, 1.1], [1.0, 1.0], [0, 0], [0, 0.1]]) \n",
    "    labels = ['A', 'A', 'B', 'B']\n",
    "    return group, labels"
   ]
  },
  {
   "cell_type": "code",
   "execution_count": 2,
   "metadata": {
    "collapsed": false
   },
   "outputs": [
    {
     "name": "stdout",
     "output_type": "stream",
     "text": [
      "[[ 1.   1.1]\n",
      " [ 1.   1. ]\n",
      " [ 0.   0. ]\n",
      " [ 0.   0.1]]\n",
      "['A', 'A', 'B', 'B']\n"
     ]
    }
   ],
   "source": [
    "group, labels = createDataSet()\n",
    "print(group)\n",
    "print(labels)"
   ]
  },
  {
   "cell_type": "markdown",
   "metadata": {},
   "source": [
    "각 row는 데이터, 각 데이터에 대한 레이블\n",
    "\n",
    "![image](figures/3.png)\n",
    "\n",
    "### 2.1.2 kNN 분류 알고리즘 실행하기\n"
   ]
  },
  {
   "cell_type": "code",
   "execution_count": 3,
   "metadata": {
    "collapsed": false
   },
   "outputs": [],
   "source": [
    "def classify0(inX, dataSet, labels, k): \n",
    "    ##1. 거리 계산\n",
    "    dataSetSize = dataSet.shape[0] ## 행 숫자 = 4\n",
    "    diffMat = tile(inX,(dataSetSize,1)) - dataSet ## array([[0, 0],[0, 0],[0, 0],[0, 0]])\n",
    "    sqDiffMat = diffMat ** 2 ##각 제곱\n",
    "    sqDistances = sqDiffMat.sum(axis = 1) ## 가로로 더하기\n",
    "    distances = sqDistances ** 0.5 ## 루트\n",
    "    sortedDistIndicies = distances.argsort() \n",
    "    classCount={}\n",
    "    ##2.가장 짧은 k거리를 투표\n",
    "    for i in range(k):\n",
    "        voteIlabel=labels[sortedDistIndicies[i]] \n",
    "        classCount[voteIlabel] = classCount.get(voteIlabel, 0) + 1\n",
    "    ##3.아이템 정렬\n",
    "    sortedClassCount = sorted(classCount.items(), key=operator.itemgetter(1), reverse=True)\n",
    "    return sortedClassCount[0][0]"
   ]
  },
  {
   "cell_type": "markdown",
   "metadata": {},
   "source": [
    "- 유클리드 거리 사용\n",
    "\n",
    "![image](figures/4.png)\n",
    "\n"
   ]
  },
  {
   "cell_type": "code",
   "execution_count": 4,
   "metadata": {
    "collapsed": false
   },
   "outputs": [
    {
     "data": {
      "text/plain": [
       "'B'"
      ]
     },
     "execution_count": 4,
     "metadata": {},
     "output_type": "execute_result"
    }
   ],
   "source": [
    "classify0([0, 0], group, labels, 3)"
   ]
  },
  {
   "cell_type": "markdown",
   "metadata": {},
   "source": [
    "### 2.1.3 분류기 검사하기\n",
    "\n",
    "- 오류율 : 잘못분류/총분류"
   ]
  },
  {
   "cell_type": "markdown",
   "metadata": {},
   "source": [
    "## 2.2 예제: kNN을 이용하여 데이트 사이트의 만남 주선 개선하기\n",
    "\n",
    "- **예제: 데이트 사이트에서 얻은 결과에 kNN 사용하기**  \n",
    "1. 수집: 제공된 텍스트 파일  \n",
    "2. 준비: 파이썬에서 텍스트 파일 구문 분석하기  \n",
    "3. 분석: 데이터를 2D 플롯(plots)으로 만들기 위해 매스플롯라이브러리 사용하기  \n",
    "4. 훈련: kNN 알고리즘에는 적용되지 않음  \n",
    "5. 검사: 헬렌이 준 검사용 예제 데이터의 일부를 사용하기 위한 함수를 작성한다. 검사용 예제는 검사에 사용되지 않는 예제에 반해 분류가 되어 있고, 예측된 분류 항목이 실질적인 분류 항목과 일치하지 않으면 오류로 계산한다.  \n",
    "6. 사용: 헬렌이 입력한 몇 가지 데이터를 토대로 누구를 좋아하게 될 것인지를 예측하는 데 사용할 수 있는 간단한 커맨드 라인 프로그램을 구축한다.\n",
    "\n",
    "### 2.2.1 준비: 텍스트 파일의 데이터 구문 분석하기\n",
    "\n",
    "헬렌 데이터셋\n",
    "\n"
   ]
  },
  {
   "cell_type": "code",
   "execution_count": 5,
   "metadata": {
    "collapsed": false
   },
   "outputs": [],
   "source": [
    "def file2matrix(filename): \n",
    "    fr=open(filename)\n",
    "    ##1. 파일 줄 수 구하기\n",
    "    numberOfLines = len(fr.readlines())\n",
    "    ##2. 반환하기 위한 Numpy행렬 생성하기\n",
    "    returnMat = zeros((numberOfLines, 3)) \n",
    "    classLabelVector = []\n",
    "    fr = open(filename, encoding=\"utf-8\")\n",
    "    index = 0\n",
    "    ##3. 리스트의 줄 구문 분석하기\n",
    "    for line in fr.readlines():\n",
    "        line = line.strip()\n",
    "        listFromLine = line.split('\\t') #탭으로 구분\n",
    "        returnMat[index, :] = listFromLine[0:3] \n",
    "        classLabelVector.append(int(listFromLine[-1]))\n",
    "        index += 1\n",
    "    return returnMat, classLabelVector"
   ]
  },
  {
   "cell_type": "code",
   "execution_count": 6,
   "metadata": {
    "collapsed": false
   },
   "outputs": [
    {
     "ename": "TypeError",
     "evalue": "'encoding' is an invalid keyword argument for this function",
     "output_type": "error",
     "traceback": [
      "\u001b[0;31m---------------------------------------------------------------------------\u001b[0m",
      "\u001b[0;31mTypeError\u001b[0m                                 Traceback (most recent call last)",
      "\u001b[0;32m<ipython-input-6-9e04b6803a1f>\u001b[0m in \u001b[0;36m<module>\u001b[0;34m()\u001b[0m\n\u001b[0;32m----> 1\u001b[0;31m \u001b[0mdatingDataMat\u001b[0m\u001b[0;34m,\u001b[0m \u001b[0mdatingLabels\u001b[0m \u001b[0;34m=\u001b[0m \u001b[0mfile2matrix\u001b[0m\u001b[0;34m(\u001b[0m\u001b[0;34m'datingTestSet2.txt'\u001b[0m\u001b[0;34m)\u001b[0m\u001b[0;34m\u001b[0m\u001b[0m\n\u001b[0m\u001b[1;32m      2\u001b[0m \u001b[0mdatingDataMat\u001b[0m\u001b[0;34m\u001b[0m\u001b[0m\n",
      "\u001b[0;32m<ipython-input-5-e80268bfe44e>\u001b[0m in \u001b[0;36mfile2matrix\u001b[0;34m(filename)\u001b[0m\n\u001b[1;32m      6\u001b[0m     \u001b[0mreturnMat\u001b[0m \u001b[0;34m=\u001b[0m \u001b[0mzeros\u001b[0m\u001b[0;34m(\u001b[0m\u001b[0;34m(\u001b[0m\u001b[0mnumberOfLines\u001b[0m\u001b[0;34m,\u001b[0m \u001b[0;36m3\u001b[0m\u001b[0;34m)\u001b[0m\u001b[0;34m)\u001b[0m\u001b[0;34m\u001b[0m\u001b[0m\n\u001b[1;32m      7\u001b[0m     \u001b[0mclassLabelVector\u001b[0m \u001b[0;34m=\u001b[0m \u001b[0;34m[\u001b[0m\u001b[0;34m]\u001b[0m\u001b[0;34m\u001b[0m\u001b[0m\n\u001b[0;32m----> 8\u001b[0;31m     \u001b[0mfr\u001b[0m \u001b[0;34m=\u001b[0m \u001b[0mopen\u001b[0m\u001b[0;34m(\u001b[0m\u001b[0mfilename\u001b[0m\u001b[0;34m,\u001b[0m \u001b[0mencoding\u001b[0m\u001b[0;34m=\u001b[0m\u001b[0;34m\"utf-8\"\u001b[0m\u001b[0;34m)\u001b[0m\u001b[0;34m\u001b[0m\u001b[0m\n\u001b[0m\u001b[1;32m      9\u001b[0m     \u001b[0mindex\u001b[0m \u001b[0;34m=\u001b[0m \u001b[0;36m0\u001b[0m\u001b[0;34m\u001b[0m\u001b[0m\n\u001b[1;32m     10\u001b[0m     \u001b[0;31m##3. 리스트의 줄 구문 분석하기\u001b[0m\u001b[0;34m\u001b[0m\u001b[0;34m\u001b[0m\u001b[0m\n",
      "\u001b[0;31mTypeError\u001b[0m: 'encoding' is an invalid keyword argument for this function"
     ]
    }
   ],
   "source": [
    "datingDataMat, datingLabels = file2matrix('datingTestSet2.txt')\n",
    "datingDataMat"
   ]
  },
  {
   "cell_type": "code",
   "execution_count": null,
   "metadata": {
    "collapsed": false
   },
   "outputs": [],
   "source": [
    "datingLabels[0:20]"
   ]
  },
  {
   "cell_type": "markdown",
   "metadata": {
    "collapsed": true
   },
   "source": [
    "### 2.2.2 분석: 매스플롯라이브러리로 scatter 플롯 생성하기"
   ]
  },
  {
   "cell_type": "code",
   "execution_count": null,
   "metadata": {
    "collapsed": false
   },
   "outputs": [],
   "source": [
    "%matplotlib inline\n",
    "import matplotlib\n",
    "import matplotlib.pyplot as plt\n",
    "from numpy import array\n",
    "fig = plt.figure()\n",
    "ax = fig.add_subplot(111)\n",
    "## x=비디오 게임으로 보내는 시간 y=주당 아이스크림 소비량\n",
    "ax.scatter(datingDataMat[:, 1], datingDataMat[:, 2], 15.0*array(datingLabels), 15.0*array(datingLabels))\n",
    "plt.show()"
   ]
  },
  {
   "cell_type": "markdown",
   "metadata": {},
   "source": [
    "![image](figures/5.png)\n",
    "\n",
    "### 2.2.3 준비: 수치형 값 정규화하기\n",
    "\n",
    "![image](figures/6.png)\n",
    "\n",
    "newValue = (oldValue ‐ min) / (max ‐ min)\n"
   ]
  },
  {
   "cell_type": "code",
   "execution_count": null,
   "metadata": {
    "collapsed": false
   },
   "outputs": [],
   "source": [
    "def autoNorm(dataSet):\n",
    "    minVals = dataSet.min(0)\n",
    "    maxVals = dataSet.max(0)\n",
    "    ranges = maxVals - minVals\n",
    "    normDataSet = zeros(shape(dataSet)) \n",
    "    m = dataSet.shape[0]\n",
    "    normDataSet = dataSet - tile(minVals, (1000, 1)) \n",
    "    normDataSet = normDataSet / tile(ranges, (1000, 1)) \n",
    "    return normDataSet, ranges, minVals"
   ]
  },
  {
   "cell_type": "code",
   "execution_count": null,
   "metadata": {
    "collapsed": false
   },
   "outputs": [],
   "source": [
    "normMat, ranges, minVals = autoNorm(datingDataMat)\n",
    "normMat"
   ]
  },
  {
   "cell_type": "code",
   "execution_count": null,
   "metadata": {
    "collapsed": false
   },
   "outputs": [],
   "source": [
    "print(ranges)\n",
    "print(minVals)"
   ]
  },
  {
   "cell_type": "markdown",
   "metadata": {},
   "source": [
    "### 2.2.4 검사: 전체 프로그램으로 분류기 검사하기\n",
    "\n",
    "- Train/Test set 나누기\n",
    "\n",
    "- 오류율"
   ]
  },
  {
   "cell_type": "code",
   "execution_count": null,
   "metadata": {
    "collapsed": false
   },
   "outputs": [],
   "source": [
    "def datingClassTest(): \n",
    "    hoRatio = 0.10\n",
    "    datingDataMat, datingLabels = file2matrix('datingTestSet2.txt') \n",
    "    normMat, ranges, minVals = autoNorm(datingDataMat)\n",
    "    m = normMat.shape[0]\n",
    "    numTestVecs = int(m * hoRatio)\n",
    "    errorCount = 0.0\n",
    "    for i in range(numTestVecs):\n",
    "        classifierResult = classify0(normMat[i, :], normMat[numTestVecs:m, :], datingLabels[numTestVecs:m],3)\n",
    "        print (\"the classifier came back with: %d, the real answer is: %d\" % (classifierResult, datingLabels[i]))\n",
    "        if (classifierResult != datingLabels[i]): errorCount += 1.0 \n",
    "    print (\"the total error rate is: %f\" % (errorCount/float(numTestVecs)))\n"
   ]
  },
  {
   "cell_type": "code",
   "execution_count": null,
   "metadata": {
    "collapsed": false
   },
   "outputs": [],
   "source": [
    "datingClassTest()"
   ]
  },
  {
   "cell_type": "markdown",
   "metadata": {},
   "source": [
    "### 2.2.5 사용: 모두에게 유용한 시스템 만들기\n",
    "\n"
   ]
  },
  {
   "cell_type": "code",
   "execution_count": null,
   "metadata": {
    "collapsed": false
   },
   "outputs": [],
   "source": [
    "def classifyPerson():\n",
    "    resultList = ['not at all', 'in small doses', 'in large doses']\n",
    "    percentTats = float(input(\\\n",
    "                                  \"percentage of time spent playing video games?\"))\n",
    "    ffMiles = float(input(\"frequent flier miles earned per year?\"))\n",
    "    iceCream = float(input(\"liters of ice cream consumed per year?\"))\n",
    "    datingDataMat, datingLabels = file2matrix('datingTestSet2.txt')\n",
    "    normMat, ranges, minVals = autoNorm(datingDataMat)\n",
    "    inArr = array([ffMiles, percentTats, iceCream, ])\n",
    "    classifierResult = classify0((inArr - \\\n",
    "                                  minVals)/ranges, normMat, datingLabels, 3)\n",
    "    print (\"You will probably like this person: %s\" % resultList[classifierResult - 1])\n",
    "    \n"
   ]
  },
  {
   "cell_type": "code",
   "execution_count": null,
   "metadata": {
    "collapsed": false
   },
   "outputs": [],
   "source": [
    "classifyPerson()"
   ]
  },
  {
   "cell_type": "markdown",
   "metadata": {},
   "source": [
    "## 2.3 예제: 필기체 인식 시스템\n",
    "\n",
    "![image](figures/7.png)\n",
    "\n",
    "- **예제: 필기체 인식 시스템에 kNN 사용하기**\n",
    "1. 수집: 제공된 텍스트 파일  \n",
    "2. 준비: 분류기 classify0()을 사용해서 이미지 형태를 리스트 형태로 전환하는 함수 작성  \n",
    "3. 분석: 올바른 데이터인지 확인하기 위해 파이썬 쉘에서 준비된 데이터 관찰  \n",
    "4. 훈련: kNN 알고리즘에는 적용되지 않음  \n",
    "5. 검사: 검사용 예제에 있는 데이터의 일부분을 사용하여 함수 만들기. 검사에 사용되지 않을 예제로부터 검사에 사용될 예제를 분류해 낸다. 예측된 분류 항목이 실제 분류 항목과 일치하지 않는다면, 오류로 간주하고 오류 횟수를 누적한다.  \n",
    "6. 사용: 이 예제에서는 다루지 않는다. 미국에서 메일을 정렬하기 위해 사용되는 시스템처럼 이미지로부터번호를 추출하기 위한 프로그램을 만들 수 있다.  "
   ]
  },
  {
   "cell_type": "markdown",
   "metadata": {},
   "source": [
    "### 2.3.1 준비: 이미지를 검사 벡터로 변환하기"
   ]
  },
  {
   "cell_type": "code",
   "execution_count": null,
   "metadata": {
    "collapsed": true
   },
   "outputs": [],
   "source": [
    "def img2vector(filename): \n",
    "    returnVect = zeros((1, 1024)) \n",
    "    fr = open(filename)\n",
    "    for i in range(32):\n",
    "        lineStr = fr.readline() \n",
    "        for j in range(32):\n",
    "            returnVect[0, 32*i+j] = int(lineStr[j]) \n",
    "    return returnVect\n"
   ]
  },
  {
   "cell_type": "code",
   "execution_count": null,
   "metadata": {
    "collapsed": true
   },
   "outputs": [],
   "source": [
    "testVector = img2vector('testDigits/0_13.txt')"
   ]
  },
  {
   "cell_type": "code",
   "execution_count": null,
   "metadata": {
    "collapsed": false
   },
   "outputs": [],
   "source": [
    "testVector[0, 0:31]"
   ]
  },
  {
   "cell_type": "code",
   "execution_count": null,
   "metadata": {
    "collapsed": false
   },
   "outputs": [],
   "source": [
    "testVector[0, 32:63]"
   ]
  },
  {
   "cell_type": "markdown",
   "metadata": {},
   "source": [
    "### 2.3.2 검사: 필기체 번호에 kNN 적용하기\n",
    "\n"
   ]
  },
  {
   "cell_type": "code",
   "execution_count": null,
   "metadata": {
    "collapsed": false
   },
   "outputs": [],
   "source": [
    "from os import listdir\n",
    "def handwritingClassTest(): \n",
    "    hwLabels=[]\n",
    "    ## 1. 디렉토리 명을 구함\n",
    "    trainingFileList = listdir('trainingDigits') \n",
    "    m = len(trainingFileList)\n",
    "    trainingMat = zeros((m, 1024))\n",
    "    ## 2. 파일명에서 분류 번호를 처리함\n",
    "    for i in range(m):\n",
    "        fileNameStr = trainingFileList[i] \n",
    "        fileStr = fileNameStr.split('.')[0] \n",
    "        classNumStr = int(fileStr.split('_')[0]) \n",
    "        hwLabels.append(classNumStr)\n",
    "        trainingMat[i,:] = img2vector('trainingDigits/%s' % fileNameStr)\n",
    "    testFileList = listdir('testDigits')        #iterate through the test set\n",
    "    errorCount = 0.0\n",
    "    mTest = len(testFileList)\n",
    "    for i in range(mTest):\n",
    "        fileNameStr = testFileList[i]\n",
    "        fileStr = fileNameStr.split('.')[0]     #take off .txt\n",
    "        classNumStr = int(fileStr.split('_')[0])\n",
    "        vectorUnderTest = img2vector('testDigits/%s' % fileNameStr)\n",
    "        classifierResult = classify0(vectorUnderTest, trainingMat, hwLabels, 3)\n",
    "        print (\"the classifier came back with: %d, the real answer is: %d\" % (classifierResult, classNumStr))\n",
    "        if (classifierResult != classNumStr): errorCount += 1.0\n",
    "    print (\"\\nthe total number of errors is: %d\" % errorCount)\n",
    "    print (\"\\nthe total error rate is: %f\" % (errorCount/float(mTest)))\n",
    "        "
   ]
  },
  {
   "cell_type": "code",
   "execution_count": null,
   "metadata": {
    "collapsed": false
   },
   "outputs": [],
   "source": [
    "handwritingClassTest()"
   ]
  },
  {
   "cell_type": "markdown",
   "metadata": {},
   "source": [
    "이 알고리즘은 속도가 느린 편 - 2000번의 거리계산이 일어남 - KNN의 변형인 kD-트리를 통하여 계산횟수를 줄일 수 있다.\n",
    "\n",
    "## 2.4 요약\n",
    "\n",
    "- k최근접 이웃 알고리즘\n",
    "\n",
    "사례 기반 학습\n",
    "\n",
    "데이터 집합 전체 - 큰 저장소 필요\n",
    "\n",
    "모든 데이터에 대하여 거리 계산 - 크기가 커지면 오래걸림\n",
    "\n",
    "데이터 구조에 대한 정보 없음(평균/모범적 사례 식별 불가)"
   ]
  }
 ],
 "metadata": {
  "anaconda-cloud": {},
  "kernelspec": {
   "display_name": "Python [conda env:DAND]",
   "language": "python",
   "name": "conda-env-DAND-py"
  },
  "language_info": {
   "codemirror_mode": {
    "name": "ipython",
    "version": 2
   },
   "file_extension": ".py",
   "mimetype": "text/x-python",
   "name": "python",
   "nbconvert_exporter": "python",
   "pygments_lexer": "ipython2",
   "version": "2.7.12"
  }
 },
 "nbformat": 4,
 "nbformat_minor": 0
}
