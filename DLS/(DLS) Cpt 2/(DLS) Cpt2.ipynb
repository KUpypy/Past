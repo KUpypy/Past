{
 "cells": [
  {
   "cell_type": "markdown",
   "metadata": {},
   "source": [
    "# Chapter 2. 퍼셉트론\n",
    "---\n",
    "    퍼셉트론 알고리즘을 설명\n",
    "    프랑크 로젠블라트(1957) 고안\n",
    "    신경망의 기원"
   ]
  },
  {
   "cell_type": "markdown",
   "metadata": {},
   "source": [
    "## 2.1 퍼셉트론이란?\n",
    "---\n",
    "    * 퍼셉트론\n",
    "    다수의 신호를 입력으로 받아 하나의 신호를 출력\n",
    "    신호: 흐름(1/0)\n",
    "    ex) 2입력 1출력\n",
    "   \n",
    "![img](1.jpeg)\n",
    "\n",
    "${x}_{1}, {x}_{2}$: 입력 신호  \n",
    "y:출력 신호  \n",
    "${w}_{1}, {w}_{2}$: 가중치  \n",
    "원: 뉴런, 노드\n",
    "$\\theta$\n",
    "\n",
    "    작동: 입력신호 * 가중치 의 총합 > 임계값 => 1출력\n",
    "    \n",
    "$ y = \\begin{cases}\n",
    " & \\ 0 ({w}_{1}{x}_{1} + {w}_{2}{x}_{2} \\leq  \\theta)\\\\ \n",
    " & \\ 1 ({w}_{1}{x}_{1} + {w}_{2}{x}_{2} >  \\theta) \n",
    "\\end{cases}$\n",
    "\n",
    "    +) 가중치는 전류의 저항과 비슷하다. 방향만 다를 뿐"
   ]
  },
  {
   "cell_type": "markdown",
   "metadata": {},
   "source": [
    "## 2.2 단순한 논리 회로\n",
    "---\n",
    "### 2.2.1 AND 게이트\n",
    "---\n",
    "    * AND 게이트\n",
    "    모두 1일 때만 1을 출력\n",
    "\n",
    "![img](2.jpeg)\n",
    "\n",
    "    가능한 조합: (0.5, 0.5, 0.7) / (0.5, 0.5, 0.8)/ (1, 1, 1)\n",
    "\n",
    "### 2.2.2 NAND 게이트와 OR게이트\n",
    "---\n",
    "    * NAND 게이트\n",
    "    And의 출력을 뒤집은 것\n",
    "\n",
    "![img](3.jpeg)\n",
    "\n",
    "    가능한 조합: (-0.5, -0.5, -0.7) => And게이트의 가능한 조합의 부호를 뒤집으면 된다.\n",
    "    \n",
    "    * OR게이트\n",
    "    입력 신호중 하나 이상이 1이면 1이 출력\n",
    "\n",
    "![img](4.jpeg)\n",
    "\n",
    "    이 세가지 게이트의 퍼셉트론의 구조는 동일, 매개변수(가중치와 임계값)만 다름\n",
    "\n",
    "    +) 여기서 퍼셉트론들의 매개변수를 정한 것은 인간.\n",
    "    학습: 기계학습에서 데이터를 보며 스스로 매개변수 값을 정하는 작업\n"
   ]
  },
  {
   "cell_type": "markdown",
   "metadata": {},
   "source": [
    "## 2.3 퍼셉트론 구현하기\n",
    "---\n",
    "### 2.3.1 간단한 구현부터\n",
    "---"
   ]
  },
  {
   "cell_type": "code",
   "execution_count": 1,
   "metadata": {
    "collapsed": true
   },
   "outputs": [],
   "source": [
    "def AND(x1, x2):\n",
    "    w1, w2, theta = 0.5, 0.5, 0.7\n",
    "    tmp = x1*w1 + x2*w2\n",
    "    if tmp <= theta:\n",
    "        return 0\n",
    "    elif tmp > theta:\n",
    "        return 1"
   ]
  },
  {
   "cell_type": "code",
   "execution_count": 2,
   "metadata": {
    "collapsed": false
   },
   "outputs": [
    {
     "data": {
      "text/plain": [
       "0"
      ]
     },
     "execution_count": 2,
     "metadata": {},
     "output_type": "execute_result"
    }
   ],
   "source": [
    "AND(0,0)"
   ]
  },
  {
   "cell_type": "markdown",
   "metadata": {},
   "source": [
    "### 2.3.2 가중치와 편향 도입\n",
    "---\n",
    "$\\theta$를 -b로 치환  \n",
    "$ y = \\begin{cases}\n",
    " & \\ 0 (b + {w}_{1}{x}_{1} + {w}_{2}{x}_{2} \\leq  0)\\\\ \n",
    " & \\ 1 (b + {w}_{1}{x}_{1} + {w}_{2}{x}_{2} >  0) \n",
    "\\end{cases}$\n",
    "    * b = 편향 = -$\\theta$ = -임계값"
   ]
  },
  {
   "cell_type": "markdown",
   "metadata": {},
   "source": [
    "### 2.3.3 가중치와 편향 구현하기\n",
    "---"
   ]
  },
  {
   "cell_type": "code",
   "execution_count": null,
   "metadata": {
    "collapsed": true
   },
   "outputs": [],
   "source": [
    "import numpy as np\n",
    "def AND(x1, x2):    \n",
    "    x = np.array([x1, 1x2])\n",
    "    w = np.array([0.5, 0.5])\n",
    "    b = -0.7\n",
    "    tmp = np.sum(w*x) + b\n",
    "    if tmp <= 0:\n",
    "        return 0\n",
    "    else:\n",
    "        return 1"
   ]
  },
  {
   "cell_type": "markdown",
   "metadata": {},
   "source": [
    "    * 엄밀하게 말하면 b와 w는 다른 기능을 함\n",
    "    w는 각 입력 신호의 영향력(중요도)를 조절하는 매개 변수이고\n",
    "    편향은 얼마나 쉽게 활성화 하느냐를 조정하는 매개변수\n",
    "    하지만 구별하지 않고 셋 모두 가중치라고 할 떄도 있음\n",
    "    \n",
    "    +) 편향: 한쪽으로 치우쳐 균형을 깬다\n",
    "    모든 입력이 0이어도 0이 아닌 값을 출력"
   ]
  },
  {
   "cell_type": "code",
   "execution_count": null,
   "metadata": {
    "collapsed": true
   },
   "outputs": [],
   "source": [
    "def NAND(x1, x2):    \n",
    "    x = np.array([x1, 1x2])\n",
    "    w = np.array([-0.5, -0.5])\n",
    "    b = -0.7\n",
    "    tmp = np.sum(w*x) + b\n",
    "    if tmp <= 0:\n",
    "        return 0\n",
    "    else:\n",
    "        return 1\n",
    "\n",
    "def OR(x1, x2):    \n",
    "    x = np.array([x1, 1x2])\n",
    "    w = np.array([0.5, 0.5])\n",
    "    b = -0.2\n",
    "    tmp = np.sum(w*x) + b\n",
    "    if tmp <= 0:\n",
    "        return 0\n",
    "    else:\n",
    "        return 1"
   ]
  },
  {
   "cell_type": "markdown",
   "metadata": {},
   "source": [
    "## 2.4 퍼셉트론의 한계\n",
    "---\n",
    "### 2.4.1 도전! XOR게이트\n",
    "---\n",
    "    * XOR 게이트 (배타적 논리합)\n",
    "    \n",
    "![img](5.jpeg)\n",
    "\n",
    "    => 기존 구조로는 불가능\n",
    "    \n",
    "$ y = \\begin{cases}\n",
    " & \\ 0 (-0.5 + {x}_{1} + {x}_{2} \\leq  0)\\\\ \n",
    " & \\ 1 (-0.5 + {x}_{1} + {x}_{2} >  0) \n",
    "\\end{cases}$\n",
    "    \n",
    "![img](6.jpeg)\n",
    "\n",
    "![img](7.jpeg)\n",
    "     \n",
    "     => 한가지 선으로 나누기 불가능\n",
    "     \n",
    "### 2.4.2 선형과 비선형\n",
    "\n",
    "![img](8.jpeg)\n",
    "\n",
    "    * 선형 vs 비선형"
   ]
  },
  {
   "cell_type": "markdown",
   "metadata": {},
   "source": [
    "## 2.5 다층 퍼셉트론이 출동한다면\n",
    "---\n",
    "    * Multi-layer perceptron (다층 퍼셉트론)  \n",
    "    '층을 쌓아' 해결  \n",
    "    \n",
    "### 2.5.1 기존 게이트 조합하기  \n",
    "---\n",
    "![img](9.jpeg)\n",
    "\n",
    "+) 퍼셉트론의 한계 => 단층 퍼셉트론의 한계: 단층 퍼셉트론으로는 XOR게이트를 표현할 수 없다/ 단층 퍼셉트론으로는 비선형 영역을 분리할 수 없다.\n",
    "\n",
    "![img](10.jpeg)\n",
    "\n",
    "![img](11.jpeg)\n",
    "\n",
    "### 2.5.2 XOR게이트 구현하기\n",
    "---"
   ]
  },
  {
   "cell_type": "code",
   "execution_count": null,
   "metadata": {
    "collapsed": true
   },
   "outputs": [],
   "source": [
    "def XOR(x1, x2):\n",
    "    s1 = NAND(x1, x2)\n",
    "    s2 = OR(x1, x2)\n",
    "    y = AND(s1, s2)\n",
    "    return y\n"
   ]
  },
  {
   "cell_type": "markdown",
   "metadata": {},
   "source": [
    "![img](12.jpeg)\n",
    "\n",
    "    * 다층(2층) 퍼셉트론\n",
    "    \n",
    "    +) 퍼셉트론은 3층이지만 가중치는 2층. 문헌에 따라 2층/3층으로 불리기도 함\n",
    "    \n",
    "    1. 0층의 두 뉴런이 입력 신호를 받아 1층의 뉴런으로 신호를 보낸다.\n",
    "    2. 1층의 뉴런이 2층의 뉴런으로 신호를 보내고, 2층의 뉴런은 이 입력 신호를 바탕으로 y를 출력한다.\n",
    "    cf) 공장 조립라인에서 부품을 전달하는 일\n",
    "    단츨 퍼셉트론으로 표현하지 못한 것을 층을 하나 늘려 구현 가능"
   ]
  },
  {
   "cell_type": "markdown",
   "metadata": {},
   "source": [
    "## 2.6 NAND에서 컴퓨터까지\n",
    "---\n",
    "    퍼셉트론으로 컴퓨터까지 구현 가능\n",
    "    NAND게이트 조합만으로 컴퓨터 재현 가능\n",
    "    elements of computing systems: Building a modern computer from first principles\n",
    "    이론상 2층 퍼셉트론이면 컴퓨터를 만들 수 있음\n",
    "    퍼셉트론은 층을 거듭 쌓으면 비선형적인 표현도 가능하다."
   ]
  },
  {
   "cell_type": "markdown",
   "metadata": {},
   "source": [
    "## 2.7 정리\n",
    "---\n",
    "    퍼셉트론은 입풀력을 갖춘 알고리즘이다. 입력을 주면 정해진 규칙에 따른 값을 출력한다.\n",
    "    퍼셉트론에서는 가중치와 편향을 매개변수로 설정한다.\n",
    "    퍼셉트론으로 AND, OR 게이트 등의 논리 회로를 표현할 수 있다.\n",
    "    XOR 게이트는 단층 퍼셉트론으로는 표현할 수 없다.\n",
    "    2층 퍼셉트론을 이용하면 XOR 게이트를 표현할 수 있다.\n",
    "    단층 퍼셉트론은 직선형 영역만 표현할 수 있고, 다층 퍼셉트론은 비선형 영역도 표현할 수 있다.\n",
    "    다층 퍼셉트론은 (이론상) 컴퓨터를 표현할 수 있다."
   ]
  }
 ],
 "metadata": {
  "anaconda-cloud": {},
  "kernelspec": {
   "display_name": "Python [conda env:DAND]",
   "language": "python",
   "name": "conda-env-DAND-py"
  },
  "language_info": {
   "codemirror_mode": {
    "name": "ipython",
    "version": 2
   },
   "file_extension": ".py",
   "mimetype": "text/x-python",
   "name": "python",
   "nbconvert_exporter": "python",
   "pygments_lexer": "ipython2",
   "version": "2.7.12"
  }
 },
 "nbformat": 4,
 "nbformat_minor": 2
}
