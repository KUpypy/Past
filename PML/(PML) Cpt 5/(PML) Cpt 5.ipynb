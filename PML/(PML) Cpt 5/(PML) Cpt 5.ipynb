{
 "cells": [
  {
   "cell_type": "markdown",
   "metadata": {},
   "source": [
    "# 5. Compressing Data via Dimensionality Reduction\n",
    "\n",
    "- 저번 챕터: feature selection을 통하여 차원을 축소\n",
    "- 이번 챕터: feature extraction: 정보를 요약하여 새로운 feature로 만듬으로서 차원을 축소하는 방법(세가지)\n",
    "\n",
    "• Principal component analysis (PCA) \n",
    "\n",
    "• Linear Discriminant Analysis (LDA) \n",
    "\n",
    "• Nonlinear dimensionality reduction via kernel principal component analysis\n"
   ]
  },
  {
   "cell_type": "markdown",
   "metadata": {},
   "source": [
    "## 1) Unsupervised dimensionality reduction via principal component analysis\n",
    "\n",
    "- Feature Extraction의 장점: 연산 효율성 증가 / 차원의 저주 감소\n",
    "\n",
    "---\n",
    "\n",
    "- Principal component analysis(PCA)\n",
    "\n",
    "1) Unsupervised linear transformation\n",
    "\n",
    "2) 특성들 간의 상관성에 기초하여 데이터내의 패턴 발견\n",
    "\n",
    "3) 고차원 데이터에서 최대분산을 찾아서 새로운 차원에 투영\n",
    "\n",
    "---\n",
    "\n",
    "- 2차원에서 1차원으로 축소\n",
    "\n",
    "![Image](1.png)\n",
    "\n",
    "x1과 x2는 둘다 중요해 보인다.\n",
    "\n",
    "최대 Variance를 가지는 한축과 그에 직교하는 두 축으로 나눈다. 이를 Principal components(PC1/2)라고 한다. \n",
    "\n",
    "PC1을 한 축으로 한 일차원 공간에서는 많은 부분 정보량을 보존할 수 있다. \n",
    "\n",
    "---\n",
    "\n",
    "- PCA로 차원축소\n",
    "\n",
    "![Image](2.png)\n",
    "\n",
    "기존에 d차원의 특성을 가지고 있던 X을\n",
    "\n",
    "k차원의 부분공간으로 이동하기 위하여\n",
    "\n",
    "dXk차원의 W함수를 곱한다. (nXd X dXk = nXk)\n",
    "\n",
    "<W함수를 구하는게 문제>\n",
    "\n",
    "최대 분산 PCA를 한축으로 삼음으로서 다른 PCA들은 서로 연관성이 없다는(직교라는) 전제 하에 최대 분산을 가진다. \n",
    "\n",
    "데이터 스케일에 민감하므로 정규화가 필수이다. \n",
    "\n",
    "---\n",
    "\n",
    "- PCA의 과정\n",
    "\n",
    "1) Standardize the d -dimensional dataset.\n",
    "\n",
    "d차원 데이터 정규화\n",
    "\n",
    "\n",
    "2) Construct the covariance matrix.\n",
    "\n",
    "공분산 행렬\n",
    "\n",
    "\n",
    "3) Decompose the covariance matrix into its eigenvectors and eigenvalues.\n",
    "\n",
    "고유벡터와 고유값으로 분해\n",
    "\n",
    "\n",
    "4) Select k eigenvectors that correspond to the k largest eigenvalues, where k is the dimensionality of the new feature subspace ( k ≤ d ).\n",
    "\n",
    "큰 순으로 k개의 고유값 선택\n",
    "\n",
    "\n",
    "5) Construct a projection matrix W from the \"top\" k eigenvectors.\n",
    "\n",
    "가장 큰 k개의 고유값을 기준으로 투사행렬 W\n",
    "\n",
    "\n",
    "6) Transform the d -dimensional input dataset X using the projection\n",
    "matrix W to obtain the new k -dimensional feature subspace.\n",
    "\n",
    "d차원 데이터 X에 W를 곱하여 K차원 부분공간으로 변환\n"
   ]
  },
  {
   "cell_type": "markdown",
   "metadata": {},
   "source": [
    "### Total and explained variance (1~4steps)\n",
    "\n",
    "- 저번 챕터에서 했던 와인 데이터셋으로 할 것임\n",
    "\n",
    "1) Standardize the d -dimensional dataset.\n",
    "\n",
    "- train:test = 7:3\n",
    "\n",
    "- d차원 데이터 정규화(여기선 13)"
   ]
  },
  {
   "cell_type": "code",
   "execution_count": 1,
   "metadata": {
    "collapsed": true
   },
   "outputs": [],
   "source": [
    "import pandas as pd\n",
    "df_wine = pd.read_csv('https://archive.ics.uci.edu/ml/machine-learning-databases/wine/wine.data', header=None)"
   ]
  },
  {
   "cell_type": "code",
   "execution_count": 2,
   "metadata": {
    "collapsed": false
   },
   "outputs": [],
   "source": [
    "from sklearn.cross_validation import train_test_split\n",
    "from sklearn.preprocessing import StandardScaler\n",
    "X, y = df_wine.iloc[:, 1:].values, df_wine.iloc[:, 0].values\n",
    "X_train, X_test, y_train, y_test = train_test_split(X, y, test_size=0.3, random_state=0)\n",
    "sc = StandardScaler()\n",
    "X_train_std = sc.fit_transform(X_train)\n",
    "X_test_std = sc.fit_transform(X_test)"
   ]
  },
  {
   "cell_type": "markdown",
   "metadata": {},
   "source": [
    "2) Construct the covariance matrix.\n",
    "\n",
    "- 공분산 행렬(symmetric 13X13)\n",
    "\n",
    "![Image](3.png)\n",
    "\n",
    "각 샘플의 j feature와 k feature간의 상관관계를 모두 더한것. 정규화 했으므로 평균은 모두 0이다. \n",
    "\n",
    "![Image](10.png)\n",
    "\n",
    "각 feature간의 공분산을 나타낸 행렬이 sigma이다(sum의미 아님!)\n",
    "\n",
    "예시같은 경우에는 13X13 매트릭스가 된다. \n",
    "\n",
    "---\n",
    "\n",
    "3) Decompose the covariance matrix into its eigenvectors and eigenvalues.\n",
    "\n",
    "- 고유벡터와 고유값으로 분해\n",
    "\n",
    "Σv = λv\n",
    "\n",
    "Eigenvalue:λ(Scalar값)\n",
    "\n",
    "Eigenvector:v(13X13행렬)\n",
    "\n",
    "(Iλ-Σ)v=0(character equation)\n",
    "\n",
    "det(Iλ-Σ)=0을 만드는 λ의 해 13가지 = Eigenvalues\n"
   ]
  },
  {
   "cell_type": "code",
   "execution_count": 3,
   "metadata": {
    "collapsed": false
   },
   "outputs": [
    {
     "name": "stdout",
     "output_type": "stream",
     "text": [
      "\n",
      "Eigenvalues \n",
      "[ 4.8923083   2.46635032  1.42809973  1.01233462  0.84906459  0.60181514\n",
      "  0.52251546  0.08414846  0.33051429  0.29595018  0.16831254  0.21432212\n",
      "  0.2399553 ]\n"
     ]
    }
   ],
   "source": [
    "import numpy as np\n",
    "cov_mat = np.cov(X_train_std.T)\n",
    "eigen_vals, eigen_vecs = np.linalg.eig(cov_mat)\n",
    "print('\\nEigenvalues \\n%s' % eigen_vals) #1X13\n",
    "#print('\\nCovariance Matrix \\n%s' % cov_mat) #13X13\n",
    "#print('\\nEigenvectors \\n%s' % eigen_vecs) #13X13"
   ]
  },
  {
   "cell_type": "markdown",
   "metadata": {},
   "source": [
    "- 차원 축소: 고유벡터들의 부분집합만 선택(기준: 정보(분산)을 많이 가지고 있는 순서)\n",
    "\n",
    "- 고유값은 고유벡터의 정도(magnitude)를 정의. 고유값을 내림차순으로 정리하고 큰순서로 K개의 고유값에 기반한 고유벡터를 선택\n",
    "\n",
    "---\n",
    "\n",
    "- variance explained\n",
    "\n",
    "![Image](11.png)\n",
    "\n",
    "총 고유값들중에 K개를 골라 분산들을 설명한 비율"
   ]
  },
  {
   "cell_type": "code",
   "execution_count": 4,
   "metadata": {
    "collapsed": false
   },
   "outputs": [
    {
     "data": {
      "image/png": "[encoded data removed]",
      "text/plain": [
       "<matplotlib.figure.Figure at 0x11596fa58>"
      ]
     },
     "metadata": {},
     "output_type": "display_data"
    }
   ],
   "source": [
    "%matplotlib inline\n",
    "tot = sum(eigen_vals)\n",
    "var_exp = [(i / tot) for i in sorted(eigen_vals, reverse=True)]\n",
    "cum_var_exp = np.cumsum(var_exp)\n",
    "import matplotlib.pyplot as plt\n",
    "plt.bar(range(1,14), var_exp, alpha=0.5, align='center',label='individual explained variance')\n",
    "plt.step(range(1,14), cum_var_exp, where='mid',label='cumulative explained variance')\n",
    "plt.ylabel('Explained variance ratio')\n",
    "plt.xlabel('Principal components')\n",
    "plt.legend(loc='best')\n",
    "plt.show()"
   ]
  },
  {
   "cell_type": "markdown",
   "metadata": {},
   "source": [
    "- 결과\n",
    "\n",
    "두개의 Principal component가 분산의 60%정도를 설명.\n",
    "\n",
    "랜덤포레스트와 비슷하지만, PCA는 라벨을 준적이 없다. "
   ]
  },
  {
   "cell_type": "markdown",
   "metadata": {},
   "source": [
    "### Feature transformation (5~6step)\n",
    "\n",
    "5) Construct a projection matrix W from the \"top\" k eigenvectors.\n",
    "\n",
    "가장 큰 k개의 고유값을 기준으로 투사행렬 W\n",
    "\n",
    "---\n",
    "\n",
    "고유쌍 = 고유값+고유벡터\n",
    "\n",
    "고유쌍을 내림차순으로 정렬\n"
   ]
  },
  {
   "cell_type": "code",
   "execution_count": 5,
   "metadata": {
    "collapsed": false
   },
   "outputs": [
    {
     "name": "stdout",
     "output_type": "stream",
     "text": [
      "[(4.8923083032737438, array([ 0.14669811, -0.24224554, -0.02993442, -0.25519002,  0.12079772,\n",
      "        0.38934455,  0.42326486, -0.30634956,  0.30572219, -0.09869191,\n",
      "        0.30032535,  0.36821154,  0.29259713])), (2.466350315759231, array([ 0.50417079,  0.24216889,  0.28698484, -0.06468718,  0.22995385,\n",
      "        0.09363991,  0.01088622,  0.01870216,  0.03040352,  0.54527081,\n",
      "       -0.27924322, -0.174365  ,  0.36315461])), (1.4280997275048446, array([-0.11723515,  0.14994658,  0.65639439,  0.58428234,  0.08226275,\n",
      "        0.18080442,  0.14295933,  0.17223475,  0.1583621 , -0.14242171,\n",
      "        0.09323872,  0.19607741, -0.09731711])), (1.0123346209044954, array([ 0.20625461,  0.1304893 ,  0.01515363, -0.09042209, -0.83912835,\n",
      "        0.19317948,  0.14045955,  0.33733262, -0.1147529 ,  0.07878571,\n",
      "        0.02417403,  0.18402864,  0.05676778])), (0.8490645933450256, array([-0.18781595,  0.56863978, -0.29920943, -0.04124995, -0.02719713,\n",
      "        0.14064543,  0.09268665, -0.08584168,  0.56510524,  0.01323461,\n",
      "       -0.37261081,  0.08937967, -0.21752948])), (0.60181514342299047, array([-0.14885132, -0.26905276, -0.09333861, -0.10134239,  0.11256735,\n",
      "        0.01222488, -0.05503452,  0.69534088,  0.49835441,  0.15945216,\n",
      "        0.21651535, -0.23517236,  0.10562138])), (0.52251546206399724, array([-0.17926366, -0.59263673,  0.06073346,  0.25032387, -0.28524056,\n",
      "        0.05314553,  0.07989941, -0.29737172,  0.20251913,  0.39736411,\n",
      "       -0.38465475, -0.08629033, -0.13029829])), (0.33051429173094071, array([-0.40305492, -0.10183371,  0.35184142, -0.50045728,  0.08373917,\n",
      "        0.13511146,  0.00336017,  0.19012076, -0.17602994, -0.21493067,\n",
      "       -0.51725944,  0.13645604,  0.16775843])), (0.29595018365934689, array([-0.41719758,  0.21710149,  0.12854985,  0.04733441, -0.27891878,\n",
      "       -0.28098565, -0.0391443 , -0.27862219,  0.14853946, -0.00410241,\n",
      "        0.19781412, -0.23813815,  0.63735021])), (0.23995530477949117, array([  4.13320786e-04,  -8.78560762e-02,  -4.52518598e-01,\n",
      "         4.86169765e-01,   1.14764951e-01,   9.45645138e-02,\n",
      "        -1.00444099e-01,   2.00128778e-01,  -1.39942067e-01,\n",
      "        -1.15349466e-01,  -3.02254353e-01,   3.18414303e-01,\n",
      "         5.03247839e-01])), (0.21432211869872336, array([ 0.40356719, -0.152475  ,  0.16837606, -0.06709029, -0.10239686,\n",
      "       -0.61860015, -0.13968028,  0.00163324,  0.38856849, -0.3083459 ,\n",
      "       -0.20045639,  0.28410033,  0.03755468])), (0.16831253504096197, array([ 0.27566086, -0.0813845 , -0.01297513,  0.0989088 , -0.09592977,\n",
      "        0.28389764,  0.11672921, -0.03965663,  0.08606027, -0.57165189,\n",
      "       -0.19884453, -0.65086971,  0.07123771])), (0.084148456726794552, array([-0.05546872,  0.03327316, -0.10061857,  0.05616586,  0.09584239,\n",
      "       -0.42126512,  0.8472247 ,  0.1662568 , -0.16619747,  0.03961736,\n",
      "       -0.10538369, -0.09950556, -0.01606618]))]\n"
     ]
    }
   ],
   "source": [
    "eigen_pairs =[(np.abs(eigen_vals[i]),eigen_vecs[:,i]) for i in range(len(eigen_vals))]\n",
    "eigen_pairs.sort(reverse=True)\n",
    "print(eigen_pairs)"
   ]
  },
  {
   "cell_type": "markdown",
   "metadata": {},
   "source": [
    "2개의 특성이 60%를 설명/나중에 시각화 위해 2가지 선택\n",
    "\n",
    "(특성의 숫자는 연산효율과 성능의 Trade-off이 된다.)"
   ]
  },
  {
   "cell_type": "code",
   "execution_count": 6,
   "metadata": {
    "collapsed": false
   },
   "outputs": [
    {
     "name": "stdout",
     "output_type": "stream",
     "text": [
      "Matrix W:\n",
      " [[ 0.14669811  0.50417079]\n",
      " [-0.24224554  0.24216889]\n",
      " [-0.02993442  0.28698484]\n",
      " [-0.25519002 -0.06468718]\n",
      " [ 0.12079772  0.22995385]\n",
      " [ 0.38934455  0.09363991]\n",
      " [ 0.42326486  0.01088622]\n",
      " [-0.30634956  0.01870216]\n",
      " [ 0.30572219  0.03040352]\n",
      " [-0.09869191  0.54527081]\n",
      " [ 0.30032535 -0.27924322]\n",
      " [ 0.36821154 -0.174365  ]\n",
      " [ 0.29259713  0.36315461]]\n"
     ]
    }
   ],
   "source": [
    "w= np.hstack((eigen_pairs[0][1][:, np.newaxis], eigen_pairs[1][1][:, np.newaxis]))\n",
    "print('Matrix W:\\n',w)"
   ]
  },
  {
   "cell_type": "markdown",
   "metadata": {},
   "source": [
    "6) Transform the d -dimensional input dataset X using the projection\n",
    "matrix W to obtain the new k -dimensional feature subspace.\n",
    "\n",
    "d차원 데이터 X에 W를 곱하여 K차원 부분공간으로 변환\n",
    "\n",
    "---\n",
    "x: 1X13 표본 행벡터\n",
    "\n",
    "x'=xW\n",
    "\n",
    "x':우리가 얻은 새로운 2차원 표본 공간에서의 위치\n",
    "\n",
    "---\n",
    "X: nX13 표본 전체\n",
    "\n",
    "X'=XW\n",
    "\n",
    "X': 표본 전체 2차원 공간으로 이동"
   ]
  },
  {
   "cell_type": "code",
   "execution_count": 7,
   "metadata": {
    "collapsed": false
   },
   "outputs": [
    {
     "data": {
      "text/plain": [
       "array([ 2.59891628,  0.00484089])"
      ]
     },
     "execution_count": 7,
     "metadata": {},
     "output_type": "execute_result"
    }
   ],
   "source": [
    "X_train_std[0].dot(w)"
   ]
  },
  {
   "cell_type": "code",
   "execution_count": 8,
   "metadata": {
    "collapsed": true
   },
   "outputs": [],
   "source": [
    "X_train_pca = X_train_std.dot(w)"
   ]
  },
  {
   "cell_type": "code",
   "execution_count": 9,
   "metadata": {
    "collapsed": false
   },
   "outputs": [
    {
     "data": {
      "image/png": "[encoded data removed]",
      "text/plain": [
       "<matplotlib.figure.Figure at 0x118ee1e48>"
      ]
     },
     "metadata": {},
     "output_type": "display_data"
    }
   ],
   "source": [
    "%matplotlib inline\n",
    "import matplotlib.pyplot as plt\n",
    "colors = ['r', 'b', 'g']\n",
    "markers = ['s', 'x', 'o']\n",
    "for l, c, m in zip(np.unique(y_train), colors, markers): \n",
    "    plt.scatter(X_train_pca[y_train==l, 0],X_train_pca[y_train==l, 1],c=c, label=l, marker=m)\n",
    "plt.xlabel('PC 1')\n",
    "plt.ylabel('PC 2')\n",
    "plt.legend(loc='lower left')\n",
    "plt.show()"
   ]
  },
  {
   "cell_type": "markdown",
   "metadata": {},
   "source": [
    "- 결과\n",
    "\n",
    "x(첫번째 PCA)가 더 퍼져있는 것을 알 수 있다. \n",
    "\n",
    "선형 클래시파이어들이 잘 작동하게 생겼다. \n",
    "\n",
    "보기 쉽도록 라벨을 표시해 놓았지만, 비지도 학습이다!"
   ]
  },
  {
   "cell_type": "code",
   "execution_count": 10,
   "metadata": {
    "collapsed": false
   },
   "outputs": [
    {
     "data": {
      "image/png": "[encoded data removed]",
      "text/plain": [
       "<matplotlib.figure.Figure at 0x1033bb470>"
      ]
     },
     "metadata": {},
     "output_type": "display_data"
    }
   ],
   "source": [
    "from matplotlib.colors import ListedColormap\n",
    "def plot_decision_regions(X, y, classifier, resolution=0.02):\n",
    "    # setup marker generator and color map\n",
    "    markers = ('s', 'x', 'o', '^', 'v')\n",
    "    colors = ('red', 'blue', 'lightgreen', 'gray', 'cyan')\n",
    "    cmap = ListedColormap(colors[:len(np.unique(y))])\n",
    "    # plot the decision surface\n",
    "    x1_min, x1_max = X[:, 0].min() - 1, X[:, 0].max() + 1\n",
    "    x2_min, x2_max = X[:, 1].min() - 1, X[:, 1].max() + 1\n",
    "    xx1, xx2 = np.meshgrid(np.arange(x1_min, x1_max, resolution),\n",
    "                        np.arange(x2_min, x2_max, resolution))\n",
    "    Z = classifier.predict(np.array([xx1.ravel(), xx2.ravel()]).T)\n",
    "    Z = Z.reshape(xx1.shape)\n",
    "    plt.contourf(xx1, xx2, Z, alpha=0.4, cmap=cmap)\n",
    "    plt.xlim(xx1.min(), xx1.max())\n",
    "    plt.ylim(xx2.min(), xx2.max())\n",
    "    # plot class samples\n",
    "    for idx, cl in enumerate(np.unique(y)):\n",
    "        plt.scatter(x=X[y == cl, 0], y=X[y == cl, 1], alpha=0.8, c=cmap(idx), marker=markers[idx], label=cl)\n",
    "from sklearn.linear_model import LogisticRegression\n",
    "from sklearn.decomposition import PCA\n",
    "pca = PCA(n_components=2)\n",
    "lr = LogisticRegression()\n",
    "X_train_pca = pca.fit_transform(X_train_std)\n",
    "X_test_pca = pca.transform(X_test_std)\n",
    "lr.fit(X_train_pca, y_train)\n",
    "plot_decision_regions(X_train_pca, y_train, classifier=lr)\n",
    "plt.xlabel('PC1')\n",
    "plt.ylabel('PC2')\n",
    "plt.legend(loc='lower left')\n",
    "plt.show()\n",
    "\n",
    "#반대로 보이는 이유는 고유값 절대값 취하기 때문에 달라지는것"
   ]
  },
  {
   "cell_type": "code",
   "execution_count": 11,
   "metadata": {
    "collapsed": false
   },
   "outputs": [
    {
     "data": {
      "image/png": "[encoded data removed]",
      "text/plain": [
       "<matplotlib.figure.Figure at 0x118ef3048>"
      ]
     },
     "metadata": {},
     "output_type": "display_data"
    }
   ],
   "source": [
    "plot_decision_regions(X_test_pca, y_test, classifier=lr)\n",
    "plt.xlabel('PC1')\n",
    "plt.ylabel('PC2')\n",
    "plt.legend(loc='lower left')\n",
    "plt.show()"
   ]
  },
  {
   "cell_type": "code",
   "execution_count": 12,
   "metadata": {
    "collapsed": false
   },
   "outputs": [
    {
     "name": "stdout",
     "output_type": "stream",
     "text": [
      "[ 0.37329648  0.18818926  0.10896791  0.07724389  0.06478595  0.04592014\n",
      "  0.03986936  0.02521914  0.02258181  0.01830924  0.01635336  0.01284271\n",
      "  0.00642076]\n"
     ]
    },
    {
     "data": {
      "text/plain": [
       "0.99999999999999978"
      ]
     },
     "execution_count": 12,
     "metadata": {},
     "output_type": "execute_result"
    }
   ],
   "source": [
    "pca = PCA(n_components=None) #각 feature의 분산 기여도\n",
    "X_train_pca = pca.fit_transform(X_train_std)\n",
    "print(pca.explained_variance_ratio_)\n",
    "sum(pca.explained_variance_ratio_)"
   ]
  },
  {
   "cell_type": "markdown",
   "metadata": {},
   "source": [
    "## 2) Supervised data compression via linear discriminant analysis\n",
    "\n",
    "- Linear Discriminant Analysis (LDA) \n",
    "\n",
    "PCA와 개념이 유사하다\n",
    "\n",
    "PCA: 최대 분산의 직교축들을 찾는것이 목표\n",
    "\n",
    "PCA, LDA모두 선형변형을 한다. PCA는 unsupervised LDA는 Supervised\n",
    "\n",
    "LDA가 우수할것이라고 믿기 쉽지만 어떤 경우의 이미지 인식이나 표본이 작을때 PCA가 우수하다고 한다. \n",
    "\n",
    "---\n",
    "\n",
    "![Image](4.png)\n",
    "\n",
    "x1(LD1): 구분 잘함\n",
    "\n",
    "x2(LD2): 분산은 크지만 클래스 구분 불가\n",
    "\n",
    "---\n",
    "\n",
    "- 가정\n",
    "\n",
    "데이터가 정규분포되어있다고 가정\n",
    "\n",
    "클래스들이 같은 공분산을 가지고 있고 특성들이 통계적으로 독립되어있다고 가정\n",
    "\n",
    "하지만 몇가지 위반되더라도 잘 작동한다.\n",
    "\n",
    "---\n",
    "\n",
    "- 과정\n",
    "\n",
    "1) Standardize the d -dimensional dataset ( d is the number of features).\n",
    "\n",
    "정규화\n",
    "\n",
    "2) For each class, compute the d -dimensional mean vector.\n",
    "\n",
    "평균벡터\n",
    "\n",
    "3) Construct the between-class scatter matrix SB and the within-class scatter matrix Sw .\n",
    "\n",
    "클래스간 분산/ 클래스내 분산\n",
    "\n",
    "4) Compute the eigenvectors and corresponding eigenvalues of the matrix SW−1SB.\n",
    "\n",
    "SW−1SB의 고유값과 고유벡터 구하기\n",
    "\n",
    "5) Choose the k eigenvectors that correspond to the k largest eigenvalues to construct a d × k -dimensional transformation matrix W ; the eigenvectors are the columns of this matrix.\n",
    "\n",
    "큰 순서로 k개 고유값을 골라 W를 형성\n",
    "\n",
    "6) Project the samples onto the new feature subspace using the transformation matrix W .\n",
    "\n",
    "투영"
   ]
  },
  {
   "cell_type": "markdown",
   "metadata": {},
   "source": [
    "### Computing the scatter matrices (1~3 steps)\n",
    "\n",
    "2) 클래스 별로 평균 벡터\n",
    "\n",
    "![Image](5.png)\n",
    "\n"
   ]
  },
  {
   "cell_type": "code",
   "execution_count": 13,
   "metadata": {
    "collapsed": true
   },
   "outputs": [],
   "source": [
    "import pandas as pd\n",
    "df_wine = pd.read_csv('https://archive.ics.uci.edu/ml/machine-learning-databases/wine/wine.data', header=None)\n",
    "from sklearn.cross_validation import train_test_split\n",
    "from sklearn.preprocessing import StandardScaler\n",
    "X, y = df_wine.iloc[:, 1:].values, df_wine.iloc[:, 0].values\n",
    "X_train, X_test, y_train, y_test = train_test_split(X, y, test_size=0.3, random_state=0)\n",
    "sc = StandardScaler()\n",
    "X_train_std = sc.fit_transform(X_train)\n",
    "X_test_std = sc.fit_transform(X_test)"
   ]
  },
  {
   "cell_type": "code",
   "execution_count": 14,
   "metadata": {
    "collapsed": false
   },
   "outputs": [
    {
     "name": "stdout",
     "output_type": "stream",
     "text": [
      "MB 1: [ 0.9259 -0.3091  0.2592 -0.7989  0.3039  0.9608  1.0515 -0.6306  0.5354\n",
      "  0.2209  0.4855  0.798   1.2017]\n",
      "\n",
      "MB 2: [-0.8727 -0.3854 -0.4437  0.2481 -0.2409 -0.1059  0.0187 -0.0164  0.1095\n",
      " -0.8796  0.4392  0.2776 -0.7016]\n",
      "\n",
      "MB 3: [ 0.1637  0.8929  0.3249  0.5658 -0.01   -0.9499 -1.228   0.7436 -0.7652\n",
      "  0.979  -1.1698 -1.3007 -0.3912]\n",
      "\n"
     ]
    }
   ],
   "source": [
    "np.set_printoptions(precision=4)#소수점 네자리 까지\n",
    "mean_vecs = []\n",
    "for label in range(1,4):\n",
    "    mean_vecs.append(np.mean(X_train_std[y_train==label], axis=0)) #y_train 중 label과 같은 sample들의 세로 평균을 구한다\n",
    "    print('MB %s: %s\\n' %(label, mean_vecs[label-1]))\n",
    "# print(mean_vecs) [array([13])X3]"
   ]
  },
  {
   "cell_type": "markdown",
   "metadata": {},
   "source": [
    "![Image](6.png)\n"
   ]
  },
  {
   "cell_type": "code",
   "execution_count": 15,
   "metadata": {
    "collapsed": false
   },
   "outputs": [
    {
     "name": "stdout",
     "output_type": "stream",
     "text": [
      "Within-class scatter matrix: 13x13\n"
     ]
    }
   ],
   "source": [
    "d = 13 # number of features\n",
    "S_W = np.zeros((d, d)) #13X13 0행렬 생성\n",
    "for label,mv in zip(range(1,4), mean_vecs):\n",
    "    class_scatter = np.zeros((d, d)) #13X13 0행렬 생성\n",
    "    for row in X[y == label]: #X_train_std가 아닌 원래 X에 대해서\n",
    "        row, mv = row.reshape(d, 1), mv.reshape(d, 1)#1X1의 리스트가 13행 1열 로 정렬\n",
    "        class_scatter += (row-mv).dot((row-mv).T) #13X1 X 1X13 = 13X13\n",
    "    S_W += class_scatter #13X13행렬\n",
    "print('Within-class scatter matrix: %sx%s'% (S_W.shape[0], S_W.shape[1]))"
   ]
  },
  {
   "cell_type": "code",
   "execution_count": 16,
   "metadata": {
    "collapsed": false
   },
   "outputs": [
    {
     "name": "stdout",
     "output_type": "stream",
     "text": [
      "Class label distribution: [40 49 35]\n"
     ]
    }
   ],
   "source": [
    "print('Class label distribution: %s'% np.bincount(y_train)[1:])"
   ]
  },
  {
   "cell_type": "markdown",
   "metadata": {},
   "source": [
    "위를 보면 클래스 분포가 다른 것으로 보아 균등 분포 가정을 위반하고 있다. 그렇기 때문에 샘플 사이즈로 나누어 주면 공분산이 된다. \n",
    "\n",
    "- 공분산=클래스 내 분포\n",
    "\n",
    "![Image](7.png)\n",
    "\n",
    "- 클래스 간 분포\n",
    "\n",
    "![Image](8.png)\n"
   ]
  },
  {
   "cell_type": "code",
   "execution_count": 17,
   "metadata": {
    "collapsed": false
   },
   "outputs": [],
   "source": [
    "# print(list(zip(range(1, 4), mean_vecs)))\n",
    "# print(np.cov(X_train_std[y_train==label].T))"
   ]
  },
  {
   "cell_type": "code",
   "execution_count": 18,
   "metadata": {
    "collapsed": false
   },
   "outputs": [
    {
     "name": "stdout",
     "output_type": "stream",
     "text": [
      "Scaled within-class scatter matrix: 13x13\n"
     ]
    }
   ],
   "source": [
    "d = 13 # number of features\n",
    "S_W = np.zeros((d, d))\n",
    "for label,mv in zip(range(1, 4), mean_vecs): #1X3\n",
    "    class_scatter = np.cov(X_train_std[y_train==label].T) #13X13 - 각 샘플들의 공분산\n",
    "    S_W += class_scatter\n",
    "print('Scaled within-class scatter matrix: %sx%s'% (S_W.shape[0], S_W.shape[1]))"
   ]
  },
  {
   "cell_type": "code",
   "execution_count": 19,
   "metadata": {
    "collapsed": false
   },
   "outputs": [],
   "source": [
    "#for i in enumerate(mean_vecs):\n",
    "#    print(i)\n",
    "#for i in zip(range(1, 4), mean_vecs):\n",
    " #   print(i)\n",
    "#S_B.shape[0]"
   ]
  },
  {
   "cell_type": "code",
   "execution_count": 20,
   "metadata": {
    "collapsed": false
   },
   "outputs": [
    {
     "name": "stdout",
     "output_type": "stream",
     "text": [
      "Between-class scatter matrix: 13x13\n"
     ]
    }
   ],
   "source": [
    "mean_overall = np.mean(X_train_std, axis=0)\n",
    "d = 13 # number of features\n",
    "S_B = np.zeros((d, d))\n",
    "for i,mean_vec in enumerate(mean_vecs):\n",
    "    n = X[y==i+1, :].shape[0] # number of row/ all data\n",
    "    mean_vec = mean_vec.reshape(d, 1) #13X1\n",
    "    mean_overall = mean_overall.reshape(d, 1)\n",
    "S_B += n * (mean_vec - mean_overall).dot((mean_vec - mean_overall).T) #13X13\n",
    "print('Between-class scatter matrix: %sx%s'% (S_B.shape[0], S_B.shape[1])) #row X col"
   ]
  },
  {
   "cell_type": "markdown",
   "metadata": {},
   "source": [
    "### Selecting linear discriminants for the new feature subspace (4~5 steps)\n",
    "\n",
    "PCA는 공분산 고유값분해를 한 반면\n",
    "\n",
    "여기서는 SW−1SB의 일반화된 고유값을 찾는다. "
   ]
  },
  {
   "cell_type": "code",
   "execution_count": 21,
   "metadata": {
    "collapsed": false
   },
   "outputs": [],
   "source": [
    "eigen_vals, eigen_vecs = np.linalg.eig(np.linalg.inv(S_W).dot(S_B)) #linalg = linear algebra"
   ]
  },
  {
   "cell_type": "code",
   "execution_count": 22,
   "metadata": {
    "collapsed": false
   },
   "outputs": [
    {
     "name": "stdout",
     "output_type": "stream",
     "text": [
      "Eigenvalues in decreasing order:\n",
      "\n",
      "370.011096511\n",
      "5.01743507883e-14\n",
      "4.39859713164e-14\n",
      "1.70949715469e-14\n",
      "1.70949715469e-14\n",
      "1.52242039115e-14\n",
      "5.2110108146e-15\n",
      "5.2110108146e-15\n",
      "4.33033902073e-15\n",
      "2.60378924092e-15\n",
      "7.26920315324e-16\n",
      "1.48678013172e-16\n",
      "0.0\n"
     ]
    }
   ],
   "source": [
    "eigen_pairs = [(np.abs(eigen_vals[i]), eigen_vecs[:,i]) for i in range(len(eigen_vals))]\n",
    "eigen_pairs = sorted(eigen_pairs,key=lambda k: k[0], reverse=True)\n",
    "print('Eigenvalues in decreasing order:\\n')\n",
    "for eigen_val in eigen_pairs:\n",
    "    print(eigen_val[0])"
   ]
  },
  {
   "cell_type": "code",
   "execution_count": 23,
   "metadata": {
    "collapsed": false
   },
   "outputs": [
    {
     "data": {
      "image/png": "[encoded data removed]",
      "text/plain": [
       "<matplotlib.figure.Figure at 0x119034470>"
      ]
     },
     "metadata": {},
     "output_type": "display_data"
    }
   ],
   "source": [
    "tot = sum(eigen_vals.real)\n",
    "discr = [(i / tot) for i in sorted(eigen_vals.real, reverse=True)]\n",
    "cum_discr = np.cumsum(discr)\n",
    "plt.bar(range(1, 14), discr, alpha=0.5, align='center',label='individual \"discriminability\"')\n",
    "plt.step(range(1, 14), cum_discr, where='mid',label='cumulative \"discriminability\"')\n",
    "plt.ylabel('\"discriminability\" ratio')\n",
    "plt.xlabel('Linear Discriminants')\n",
    "plt.ylim([-0.1, 1.1])\n",
    "plt.legend(loc='best')\n",
    "plt.show()"
   ]
  },
  {
   "cell_type": "code",
   "execution_count": 24,
   "metadata": {
    "collapsed": false
   },
   "outputs": [
    {
     "name": "stdout",
     "output_type": "stream",
     "text": [
      "Matrix W:\n",
      " [[-0.0102  0.024 ]\n",
      " [-0.0823 -0.5749]\n",
      " [-0.0546 -0.03  ]\n",
      " [-0.122   0.2214]\n",
      " [ 0.0062 -0.0052]\n",
      " [-0.2257 -0.2823]\n",
      " [ 0.8044  0.4656]\n",
      " [ 0.0942 -0.1366]\n",
      " [-0.0508 -0.2001]\n",
      " [-0.2398 -0.1386]\n",
      " [ 0.1122 -0.1568]\n",
      " [ 0.3914 -0.4682]\n",
      " [ 0.2062  0.028 ]]\n"
     ]
    }
   ],
   "source": [
    "w = np.hstack((eigen_pairs[0][1][:, np.newaxis].real,eigen_pairs[1][1][:, np.newaxis].real))\n",
    "print('Matrix W:\\n', w)"
   ]
  },
  {
   "cell_type": "markdown",
   "metadata": {},
   "source": [
    "### Projecting samples onto the new feature space (6)\n",
    "\n",
    "투영\n",
    "\n",
    "X'=XW"
   ]
  },
  {
   "cell_type": "code",
   "execution_count": 25,
   "metadata": {
    "collapsed": false
   },
   "outputs": [
    {
     "data": {
      "image/png": "[encoded data removed]",
      "text/plain": [
       "<matplotlib.figure.Figure at 0x118f5e588>"
      ]
     },
     "metadata": {},
     "output_type": "display_data"
    }
   ],
   "source": [
    "X_train_lda = X_train_std.dot(w)\n",
    "colors = ['r', 'b', 'g']\n",
    "markers = ['s', 'x', 'o']\n",
    "for l, c, m in zip(np.unique(y_train), colors, markers):\n",
    "    plt.scatter(X_train_lda[y_train==l, 0],X_train_lda[y_train==l, 1],c=c, label=l, marker=m)\n",
    "plt.xlabel('LD 1')\n",
    "plt.ylabel('LD 2')\n",
    "plt.legend(loc='upper right')\n",
    "plt.show()"
   ]
  },
  {
   "cell_type": "markdown",
   "metadata": {},
   "source": [
    "### LDA via scikit-learn"
   ]
  },
  {
   "cell_type": "code",
   "execution_count": 26,
   "metadata": {
    "collapsed": false
   },
   "outputs": [
    {
     "name": "stderr",
     "output_type": "stream",
     "text": [
      "/Users/SungwonLyu/anaconda/lib/python3.5/site-packages/sklearn/lda.py:4: DeprecationWarning: lda.LDA has been moved to discriminant_analysis.LinearDiscriminantAnalysis in 0.17 and will be removed in 0.19\n",
      "  \"in 0.17 and will be removed in 0.19\", DeprecationWarning)\n"
     ]
    }
   ],
   "source": [
    "from sklearn.lda import LDA\n",
    "lda = LDA(n_components=2)\n",
    "X_train_lda = lda.fit_transform(X_train_std, y_train)"
   ]
  },
  {
   "cell_type": "code",
   "execution_count": 27,
   "metadata": {
    "collapsed": false
   },
   "outputs": [
    {
     "data": {
      "image/png": "[encoded data removed]",
      "text/plain": [
       "<matplotlib.figure.Figure at 0x11901dc50>"
      ]
     },
     "metadata": {},
     "output_type": "display_data"
    }
   ],
   "source": [
    "lr = LogisticRegression()\n",
    "lr = lr.fit(X_train_lda, y_train)\n",
    "plot_decision_regions(X_train_lda, y_train, classifier=lr)\n",
    "plt.xlabel('LD 1')\n",
    "plt.ylabel('LD 2')\n",
    "plt.legend(loc='lower left')\n",
    "plt.show()"
   ]
  },
  {
   "cell_type": "code",
   "execution_count": 28,
   "metadata": {
    "collapsed": false
   },
   "outputs": [
    {
     "data": {
      "image/png": "[encoded data removed]",
      "text/plain": [
       "<matplotlib.figure.Figure at 0x11b61e8d0>"
      ]
     },
     "metadata": {},
     "output_type": "display_data"
    }
   ],
   "source": [
    "X_test_lda = lda.transform(X_test_std)\n",
    "plot_decision_regions(X_test_lda, y_test, classifier=lr)\n",
    "plt.xlabel('LD 1')\n",
    "plt.ylabel('LD 2')\n",
    "plt.legend(loc='lower left')\n",
    "plt.show()"
   ]
  },
  {
   "cell_type": "code",
   "execution_count": 29,
   "metadata": {
    "collapsed": false
   },
   "outputs": [],
   "source": [
    "from scipy.spatial.distance import pdist, squareform\n",
    "from scipy import exp\n",
    "from scipy.linalg import eigh\n",
    "import numpy as np\n",
    "def rbf_kernel_pca(X, gamma, n_components):\n",
    "    \"\"\"\n",
    "    RBF kernel PCA implementation.\n",
    "    Parameters\n",
    "    ------------\n",
    "    X: {NumPy ndarray}, shape = [n_samples, n_features]\n",
    "    gamma: float\n",
    "     Tuning parameter of the RBF kernel\n",
    "    n_components: int\n",
    "     Number of principal components to return\n",
    "    Returns\n",
    "    ------------\n",
    "    X_pc: {NumPy ndarray}, shape = [n_samples, k_features]\n",
    "      Projected dataset\n",
    "    \"\"\"\n",
    "    # Calculate pairwise squared Euclidean distances\n",
    "    # in the MxN dimensional dataset.\n",
    "    sq_dists = pdist(X, 'sqeuclidean')\n",
    "    # Convert pairwise distances into a square matrix.\n",
    "    mat_sq_dists = squareform(sq_dists)\n",
    "    # Compute the symmetric kernel matrix.\n",
    "    K = exp(-gamma * mat_sq_dists)\n",
    "    # Center the kernel matrix.\n",
    "    N = K.shape[0]\n",
    "    one_n = np.ones((N,N)) / N\n",
    "    K = K - one_n.dot(K) - K.dot(one_n) + one_n.dot(K).dot(one_n)\n",
    "    # Obtaining eigenpairs from the centered kernel matrix\n",
    "    # numpy.eigh returns them in sorted order\n",
    "    eigvals, eigvecs = eigh(K)\n",
    "    # Collect the top k eigenvectors (projected samples)\n",
    "    X_pc = np.column_stack((eigvecs[:, -i] for i in range(1, n_components + 1)))\n",
    "    return X_pc\n"
   ]
  },
  {
   "cell_type": "code",
   "execution_count": null,
   "metadata": {
    "collapsed": false
   },
   "outputs": [
    {
     "data": {
      "image/png": "[encoded data removed]",
      "text/plain": [
       "<matplotlib.figure.Figure at 0x10960d390>"
      ]
     },
     "metadata": {},
     "output_type": "display_data"
    }
   ],
   "source": [
    "from sklearn.datasets import make_moons\n",
    "X, y = make_moons(n_samples=100, random_state=123)\n",
    "plt.scatter(X[y==0, 0], X[y==0, 1], color='red', marker='^', alpha=0.5)\n",
    "plt.scatter(X[y==1, 0], X[y==1, 1], color='blue', marker='o', alpha=0.5)\n",
    "plt.show()"
   ]
  },
  {
   "cell_type": "code",
   "execution_count": null,
   "metadata": {
    "collapsed": false
   },
   "outputs": [
    {
     "data": {
      "image/png": "[encoded data removed]",
      "text/plain": [
       "<matplotlib.figure.Figure at 0x11b750e48>"
      ]
     },
     "metadata": {},
     "output_type": "display_data"
    }
   ],
   "source": [
    "from sklearn.decomposition import PCA\n",
    "scikit_pca = PCA(n_components=2)\n",
    "X_spca = scikit_pca.fit_transform(X)\n",
    "fig, ax = plt.subplots(nrows=1,ncols=2, figsize=(7,3))\n",
    "ax[0].scatter(X_spca[y==0, 0], X_spca[y==0, 1], color='red', marker='^', alpha=0.5)\n",
    "ax[0].scatter(X_spca[y==1, 0], X_spca[y==1, 1], color='blue', marker='o', alpha=0.5)\n",
    "ax[1].scatter(X_spca[y==0, 0], np.zeros((50,1))+0.02, color='red', marker='^', alpha=0.5)\n",
    "ax[1].scatter(X_spca[y==1, 0], np.zeros((50,1))-0.02, color='blue', marker='o', alpha=0.5)\n",
    "ax[0].set_xlabel('PC1')\n",
    "ax[0].set_ylabel('PC2')\n",
    "ax[1].set_ylim([-1, 1])\n",
    "ax[1].set_yticks([])\n",
    "ax[1].set_xlabel('PC1')\n",
    "plt.show()"
   ]
  },
  {
   "cell_type": "code",
   "execution_count": null,
   "metadata": {
    "collapsed": false
   },
   "outputs": [
    {
     "ename": "SyntaxError",
     "evalue": "invalid syntax (<ipython-input-32-b17afb185b6f>, line 2)",
     "output_type": "error",
     "traceback": [
      "\u001b[0;36m  File \u001b[0;32m\"<ipython-input-32-b17afb185b6f>\"\u001b[0;36m, line \u001b[0;32m2\u001b[0m\n\u001b[0;31m    X_kpca = rbf_kernel_pca(X, gamma=15, n_components=2) fig, ax = plt.subplots(nrows=1,ncols=2, figsize=(7,3))\u001b[0m\n\u001b[0m                                                           ^\u001b[0m\n\u001b[0;31mSyntaxError\u001b[0m\u001b[0;31m:\u001b[0m invalid syntax\n"
     ]
    }
   ],
   "source": [
    "from matplotlib.ticker import FormatStrFormatter\n",
    "X_kpca = rbf_kernel_pca(X, gamma=15, n_components=2) fig, ax = plt.subplots(nrows=1,ncols=2, figsize=(7,3))\n",
    "ax[0].scatter(X_kpca[y==0, 0], X_kpca[y==0, 1],\n",
    "    color='red', marker='^', alpha=0.5)\n",
    "ax[0].scatter(X_kpca[y==1, 0], X_kpca[y==1, 1],\n",
    "    color='blue', marker='o', alpha=0.5)\n",
    "ax[1].scatter(X_kpca[y==0, 0], np.zeros((50,1))+0.02,\n",
    "    color='red', marker='^', alpha=0.5)\n",
    "ax[1].scatter(X_kpca[y==1, 0], np.zeros((50,1))-0.02,\n",
    "    color='blue', marker='o', alpha=0.5)\n",
    "ax[0].set_xlabel('PC1')\n",
    "ax[0].set_ylabel('PC2')\n",
    "ax[1].set_ylim([-1, 1])\n",
    "ax[1].set_yticks([])\n",
    "ax[1].set_xlabel('PC1')\n",
    "ax[0].xaxis.set_major_formatter(FormatStrFormatter('%0.1f'))\n",
    "ax[1].xaxis.set_major_formatter(FormatStrFormatter('%0.1f'))\n",
    "plt.show()                     "
   ]
  },
  {
   "cell_type": "code",
   "execution_count": null,
   "metadata": {
    "collapsed": true
   },
   "outputs": [],
   "source": [
    "from sklearn.datasets import make_circles\n",
    "X, y = make_circles(n_samples=1000, random_state=123, noise=0.1, factor=0.2)\n",
    "plt.scatter(X[y==0, 0], X[y==0, 1], color='red', marker='^', alpha=0.5)\n",
    "plt.scatter(X[y==1, 0], X[y==1, 1], color='blue', marker='o', alpha=0.5)\n",
    "plt.show()"
   ]
  },
  {
   "cell_type": "code",
   "execution_count": null,
   "metadata": {
    "collapsed": false
   },
   "outputs": [],
   "source": [
    "scikit_pca = PCA(n_components=2)\n",
    "X_spca = scikit_pca.fit_transform(X)\n",
    "fig, ax = plt.subplots(nrows=1,ncols=2, figsize=(7,3))\n",
    "ax[0].scatter(X_spca[y==0, 0], X_spca[y==0, 1],\n",
    "               color='red', marker='^', alpha=0.5)\n",
    "ax[0].scatter(X_spca[y==1, 0], X_spca[y==1, 1],\n",
    "               color='blue', marker='o', alpha=0.5)\n",
    "ax[1].scatter(X_spca[y==0, 0], np.zeros((500,1))+0.02,\n",
    "              color='red', marker='^', alpha=0.5)\n",
    "ax[1].scatter(X_spca[y==1, 0], np.zeros((500,1))-0.02,\n",
    "               color='blue', marker='o', alpha=0.5)\n",
    "ax[0].set_xlabel('PC1')\n",
    "ax[0].set_ylabel('PC2')\n",
    "ax[1].set_ylim([-1, 1])\n",
    "ax[1].set_yticks([])\n",
    "ax[1].set_xlabel('PC1')\n",
    "plt.show()"
   ]
  },
  {
   "cell_type": "code",
   "execution_count": null,
   "metadata": {
    "collapsed": true
   },
   "outputs": [],
   "source": [
    "X_kpca = rbf_kernel_pca(X, gamma=15, n_components=2)\n",
    "fig, ax = plt.subplots(nrows=1,ncols=2, figsize=(7,3))\n",
    "ax[0].scatter(X_kpca[y==0, 0], X_kpca[y==0, 1],\n",
    "               color='red', marker='^', alpha=0.5)\n",
    "ax[0].scatter(X_kpca[y==1, 0], X_kpca[y==1, 1],\n",
    "               color='blue', marker='o', alpha=0.5)\n",
    "ax[1].scatter(X_kpca[y==0, 0], np.zeros((500,1))+0.02,\n",
    "               color='red', marker='^', alpha=0.5)\n",
    "ax[1].scatter(X_kpca[y==1, 0], np.zeros((500,1))-0.02,\n",
    "               color='blue', marker='o', alpha=0.5)\n",
    "ax[0].set_xlabel('PC1')\n",
    "ax[0].set_ylabel('PC2')\n",
    "ax[1].set_ylim([-1, 1])\n",
    "ax[1].set_yticks([])\n",
    "ax[1].set_xlabel('PC1')\n",
    "plt.show()"
   ]
  },
  {
   "cell_type": "code",
   "execution_count": null,
   "metadata": {
    "collapsed": true
   },
   "outputs": [],
   "source": []
  }
 ],
 "metadata": {
  "anaconda-cloud": {},
  "kernelspec": {
   "display_name": "Python [Root]",
   "language": "python",
   "name": "Python [Root]"
  },
  "language_info": {
   "codemirror_mode": {
    "name": "ipython",
    "version": 3
   },
   "file_extension": ".py",
   "mimetype": "text/x-python",
   "name": "python",
   "nbconvert_exporter": "python",
   "pygments_lexer": "ipython3",
   "version": "3.5.2"
  }
 },
 "nbformat": 4,
 "nbformat_minor": 0
}
