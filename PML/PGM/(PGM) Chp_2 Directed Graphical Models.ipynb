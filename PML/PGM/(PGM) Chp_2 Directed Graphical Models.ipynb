{
 "cells": [
  {
   "cell_type": "markdown",
   "metadata": {},
   "source": [
    "# Cpt2. Directed Graphical Models"
   ]
  },
  {
   "cell_type": "markdown",
   "metadata": {},
   "source": [
    "## Graph terminology\n",
    "\n",
    "![Image](figures/2.png)\n",
    "![Image](figures/3.png)\n",
    "\n",
    "Node / Vertices: 교점/ 꼭지점(vertex)\n",
    "\n",
    "    V = {V1 ,V2 ,...Vn }\n",
    "\n",
    "Edges: 모서리    \n",
    "\n",
    "    E = {E1 , E2 ,... En }\n",
    "    Directed Edge: 방향성이 있는 것\n",
    "    Undirected Egde: 방향성이 없는 것\n",
    "    - 인접행렬로 나타낼 수 있다.(1/0, -1/0/1)\n",
    "\n",
    "Directed Graphs: Directed Edges로만 이루어진 그래프\n",
    "    \n",
    "    Children: V1에서 나간 edges이 도착하는 노드들의 집합\n",
    "    Parents: V1에 도착하는 edges이 출발한 노드들의 집합\n",
    "    Degree of nodes: 그 노드에 참여하고 있는 edges의 갯수\n",
    "    \n",
    "Clique: 모든 노드들끼리 엣지로 연결되어 있는 노드들의 집합\n",
    "    \n",
    "    Maximal clique: 새로운 노드를 추가할 때 Clique의 성격을 잃어버리는 수\n",
    "  \n",
    "Cycle / Loop: 순환/ 고리\n",
    "\n",
    "    노드가 다른 노드들을 거쳐 그 노드로 돌아오는 상황\n",
    "    \n",
    "DAG (Directed Acyclic Graph)\n",
    "\n",
    "    모두 directed edges이고 cycle이 없는 그래프\n",
    "    \n",
    "PDAG (Partially Directed Acyclic Graph)\n",
    "\n",
    "    Directed와 Undirected를 모두 가지면서 cycle이 없는 그래프   "
   ]
  },
  {
   "cell_type": "markdown",
   "metadata": {},
   "source": [
    "## Python digression\n",
    "\n",
    "pip install \"packagename\"\n",
    "\n",
    "Libpgm / Scipy 를 설치"
   ]
  },
  {
   "cell_type": "markdown",
   "metadata": {},
   "source": [
    "## Independence and independent parameters\n",
    "\n",
    "우리의 주요 문제는 Joint Distribution을 정의하는 것이다. \n",
    "\n",
    "![Image](figures/4.png)\n",
    "\n",
    "1) 모든 순열값들을 보여주기\n",
    "\n",
    "    Ex) 변수가 Experience / Grade / Interview / Offer인데\n",
    "    Experience(Good/Bad:2)\n",
    "    Grade(High/Low:2)\n",
    "    Interview(0/1/2:3)\n",
    "    Offer(Yes/No:2)\n",
    " =>2X2X3X2=24개의 행을 얻게 되지만\n",
    " \n",
    " 모든 확률값들의 합은 4이므로 (4가지 경우의 수가 6가지로 나눠지는 방식) 1개는 필요없으므로 24-1=23행이 필요하게 된다.\n",
    " \n",
    "    문제점 \n",
    "-\t보관하고 조작하기에 너무 크다\n",
    "-\t각 조합확률값을 제대로 끌어내려면 많은 데이터가 필요하다\n",
    "-\t큰 조합분포의 각 확률 값은 인간이 해석하기에 너무 작아져 버릴 수 있다. \n",
    "\n",
    "2) Independent Parameters를 사용하는 방법\n",
    "    ![Image](figures/5.PNG)\n",
    "    \n",
    "    Ex1) 성적과 합격 변수만 있을 경우\n",
    "    모든 순열값들을 보여주면 4-1=3가지 경우를 보여주어야 한다.\n",
    "    \n",
    "    조건부확률을 이용해서 다음과같이 나타낼 수 있다.\n",
    "    그렇다면 변수 값은 P(S), P(A|S0), P(A|S1)세 가지 값이 필요하다.\n",
    "    \n",
    "    \n",
    "![Image](figures/6.png)\n",
    "    \n",
    "    Ex2) 위의 예시를 보면\n",
    "    P(Experience), P(Grade)각각 하나\n",
    "    P(Interview=z|E=x,G=y) - 8개 (2x2x2)\n",
    "    P(Offer=w|interview=z) - 3개 (3x1)\n",
    "    =>1+1+8+3=13개의 값만 필요하다. (23개보다 작다!)"
   ]
  },
  {
   "cell_type": "markdown",
   "metadata": {},
   "source": [
    "------------------\n",
    "## The Bayes network\n",
    "\n",
    "베이즈 네트워크란 DAG로 표현될 수 있는 구조이고 \n",
    "두가지 관점으로 볼 수 있다.\n",
    "1) 체인룰을 이용하여 베이즈 네트워크를 위하여 간단하고 모듈화된 Joint Distribution을 표현할 수 있다.\n",
    "모듈화된 표현이란 각 노드간의 parents/childres와 같은 의존도를 나타내는 방식이다.\n",
    "\n",
    "    Ex)\n",
    "    확률 분포\n",
    "    P(Experience)\n",
    "    P(Grade)\n",
    "\n",
    "    조건부 확률 분포 (CPD:Conditional Probability DIstribution)\n",
    "    P(Interview=z|E=x,G=y)\n",
    "    P(Offer=w|interview=z)\n",
    "\n",
    "2) 관찰한 노드들 간의 조건부 독립 가정을 가능하게 한다. \n",
    "조건부 독립 관점이란 변수들 간의 조건부 독립성을 확인할 수 있다는 의미이다.\n",
    "\n",
    "    Ex) 위 예시에서 인터뷰는 경험과 점수에 종속되어있고 가정한다. 또한 제안은 인터뷰에만 종속되어있다고 가정한다. "
   ]
  },
  {
   "cell_type": "markdown",
   "metadata": {},
   "source": [
    "### Chain Rule\n",
    "\n",
    "기본적인 체인 룰의 식은 다음과 같다.\n",
    "\n",
    "![Image](figures/7.PNG)\n",
    "\n",
    "하지만 우리가 조건부 독립 가정을 한다면 이렇게 바뀔 수 있다.\n",
    "\n",
    "![Image](figures/8.PNG)\n",
    "\n",
    "\n",
    "일반화된 식으로는\n",
    "\n",
    "![Image](figures/9.PNG)\n",
    "\n",
    "(Par은 그 노드의 Parent노드들을 의미한다)"
   ]
  },
  {
   "cell_type": "markdown",
   "metadata": {},
   "source": [
    "------------------------------------------------\n",
    "\n",
    "## Reasoning patterns\n",
    "\n",
    "3가지 추론방법이 있다\n",
    "\n",
    "기본적 코드 세팅- 패키지를 불러온다"
   ]
  },
  {
   "cell_type": "code",
   "execution_count": 1,
   "metadata": {
    "collapsed": false
   },
   "outputs": [],
   "source": [
    "from libpgm.graphskeleton import GraphSkeleton\n",
    "from libpgm.nodedata import NodeData\n",
    "from libpgm.discretebayesiannetwork import DiscreteBayesianNetwork\n",
    "from libpgm.tablecpdfactorization import TableCPDFactorization\n",
    "\n",
    "def getTableCPD():\n",
    "    nd = NodeData()\n",
    "    skel = GraphSkeleton()\n",
    "    jsonpath = \"job_interview.txt\"\n",
    "    nd.load(jsonpath)\n",
    "    skel.load(jsonpath)\n",
    "    # load bayesian network\n",
    "    bn = DiscreteBayesianNetwork(skel, nd)\n",
    "    tablecpd = TableCPDFactorization(bn)\n",
    "    return tablecpd"
   ]
  },
  {
   "cell_type": "markdown",
   "metadata": {},
   "source": [
    "![Image](figures/10.PNG)\n",
    "\n",
    "### Causal reasoning\n",
    "\n",
    "우리가 Parent(원인)의 사건이 관찰될 때 Child(결과)의 확률에 대한 신뢰가 강해진다. \n",
    "\n",
    "Ex) P(Offer = 1 )"
   ]
  },
  {
   "cell_type": "code",
   "execution_count": 2,
   "metadata": {
    "collapsed": false
   },
   "outputs": [
    {
     "data": {
      "text/plain": [
       "0.432816"
      ]
     },
     "execution_count": 2,
     "metadata": {},
     "output_type": "execute_result"
    }
   ],
   "source": [
    "tcpd = getTableCPD()\n",
    "tcpd.specificquery(dict(Offer='1'), dict())"
   ]
  },
  {
   "cell_type": "markdown",
   "metadata": {},
   "source": [
    "P (Offer = 1 | Grades = 0 )"
   ]
  },
  {
   "cell_type": "code",
   "execution_count": 3,
   "metadata": {
    "collapsed": false
   },
   "outputs": [
    {
     "data": {
      "text/plain": [
       "0.35148"
      ]
     },
     "execution_count": 3,
     "metadata": {},
     "output_type": "execute_result"
    }
   ],
   "source": [
    "tcpd=getTableCPD()\n",
    "tcpd.specificquery(dict(Offer='1'),dict(Grades='0'))"
   ]
  },
  {
   "cell_type": "markdown",
   "metadata": {},
   "source": [
    "P(Offer =1|Grades = 0,Experience = 0),"
   ]
  },
  {
   "cell_type": "code",
   "execution_count": 4,
   "metadata": {
    "collapsed": false
   },
   "outputs": [
    {
     "data": {
      "text/plain": [
       "0.2078"
      ]
     },
     "execution_count": 4,
     "metadata": {},
     "output_type": "execute_result"
    }
   ],
   "source": [
    "tcpd=getTableCPD()\n",
    "tcpd.specificquery(dict(Offer='1'),dict(Grades='0',Experience='0'))"
   ]
  },
  {
   "cell_type": "markdown",
   "metadata": {},
   "source": [
    "### Evidential reasoning\n",
    "\n",
    "우리가 Child(결과)의 값을 관찰할 때 Parent(원인)에 대한 믿음이 바뀌는 정도를 추론한다.\n",
    "\n",
    "P(Experience =1)"
   ]
  },
  {
   "cell_type": "code",
   "execution_count": 5,
   "metadata": {
    "collapsed": false
   },
   "outputs": [
    {
     "data": {
      "text/plain": [
       "0.4000000000000001"
      ]
     },
     "execution_count": 5,
     "metadata": {},
     "output_type": "execute_result"
    }
   ],
   "source": [
    "tcpd=getTableCPD()\n",
    "tcpd.specificquery(dict(Experience='1'),dict())"
   ]
  },
  {
   "cell_type": "markdown",
   "metadata": {},
   "source": [
    "P(Experience=1|Interview=2)"
   ]
  },
  {
   "cell_type": "code",
   "execution_count": 6,
   "metadata": {
    "collapsed": false
   },
   "outputs": [
    {
     "data": {
      "text/plain": [
       "0.8641975308641975"
      ]
     },
     "execution_count": 6,
     "metadata": {},
     "output_type": "execute_result"
    }
   ],
   "source": [
    "tcpd=getTableCPD()\n",
    "tcpd.specificquery(dict(Experience='1'),dict(Interview='2'))"
   ]
  },
  {
   "cell_type": "markdown",
   "metadata": {},
   "source": [
    "### Inter-causal reasoning\n",
    "\n",
    "![image](figures/11.PNG)\n",
    "\n",
    "한 가지 Parent(결과)에 영향을 미치는 다양한 Children(원인들)의 관계를 추론한다. \n",
    "\n",
    "P(Experience=1)"
   ]
  },
  {
   "cell_type": "code",
   "execution_count": 7,
   "metadata": {
    "collapsed": false
   },
   "outputs": [
    {
     "data": {
      "text/plain": [
       "0.4000000000000001"
      ]
     },
     "execution_count": 7,
     "metadata": {},
     "output_type": "execute_result"
    }
   ],
   "source": [
    "tcpd=getTableCPD()\n",
    "tcpd.specificquery(dict(Experience='1'),dict())"
   ]
  },
  {
   "cell_type": "markdown",
   "metadata": {},
   "source": [
    "P(Experience =1| Interview = 2)"
   ]
  },
  {
   "cell_type": "code",
   "execution_count": 8,
   "metadata": {
    "collapsed": false
   },
   "outputs": [
    {
     "data": {
      "text/plain": [
       "0.8641975308641975"
      ]
     },
     "execution_count": 8,
     "metadata": {},
     "output_type": "execute_result"
    }
   ],
   "source": [
    "tcpd=getTableCPD()\n",
    "tcpd.specificquery(dict(Experience='1'),dict(Interview='2'))\n"
   ]
  },
  {
   "cell_type": "markdown",
   "metadata": {},
   "source": [
    "P(Experience =1| Interview = 2,Grades = 0)"
   ]
  }
 ],
 "metadata": {
  "anaconda-cloud": {},
  "kernelspec": {
   "display_name": "Python [conda root]",
   "language": "python",
   "name": "conda-root-py"
  },
  "language_info": {
   "codemirror_mode": {
    "name": "ipython",
    "version": 3
   },
   "file_extension": ".py",
   "mimetype": "text/x-python",
   "name": "python",
   "nbconvert_exporter": "python",
   "pygments_lexer": "ipython3",
   "version": "3.5.2"
  }
 },
 "nbformat": 4,
 "nbformat_minor": 0
}
