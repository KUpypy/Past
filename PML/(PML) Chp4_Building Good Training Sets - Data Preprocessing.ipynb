{
 "cells": [
  {
   "cell_type": "markdown",
   "metadata": {},
   "source": [
    "__발표자 : 정재윤 / 정지원 날짜 : 2016-11-01(화)__"
   ]
  },
  {
   "cell_type": "markdown",
   "metadata": {},
   "source": [
    "# Chp4. Building Good Training Sets - Data Preprocessing"
   ]
  },
  {
   "cell_type": "markdown",
   "metadata": {},
   "source": [
    "데이터의 질이나 유용한 정보의 양은 머신러닝 알고리즘이 잘 학습될 수 있게 결정하는 주요한 요인을 가지고 있다. 그러므로 데이터를 Learning 알고리즘에 넣기 전에 데이터셋을 전처리하는 과정은 매우 중요하다. 이번 챕터에서는 머신러닝 모델을 만들 때 도움을 주는 중요한 전처리 기술들에 대해 배워본다.\n",
    "\n",
    "    • Removing and imputing missing values from the dataset\n",
    "\n",
    "    • Getting categorical data into shape for machine learning algorithms\n",
    "\n",
    "    • Selecting relevant features for the model construction"
   ]
  },
  {
   "cell_type": "markdown",
   "metadata": {},
   "source": [
    "## Dealing with missing data\n",
    "\n",
    "실생활에서 여러가지 이유로 하나 혹은 그 이상의 샘플들이 빠져있는 경우는 전혀 이상하지 않다. 데이터를 모으는 과정에서, 서베이에서 빈 칸으로 비워뒀거나 뭐 그런 경우가 있을 것이다. 비어있는 것 혹은 NaN와 같이 표시된 것을 _missing value_로 볼 것이다.\n",
    "\n",
    "불행히도 컴퓨터 연산은 이러한 missing value를 계산해주지 못하며, 이것들을 무시하고 진행했을 때 예상치 못한 결과를 가져온다. 그러므로 missing values를 분석하기 전에 반드시 해결해야 한다. 결측값을 다루는 몇 가지 기술을 얘기하기 전에, CSV file을 불러와서 예시로 DataFrame을 살펴보자."
   ]
  },
  {
   "cell_type": "code",
   "execution_count": 1,
   "metadata": {
    "collapsed": false
   },
   "outputs": [
    {
     "data": {
      "text/html": [
       "<div>\n",
       "<table border=\"1\" class=\"dataframe\">\n",
       "  <thead>\n",
       "    <tr style=\"text-align: right;\">\n",
       "      <th></th>\n",
       "      <th>A</th>\n",
       "      <th>B</th>\n",
       "      <th>C</th>\n",
       "      <th>D</th>\n",
       "    </tr>\n",
       "  </thead>\n",
       "  <tbody>\n",
       "    <tr>\n",
       "      <th>0</th>\n",
       "      <td>1.0</td>\n",
       "      <td>2.0</td>\n",
       "      <td>3.0</td>\n",
       "      <td>4.0</td>\n",
       "    </tr>\n",
       "    <tr>\n",
       "      <th>1</th>\n",
       "      <td>5.0</td>\n",
       "      <td>6.0</td>\n",
       "      <td>NaN</td>\n",
       "      <td>8.0</td>\n",
       "    </tr>\n",
       "    <tr>\n",
       "      <th>2</th>\n",
       "      <td>0.0</td>\n",
       "      <td>11.0</td>\n",
       "      <td>12.0</td>\n",
       "      <td>NaN</td>\n",
       "    </tr>\n",
       "  </tbody>\n",
       "</table>\n",
       "</div>"
      ],
      "text/plain": [
       "     A     B     C    D\n",
       "0  1.0   2.0   3.0  4.0\n",
       "1  5.0   6.0   NaN  8.0\n",
       "2  0.0  11.0  12.0  NaN"
      ]
     },
     "execution_count": 1,
     "metadata": {},
     "output_type": "execute_result"
    }
   ],
   "source": [
    "import pandas as pd\n",
    ">>> from io import StringIO\n",
    ">>> csv_data = '''A,B,C,D\n",
    "1.0,2.0,3.0,4.0\n",
    "5.0,6.0,,8.0\n",
    "0.0,11.0,12.0,'''\n",
    "# If you are using Python 2.7, you need\n",
    "# to convert the string to unicode:\n",
    "# csv_data = unicode(csv_data)\n",
    "df = pd.read_csv(StringIO(csv_data))\n",
    "df"
   ]
  },
  {
   "cell_type": "markdown",
   "metadata": {},
   "source": [
    "__pandas__의 _rea_csv_ 함수를 이용하여 DataFrame 구조를 불러왔다. StringIO는 string을 read_csv가 읽을 수 있는 csv형식으로 만들어준다. 또한 데이터를 하드디스크에서 불러올 수도 있다."
   ]
  },
  {
   "cell_type": "code",
   "execution_count": 2,
   "metadata": {
    "collapsed": false
   },
   "outputs": [
    {
     "data": {
      "text/plain": [
       "A    0\n",
       "B    0\n",
       "C    1\n",
       "D    1\n",
       "dtype: int64"
      ]
     },
     "execution_count": 2,
     "metadata": {},
     "output_type": "execute_result"
    }
   ],
   "source": [
    "df.isnull().sum()"
   ]
  },
  {
   "cell_type": "markdown",
   "metadata": {},
   "source": [
    "scikit-learn이 비록 NumPy arrays와 동작하게 개발되긴 했지만, 때로는 __pandas__의 DataFrame을 이용하여 전처리하는 것이 편하다. DataFrame에서 .values 를 통해 numpy의 array형태로 변환해줄수 있다."
   ]
  },
  {
   "cell_type": "code",
   "execution_count": 3,
   "metadata": {
    "collapsed": false
   },
   "outputs": [
    {
     "name": "stdout",
     "output_type": "stream",
     "text": [
      "[[  1.   2.   3.   4.]\n",
      " [  5.   6.  nan   8.]\n",
      " [  0.  11.  12.  nan]]\n",
      "<class 'pandas.core.frame.DataFrame'> / <class 'numpy.ndarray'>\n"
     ]
    }
   ],
   "source": [
    "print(df.values)\n",
    "print(type(df),\"/\",type(df.values))"
   ]
  },
  {
   "cell_type": "markdown",
   "metadata": {},
   "source": [
    "## Eliminating samples or features with missing values\n",
    "\n",
    "결측값을 다루는 가장 쉬운 방법은 그 feature를 제거하거나, 혹은 sample을 제거하는 것이다. 다음과 같다."
   ]
  },
  {
   "cell_type": "code",
   "execution_count": 4,
   "metadata": {
    "collapsed": false
   },
   "outputs": [
    {
     "data": {
      "text/html": [
       "<div>\n",
       "<table border=\"1\" class=\"dataframe\">\n",
       "  <thead>\n",
       "    <tr style=\"text-align: right;\">\n",
       "      <th></th>\n",
       "      <th>A</th>\n",
       "      <th>B</th>\n",
       "      <th>C</th>\n",
       "      <th>D</th>\n",
       "    </tr>\n",
       "  </thead>\n",
       "  <tbody>\n",
       "    <tr>\n",
       "      <th>0</th>\n",
       "      <td>1.0</td>\n",
       "      <td>2.0</td>\n",
       "      <td>3.0</td>\n",
       "      <td>4.0</td>\n",
       "    </tr>\n",
       "  </tbody>\n",
       "</table>\n",
       "</div>"
      ],
      "text/plain": [
       "     A    B    C    D\n",
       "0  1.0  2.0  3.0  4.0"
      ]
     },
     "execution_count": 4,
     "metadata": {},
     "output_type": "execute_result"
    }
   ],
   "source": [
    "df.dropna()"
   ]
  },
  {
   "cell_type": "markdown",
   "metadata": {},
   "source": [
    "유사하게, feature를 제거하는 방법은 다음과 같다."
   ]
  },
  {
   "cell_type": "code",
   "execution_count": 5,
   "metadata": {
    "collapsed": false
   },
   "outputs": [
    {
     "data": {
      "text/html": [
       "<div>\n",
       "<table border=\"1\" class=\"dataframe\">\n",
       "  <thead>\n",
       "    <tr style=\"text-align: right;\">\n",
       "      <th></th>\n",
       "      <th>A</th>\n",
       "      <th>B</th>\n",
       "    </tr>\n",
       "  </thead>\n",
       "  <tbody>\n",
       "    <tr>\n",
       "      <th>0</th>\n",
       "      <td>1.0</td>\n",
       "      <td>2.0</td>\n",
       "    </tr>\n",
       "    <tr>\n",
       "      <th>1</th>\n",
       "      <td>5.0</td>\n",
       "      <td>6.0</td>\n",
       "    </tr>\n",
       "    <tr>\n",
       "      <th>2</th>\n",
       "      <td>0.0</td>\n",
       "      <td>11.0</td>\n",
       "    </tr>\n",
       "  </tbody>\n",
       "</table>\n",
       "</div>"
      ],
      "text/plain": [
       "     A     B\n",
       "0  1.0   2.0\n",
       "1  5.0   6.0\n",
       "2  0.0  11.0"
      ]
     },
     "execution_count": 5,
     "metadata": {},
     "output_type": "execute_result"
    }
   ],
   "source": [
    "df.dropna(axis=1)"
   ]
  },
  {
   "cell_type": "markdown",
   "metadata": {},
   "source": [
    "_dropna_는 몇 가지 파라미터를 추가하여 다음과 같이 사용 가능하다."
   ]
  },
  {
   "cell_type": "code",
   "execution_count": 6,
   "metadata": {
    "collapsed": false
   },
   "outputs": [
    {
     "data": {
      "text/html": [
       "<div>\n",
       "<table border=\"1\" class=\"dataframe\">\n",
       "  <thead>\n",
       "    <tr style=\"text-align: right;\">\n",
       "      <th></th>\n",
       "      <th>A</th>\n",
       "      <th>B</th>\n",
       "      <th>C</th>\n",
       "      <th>D</th>\n",
       "    </tr>\n",
       "  </thead>\n",
       "  <tbody>\n",
       "    <tr>\n",
       "      <th>0</th>\n",
       "      <td>1.0</td>\n",
       "      <td>2.0</td>\n",
       "      <td>3.0</td>\n",
       "      <td>4.0</td>\n",
       "    </tr>\n",
       "    <tr>\n",
       "      <th>1</th>\n",
       "      <td>5.0</td>\n",
       "      <td>6.0</td>\n",
       "      <td>NaN</td>\n",
       "      <td>8.0</td>\n",
       "    </tr>\n",
       "    <tr>\n",
       "      <th>2</th>\n",
       "      <td>0.0</td>\n",
       "      <td>11.0</td>\n",
       "      <td>12.0</td>\n",
       "      <td>NaN</td>\n",
       "    </tr>\n",
       "  </tbody>\n",
       "</table>\n",
       "</div>"
      ],
      "text/plain": [
       "     A     B     C    D\n",
       "0  1.0   2.0   3.0  4.0\n",
       "1  5.0   6.0   NaN  8.0\n",
       "2  0.0  11.0  12.0  NaN"
      ]
     },
     "execution_count": 6,
     "metadata": {},
     "output_type": "execute_result"
    }
   ],
   "source": [
    "# only drop rows where all columns are NaN\n",
    "df.dropna(how='all')"
   ]
  },
  {
   "cell_type": "code",
   "execution_count": 20,
   "metadata": {
    "collapsed": false
   },
   "outputs": [
    {
     "data": {
      "text/html": [
       "<div>\n",
       "<table border=\"1\" class=\"dataframe\">\n",
       "  <thead>\n",
       "    <tr style=\"text-align: right;\">\n",
       "      <th></th>\n",
       "      <th>A</th>\n",
       "      <th>B</th>\n",
       "      <th>C</th>\n",
       "      <th>D</th>\n",
       "    </tr>\n",
       "  </thead>\n",
       "  <tbody>\n",
       "    <tr>\n",
       "      <th>0</th>\n",
       "      <td>1.0</td>\n",
       "      <td>2.0</td>\n",
       "      <td>3.0</td>\n",
       "      <td>4.0</td>\n",
       "    </tr>\n",
       "  </tbody>\n",
       "</table>\n",
       "</div>"
      ],
      "text/plain": [
       "     A    B    C    D\n",
       "0  1.0  2.0  3.0  4.0"
      ]
     },
     "execution_count": 20,
     "metadata": {},
     "output_type": "execute_result"
    }
   ],
   "source": [
    "# drop rows that have not at least 4 non-NaN values\n",
    "df.dropna(thresh=4)"
   ]
  },
  {
   "cell_type": "code",
   "execution_count": 7,
   "metadata": {
    "collapsed": false
   },
   "outputs": [
    {
     "data": {
      "text/html": [
       "<div>\n",
       "<table border=\"1\" class=\"dataframe\">\n",
       "  <thead>\n",
       "    <tr style=\"text-align: right;\">\n",
       "      <th></th>\n",
       "      <th>A</th>\n",
       "      <th>B</th>\n",
       "      <th>C</th>\n",
       "      <th>D</th>\n",
       "    </tr>\n",
       "  </thead>\n",
       "  <tbody>\n",
       "    <tr>\n",
       "      <th>0</th>\n",
       "      <td>1.0</td>\n",
       "      <td>2.0</td>\n",
       "      <td>3.0</td>\n",
       "      <td>4.0</td>\n",
       "    </tr>\n",
       "    <tr>\n",
       "      <th>2</th>\n",
       "      <td>0.0</td>\n",
       "      <td>11.0</td>\n",
       "      <td>12.0</td>\n",
       "      <td>NaN</td>\n",
       "    </tr>\n",
       "  </tbody>\n",
       "</table>\n",
       "</div>"
      ],
      "text/plain": [
       "     A     B     C    D\n",
       "0  1.0   2.0   3.0  4.0\n",
       "2  0.0  11.0  12.0  NaN"
      ]
     },
     "execution_count": 7,
     "metadata": {},
     "output_type": "execute_result"
    }
   ],
   "source": [
    "# only drop rows where NaN appear in specific columns (here: 'C')\n",
    "df.dropna(subset=['C'])"
   ]
  },
  {
   "cell_type": "markdown",
   "metadata": {},
   "source": [
    "결측치의 제거는 편리한 접근방법이지만 몇몇 단점이 있다. Samples을 제거하는 경우에는 분석이 불가능해질 정도로 너무 많은 데이터가 제거될 수도 있다. 혹은 features를 제거하는 경우에는 우리 Classifier가 클래스 내에서 분류해야 하는 중요한 정보를 제거할 리스크를 안게된다. 다음 섹션에서는, 결측값을 단순히 지우는 것이 아닌 다른 대안에 대해 배운다."
   ]
  },
  {
   "cell_type": "markdown",
   "metadata": {},
   "source": [
    "## Imputing missing values\n",
    "\n",
    "종종, samples을 지우거나 feature를 제거하는 것은 실현이 불가능할 때도 있다. 데이터에 많은 정보가 손실되기 때문이다. 이런 경우, 다른 보간법을 이용하여 결측값을 다른 training samples로부터 추정할 수 있다. 가장 대표적인 방법은 __mean imputation__이다. 결측값을 단순히 features 전체 칼럼의 평균으로 채우는 것이다. 이 간편한 방법은 scikit-learn의 _Imputer_ 클래스에서 사용할 수 있다."
   ]
  },
  {
   "cell_type": "code",
   "execution_count": 8,
   "metadata": {
    "collapsed": false
   },
   "outputs": [
    {
     "data": {
      "text/plain": [
       "array([[  1. ,   2. ,   3. ,   4. ],\n",
       "       [  5. ,   6. ,   7.5,   8. ],\n",
       "       [  0. ,  11. ,  12. ,   6. ]])"
      ]
     },
     "execution_count": 8,
     "metadata": {},
     "output_type": "execute_result"
    }
   ],
   "source": [
    "from sklearn.preprocessing import Imputer\n",
    "imr = Imputer(missing_values='NaN', strategy='mean', axis=0)\n",
    "imr = imr.fit(df)\n",
    "imputed_data = imr.transform(df.values)\n",
    "imputed_data"
   ]
  },
  {
   "cell_type": "markdown",
   "metadata": {},
   "source": [
    "결측값(_NaN_)을 각각의 feature의 평균으로 대체하였다. axis=0을 axis=1로 바꾸면, 행의 mean으로 대체할 수 있다. 또한 strategy는 _median_이나 범주형 변수에 적합한  *most_frequent*로 사용할 수도 있다."
   ]
  },
  {
   "cell_type": "markdown",
   "metadata": {},
   "source": [
    "## Understanding the scikit-learn estimator API\n",
    "\n",
    "이전 섹션에서, _Imputer_를 사용하였다. _Imputer_ 클래스는 데이터의 변환에 사용되는 **transformer** class에 속한다. 두 가지 중요한 추정의 방법으로는 _fit_과 _transform_이 있다. _fit_은 training data로부터 파라미터를 학습시키는 것이며, _transform_은 그러한 파라미터를 사용하여 데이터를 변환시키는 것이다. 이전에 모델을 fit해뒀다면, 어떤 데이터든간에 같은 features를 가진다면 변환이 가능하다. 다음은 training data로부터 _fit_된 모델을 통해 training data와 test data를 _transform_하는 과정이다."
   ]
  },
  {
   "cell_type": "markdown",
   "metadata": {},
   "source": [
    "![Image](figures/1.png)\n",
    "\n",
    "Chpater 3에서 사용하였던 Classifier는 개념적으로 매우 유사한 transformer class API와 함께 scikit-learn 안의 esimator라 불리는 것에 속한다. Estimator는 _predict_와 _transform_ 메소드를 가지고 있다. 분류를 위한 estimator를 train 시킬 때, _fit_ 메소드를 이용하여 모델의 파라미터를 학습시킬 수 있다. 그러나 지도학습 과정에서는, 추가적으로 모델을 fitting 할 때, class label을 넣어줘야 한다. 과정을 보면 다음 그림과 같다.\n",
    "\n",
    "![Image](figures/2.png)"
   ]
  },
  {
   "cell_type": "markdown",
   "metadata": {},
   "source": [
    "## Handling categorical data\n",
    "\n",
    "지금까지 Numerical values를 다루는 방법에 대해서만 배웠다. 실제 데이터들은 categorical feature를 많이 포함한다. __nominal__과 __ordinal__ feature의 차이에 대해 알아야한다. __Ordinal__ feature는 범주형 변수이면서 순서가 있고 정렬이 가능하다. 예를 들어, T-shirt size는 M, L, XL등이 있는데 XL>L>M로 순서를 매길 수 있다. 반대로, __nominal__ feature의 경우 순서가 없다. T-shirt color를 예로 들 수 있는데, green, blue, red 등 색의 경우 순서를 매길 수도 없고 우열을 가릴 수 없다.\n",
    "\n",
    "범주형 변수를 다룰 때 사용하는 테크닉을 살펴보자. 새로운 DataFrame을 만들어 살펴본다."
   ]
  },
  {
   "cell_type": "code",
   "execution_count": 9,
   "metadata": {
    "collapsed": false
   },
   "outputs": [
    {
     "data": {
      "text/html": [
       "<div>\n",
       "<table border=\"1\" class=\"dataframe\">\n",
       "  <thead>\n",
       "    <tr style=\"text-align: right;\">\n",
       "      <th></th>\n",
       "      <th>color</th>\n",
       "      <th>size</th>\n",
       "      <th>price</th>\n",
       "      <th>classlabel</th>\n",
       "    </tr>\n",
       "  </thead>\n",
       "  <tbody>\n",
       "    <tr>\n",
       "      <th>0</th>\n",
       "      <td>green</td>\n",
       "      <td>M</td>\n",
       "      <td>10.1</td>\n",
       "      <td>class1</td>\n",
       "    </tr>\n",
       "    <tr>\n",
       "      <th>1</th>\n",
       "      <td>red</td>\n",
       "      <td>L</td>\n",
       "      <td>13.5</td>\n",
       "      <td>class2</td>\n",
       "    </tr>\n",
       "    <tr>\n",
       "      <th>2</th>\n",
       "      <td>blue</td>\n",
       "      <td>XL</td>\n",
       "      <td>15.3</td>\n",
       "      <td>class1</td>\n",
       "    </tr>\n",
       "  </tbody>\n",
       "</table>\n",
       "</div>"
      ],
      "text/plain": [
       "   color size  price classlabel\n",
       "0  green    M   10.1     class1\n",
       "1    red    L   13.5     class2\n",
       "2   blue   XL   15.3     class1"
      ]
     },
     "execution_count": 9,
     "metadata": {},
     "output_type": "execute_result"
    }
   ],
   "source": [
    "import pandas as pd\n",
    "df = pd.DataFrame([\n",
    "['green', 'M', 10.1, 'class1'],\n",
    "['red', 'L', 13.5, 'class2'],\n",
    "['blue', 'XL', 15.3, 'class1']])\n",
    "df.columns = ['color', 'size', 'price', 'classlabel']\n",
    "df"
   ]
  },
  {
   "cell_type": "markdown",
   "metadata": {},
   "source": [
    "## Mapping ordinal features\n",
    "\n",
    "__Ordinal__ feature를 정수형으로 변환시켜보자. 불행히도 자동으로 처리해주는 편리한 함수는 없다. _size_ feature를 예시로 보자. 간단한 예시로, [ XL = L + 1 = M + 2 ] 로 정의할 수 있다."
   ]
  },
  {
   "cell_type": "code",
   "execution_count": 10,
   "metadata": {
    "collapsed": false
   },
   "outputs": [
    {
     "data": {
      "text/html": [
       "<div>\n",
       "<table border=\"1\" class=\"dataframe\">\n",
       "  <thead>\n",
       "    <tr style=\"text-align: right;\">\n",
       "      <th></th>\n",
       "      <th>color</th>\n",
       "      <th>size</th>\n",
       "      <th>price</th>\n",
       "      <th>classlabel</th>\n",
       "    </tr>\n",
       "  </thead>\n",
       "  <tbody>\n",
       "    <tr>\n",
       "      <th>0</th>\n",
       "      <td>green</td>\n",
       "      <td>1</td>\n",
       "      <td>10.1</td>\n",
       "      <td>class1</td>\n",
       "    </tr>\n",
       "    <tr>\n",
       "      <th>1</th>\n",
       "      <td>red</td>\n",
       "      <td>2</td>\n",
       "      <td>13.5</td>\n",
       "      <td>class2</td>\n",
       "    </tr>\n",
       "    <tr>\n",
       "      <th>2</th>\n",
       "      <td>blue</td>\n",
       "      <td>3</td>\n",
       "      <td>15.3</td>\n",
       "      <td>class1</td>\n",
       "    </tr>\n",
       "  </tbody>\n",
       "</table>\n",
       "</div>"
      ],
      "text/plain": [
       "   color  size  price classlabel\n",
       "0  green     1   10.1     class1\n",
       "1    red     2   13.5     class2\n",
       "2   blue     3   15.3     class1"
      ]
     },
     "execution_count": 10,
     "metadata": {},
     "output_type": "execute_result"
    }
   ],
   "source": [
    "size_mapping = {'XL':3, 'L':2, \"M\":1}\n",
    "df['size'] = df['size'].map(size_mapping)\n",
    "df"
   ]
  },
  {
   "cell_type": "code",
   "execution_count": 11,
   "metadata": {
    "collapsed": false
   },
   "outputs": [
    {
     "data": {
      "text/plain": [
       "{1: 'M', 2: 'L', 3: 'XL'}"
      ]
     },
     "execution_count": 11,
     "metadata": {},
     "output_type": "execute_result"
    }
   ],
   "source": [
    "inv_size_mapping = {v: k for k, v in size_mapping.items()}\n",
    "inv_size_mapping"
   ]
  },
  {
   "cell_type": "markdown",
   "metadata": {},
   "source": [
    "## Encoding class labels\n",
    "\n",
    "많은 머신러닝 라이브러리는 integer value로 인코딩 된 label을 요구한다. 비록 대다수의 scikit-learn의 분류를 위한 estimator들은 내부에서 label을 정수로 변환 해주지만, 작은 문제를 피하기 위해서는 직접 변환하는 방법이 더 좋을 것이다. class label을 인코딩 하기 위해서, mapping과 유사한 방법을 사용할 것이다. class label은 _ordinal_이 아니며, 특정 문자로된 래이블에 어떤 숫자를 매기는지는 중요하지 않다. 그러므로 0부터 시작해서 열거해보도록 하자."
   ]
  },
  {
   "cell_type": "code",
   "execution_count": 12,
   "metadata": {
    "collapsed": false
   },
   "outputs": [
    {
     "data": {
      "text/plain": [
       "{'class1': 0, 'class2': 1}"
      ]
     },
     "execution_count": 12,
     "metadata": {},
     "output_type": "execute_result"
    }
   ],
   "source": [
    "import numpy as np\n",
    "class_mapping = {label:idx for idx,label in enumerate(np.unique(df['classlabel']))}\n",
    "class_mapping"
   ]
  },
  {
   "cell_type": "code",
   "execution_count": 13,
   "metadata": {
    "collapsed": false
   },
   "outputs": [
    {
     "data": {
      "text/html": [
       "<div>\n",
       "<table border=\"1\" class=\"dataframe\">\n",
       "  <thead>\n",
       "    <tr style=\"text-align: right;\">\n",
       "      <th></th>\n",
       "      <th>color</th>\n",
       "      <th>size</th>\n",
       "      <th>price</th>\n",
       "      <th>classlabel</th>\n",
       "    </tr>\n",
       "  </thead>\n",
       "  <tbody>\n",
       "    <tr>\n",
       "      <th>0</th>\n",
       "      <td>green</td>\n",
       "      <td>1</td>\n",
       "      <td>10.1</td>\n",
       "      <td>0</td>\n",
       "    </tr>\n",
       "    <tr>\n",
       "      <th>1</th>\n",
       "      <td>red</td>\n",
       "      <td>2</td>\n",
       "      <td>13.5</td>\n",
       "      <td>1</td>\n",
       "    </tr>\n",
       "    <tr>\n",
       "      <th>2</th>\n",
       "      <td>blue</td>\n",
       "      <td>3</td>\n",
       "      <td>15.3</td>\n",
       "      <td>0</td>\n",
       "    </tr>\n",
       "  </tbody>\n",
       "</table>\n",
       "</div>"
      ],
      "text/plain": [
       "   color  size  price  classlabel\n",
       "0  green     1   10.1           0\n",
       "1    red     2   13.5           1\n",
       "2   blue     3   15.3           0"
      ]
     },
     "execution_count": 13,
     "metadata": {},
     "output_type": "execute_result"
    }
   ],
   "source": [
    "df['classlabel'] = df['classlabel'].map(class_mapping)\n",
    "df"
   ]
  },
  {
   "cell_type": "markdown",
   "metadata": {},
   "source": [
    "아까와 마찬가지로, 되돌릴 수 있다."
   ]
  },
  {
   "cell_type": "code",
   "execution_count": 14,
   "metadata": {
    "collapsed": false
   },
   "outputs": [
    {
     "data": {
      "text/html": [
       "<div>\n",
       "<table border=\"1\" class=\"dataframe\">\n",
       "  <thead>\n",
       "    <tr style=\"text-align: right;\">\n",
       "      <th></th>\n",
       "      <th>color</th>\n",
       "      <th>size</th>\n",
       "      <th>price</th>\n",
       "      <th>classlabel</th>\n",
       "    </tr>\n",
       "  </thead>\n",
       "  <tbody>\n",
       "    <tr>\n",
       "      <th>0</th>\n",
       "      <td>green</td>\n",
       "      <td>1</td>\n",
       "      <td>10.1</td>\n",
       "      <td>class1</td>\n",
       "    </tr>\n",
       "    <tr>\n",
       "      <th>1</th>\n",
       "      <td>red</td>\n",
       "      <td>2</td>\n",
       "      <td>13.5</td>\n",
       "      <td>class2</td>\n",
       "    </tr>\n",
       "    <tr>\n",
       "      <th>2</th>\n",
       "      <td>blue</td>\n",
       "      <td>3</td>\n",
       "      <td>15.3</td>\n",
       "      <td>class1</td>\n",
       "    </tr>\n",
       "  </tbody>\n",
       "</table>\n",
       "</div>"
      ],
      "text/plain": [
       "   color  size  price classlabel\n",
       "0  green     1   10.1     class1\n",
       "1    red     2   13.5     class2\n",
       "2   blue     3   15.3     class1"
      ]
     },
     "execution_count": 14,
     "metadata": {},
     "output_type": "execute_result"
    }
   ],
   "source": [
    "inv_class_mapping = {v: k for k, v in class_mapping.items()}\n",
    "df['classlabel'] = df['classlabel'].map(inv_class_mapping)\n",
    "df"
   ]
  },
  {
   "cell_type": "markdown",
   "metadata": {},
   "source": [
    "_LabelEncoder_ 클래스를 사용하여 바로 변환할 수 있다."
   ]
  },
  {
   "cell_type": "code",
   "execution_count": 15,
   "metadata": {
    "collapsed": false
   },
   "outputs": [
    {
     "data": {
      "text/plain": [
       "array([0, 1, 0], dtype=int64)"
      ]
     },
     "execution_count": 15,
     "metadata": {},
     "output_type": "execute_result"
    }
   ],
   "source": [
    "from sklearn.preprocessing import LabelEncoder\n",
    "class_le = LabelEncoder()\n",
    "y = class_le.fit_transform(df['classlabel'].values)\n",
    "y"
   ]
  },
  {
   "cell_type": "code",
   "execution_count": 16,
   "metadata": {
    "collapsed": false
   },
   "outputs": [
    {
     "data": {
      "text/plain": [
       "array(['class1', 'class2', 'class1'], dtype=object)"
      ]
     },
     "execution_count": 16,
     "metadata": {},
     "output_type": "execute_result"
    }
   ],
   "source": [
    "class_le.inverse_transform(y)"
   ]
  },
  {
   "cell_type": "markdown",
   "metadata": {},
   "source": [
    "## Performing one-hot encoding on nominal features\n",
    "\n",
    "이전 섹션에서, 간단한 사전형 맵핑 접근을 통해 ordinal size feature를 integer로 변환하였다. scikit-learn의 estimator들은 class label을 아무 순서없이 보기 때문에, _LabelEncoder_ 클래스를 이용하여 string label을 integer로 변환하였다. 이것은 우리가 다음과 같이 _nominal_변수인 color를 변환하는 것과 유사해보인다."
   ]
  },
  {
   "cell_type": "code",
   "execution_count": 17,
   "metadata": {
    "collapsed": false
   },
   "outputs": [
    {
     "data": {
      "text/plain": [
       "array([[1, 1, 10.1],\n",
       "       [2, 2, 13.5],\n",
       "       [0, 3, 15.3]], dtype=object)"
      ]
     },
     "execution_count": 17,
     "metadata": {},
     "output_type": "execute_result"
    }
   ],
   "source": [
    "X = df[['color', 'size', 'price']].values\n",
    "color_le = LabelEncoder()\n",
    "X[:, 0] = color_le.fit_transform(X[:, 0])\n",
    "X"
   ]
  },
  {
   "cell_type": "markdown",
   "metadata": {},
   "source": [
    "blue -> 0 , green -> 1 , red -> 2 로 변한 것을 볼 수 있다.\n",
    "\n",
    "문제가 뭘까? color는 특정한 순서가 없지만, learning 알고리즘은 green을 blue보다 큰 것으로 가정하며, red가 green보다 크다고 보게된다. 비록 이 가정이 틀렸지만, 알고리즘은 유용한 결과를 얻을 수 있었고, 이 결과는 최적이 아니다.\n",
    "\n",
    "이 문제의 일반적인 해결 방법은 __one-hot encoding__이라 불리는 테크닉이다. 각각의 nominal feature에 속하는 각각의 unique value에 새로운 __dummy feature__를 추가한다. 예를 들어, color는 새로운 feature인 _blue,green,red_로 나눠진다. 각각은 0/1의 값을 가지며, blue의 경우 blue=1,green=0,red=0 을 갖게 된다. 과정은 다음과 같다."
   ]
  },
  {
   "cell_type": "code",
   "execution_count": 18,
   "metadata": {
    "collapsed": false,
    "scrolled": true
   },
   "outputs": [
    {
     "data": {
      "text/plain": [
       "array([[  0. ,   1. ,   0. ,   1. ,  10.1],\n",
       "       [  0. ,   0. ,   1. ,   2. ,  13.5],\n",
       "       [  1. ,   0. ,   0. ,   3. ,  15.3]])"
      ]
     },
     "execution_count": 18,
     "metadata": {},
     "output_type": "execute_result"
    }
   ],
   "source": [
    "from sklearn.preprocessing import OneHotEncoder\n",
    "ohe = OneHotEncoder(categorical_features=[0])\n",
    "ohe.fit_transform(X).toarray()"
   ]
  },
  {
   "cell_type": "code",
   "execution_count": 19,
   "metadata": {
    "collapsed": false
   },
   "outputs": [
    {
     "data": {
      "text/html": [
       "<div>\n",
       "<table border=\"1\" class=\"dataframe\">\n",
       "  <thead>\n",
       "    <tr style=\"text-align: right;\">\n",
       "      <th></th>\n",
       "      <th>price</th>\n",
       "      <th>size</th>\n",
       "      <th>color_blue</th>\n",
       "      <th>color_green</th>\n",
       "      <th>color_red</th>\n",
       "    </tr>\n",
       "  </thead>\n",
       "  <tbody>\n",
       "    <tr>\n",
       "      <th>0</th>\n",
       "      <td>10.1</td>\n",
       "      <td>1</td>\n",
       "      <td>0</td>\n",
       "      <td>1</td>\n",
       "      <td>0</td>\n",
       "    </tr>\n",
       "    <tr>\n",
       "      <th>1</th>\n",
       "      <td>13.5</td>\n",
       "      <td>2</td>\n",
       "      <td>0</td>\n",
       "      <td>0</td>\n",
       "      <td>1</td>\n",
       "    </tr>\n",
       "    <tr>\n",
       "      <th>2</th>\n",
       "      <td>15.3</td>\n",
       "      <td>3</td>\n",
       "      <td>1</td>\n",
       "      <td>0</td>\n",
       "      <td>0</td>\n",
       "    </tr>\n",
       "  </tbody>\n",
       "</table>\n",
       "</div>"
      ],
      "text/plain": [
       "   price  size  color_blue  color_green  color_red\n",
       "0   10.1     1           0            1          0\n",
       "1   13.5     2           0            0          1\n",
       "2   15.3     3           1            0          0"
      ]
     },
     "execution_count": 19,
     "metadata": {},
     "output_type": "execute_result"
    }
   ],
   "source": [
    "pd.get_dummies(df[['price', 'color', 'size']])"
   ]
  },
  {
   "cell_type": "markdown",
   "metadata": {},
   "source": [
    "## Partitioning a dataset in training and test sets\n",
    "\n",
    "Test set은 궁극적으로 모델이 현실 데이터에 대해 어떤지 알아보기 위해 쓰인다. 이번 섹션에서는, __Wine dataset__을 통해 dataset을 전처리한 후에 데이터셋의 차원을 줄이기 위해 feature selection하는 방법에 대해 알아본다."
   ]
  },
  {
   "cell_type": "code",
   "execution_count": 20,
   "metadata": {
    "collapsed": false
   },
   "outputs": [
    {
     "name": "stdout",
     "output_type": "stream",
     "text": [
      "Class labels [1 2 3]\n"
     ]
    },
    {
     "data": {
      "text/html": [
       "<div>\n",
       "<table border=\"1\" class=\"dataframe\">\n",
       "  <thead>\n",
       "    <tr style=\"text-align: right;\">\n",
       "      <th></th>\n",
       "      <th>Class label</th>\n",
       "      <th>Alcohol</th>\n",
       "      <th>Malic acid</th>\n",
       "      <th>Ash</th>\n",
       "      <th>Alcalinity of ash</th>\n",
       "      <th>Magnesium</th>\n",
       "      <th>Total phenols</th>\n",
       "      <th>Flavanoids</th>\n",
       "      <th>Nonflavanoid phenols</th>\n",
       "      <th>Proanthocyanins</th>\n",
       "      <th>Color intensity</th>\n",
       "      <th>Hue</th>\n",
       "      <th>OD280/OD315 of diluted wines</th>\n",
       "      <th>Proline</th>\n",
       "    </tr>\n",
       "  </thead>\n",
       "  <tbody>\n",
       "    <tr>\n",
       "      <th>0</th>\n",
       "      <td>1</td>\n",
       "      <td>14.23</td>\n",
       "      <td>1.71</td>\n",
       "      <td>2.43</td>\n",
       "      <td>15.6</td>\n",
       "      <td>127</td>\n",
       "      <td>2.80</td>\n",
       "      <td>3.06</td>\n",
       "      <td>0.28</td>\n",
       "      <td>2.29</td>\n",
       "      <td>5.64</td>\n",
       "      <td>1.04</td>\n",
       "      <td>3.92</td>\n",
       "      <td>1065</td>\n",
       "    </tr>\n",
       "    <tr>\n",
       "      <th>1</th>\n",
       "      <td>1</td>\n",
       "      <td>13.20</td>\n",
       "      <td>1.78</td>\n",
       "      <td>2.14</td>\n",
       "      <td>11.2</td>\n",
       "      <td>100</td>\n",
       "      <td>2.65</td>\n",
       "      <td>2.76</td>\n",
       "      <td>0.26</td>\n",
       "      <td>1.28</td>\n",
       "      <td>4.38</td>\n",
       "      <td>1.05</td>\n",
       "      <td>3.40</td>\n",
       "      <td>1050</td>\n",
       "    </tr>\n",
       "    <tr>\n",
       "      <th>2</th>\n",
       "      <td>1</td>\n",
       "      <td>13.16</td>\n",
       "      <td>2.36</td>\n",
       "      <td>2.67</td>\n",
       "      <td>18.6</td>\n",
       "      <td>101</td>\n",
       "      <td>2.80</td>\n",
       "      <td>3.24</td>\n",
       "      <td>0.30</td>\n",
       "      <td>2.81</td>\n",
       "      <td>5.68</td>\n",
       "      <td>1.03</td>\n",
       "      <td>3.17</td>\n",
       "      <td>1185</td>\n",
       "    </tr>\n",
       "    <tr>\n",
       "      <th>3</th>\n",
       "      <td>1</td>\n",
       "      <td>14.37</td>\n",
       "      <td>1.95</td>\n",
       "      <td>2.50</td>\n",
       "      <td>16.8</td>\n",
       "      <td>113</td>\n",
       "      <td>3.85</td>\n",
       "      <td>3.49</td>\n",
       "      <td>0.24</td>\n",
       "      <td>2.18</td>\n",
       "      <td>7.80</td>\n",
       "      <td>0.86</td>\n",
       "      <td>3.45</td>\n",
       "      <td>1480</td>\n",
       "    </tr>\n",
       "    <tr>\n",
       "      <th>4</th>\n",
       "      <td>1</td>\n",
       "      <td>13.24</td>\n",
       "      <td>2.59</td>\n",
       "      <td>2.87</td>\n",
       "      <td>21.0</td>\n",
       "      <td>118</td>\n",
       "      <td>2.80</td>\n",
       "      <td>2.69</td>\n",
       "      <td>0.39</td>\n",
       "      <td>1.82</td>\n",
       "      <td>4.32</td>\n",
       "      <td>1.04</td>\n",
       "      <td>2.93</td>\n",
       "      <td>735</td>\n",
       "    </tr>\n",
       "  </tbody>\n",
       "</table>\n",
       "</div>"
      ],
      "text/plain": [
       "   Class label  Alcohol  Malic acid   Ash  Alcalinity of ash  Magnesium  \\\n",
       "0            1    14.23        1.71  2.43               15.6        127   \n",
       "1            1    13.20        1.78  2.14               11.2        100   \n",
       "2            1    13.16        2.36  2.67               18.6        101   \n",
       "3            1    14.37        1.95  2.50               16.8        113   \n",
       "4            1    13.24        2.59  2.87               21.0        118   \n",
       "\n",
       "   Total phenols  Flavanoids  Nonflavanoid phenols  Proanthocyanins  \\\n",
       "0           2.80        3.06                  0.28             2.29   \n",
       "1           2.65        2.76                  0.26             1.28   \n",
       "2           2.80        3.24                  0.30             2.81   \n",
       "3           3.85        3.49                  0.24             2.18   \n",
       "4           2.80        2.69                  0.39             1.82   \n",
       "\n",
       "   Color intensity   Hue  OD280/OD315 of diluted wines  Proline  \n",
       "0             5.64  1.04                          3.92     1065  \n",
       "1             4.38  1.05                          3.40     1050  \n",
       "2             5.68  1.03                          3.17     1185  \n",
       "3             7.80  0.86                          3.45     1480  \n",
       "4             4.32  1.04                          2.93      735  "
      ]
     },
     "execution_count": 20,
     "metadata": {},
     "output_type": "execute_result"
    }
   ],
   "source": [
    "df_wine = pd.read_csv('https://archive.ics.uci.edu/ml/machine-learning-databases/wine/wine.data', header=None)\n",
    "df_wine.columns = ['Class label', 'Alcohol', 'Malic acid', 'Ash', 'Alcalinity of ash', 'Magnesium',\n",
    "                   'Total phenols', 'Flavanoids', 'Nonflavanoid phenols', 'Proanthocyanins',\n",
    "                   'Color intensity', 'Hue', 'OD280/OD315 of diluted wines', 'Proline']\n",
    "print('Class labels', np.unique(df_wine['Class label']))\n",
    "df_wine.head()"
   ]
  },
  {
   "cell_type": "markdown",
   "metadata": {},
   "source": [
    "Class label이 의미 하는 것은, 각각 다른 지역에서 자라난 포도의 종류를 의미한다.\n",
    "\n",
    "_test_와 _training_ 데이터 셋을 랜덤하게 나누는 간단한 방법은 scikit-learn의 submodule인 cross_validation의 *train_test_split* 함수를 이용하는 것이다."
   ]
  },
  {
   "cell_type": "code",
   "execution_count": 21,
   "metadata": {
    "collapsed": true
   },
   "outputs": [],
   "source": [
    "from sklearn.cross_validation import train_test_split\n",
    "X, y = df_wine.iloc[:, 1:].values, df_wine.iloc[:, 0].values\n",
    "X_train, X_test, y_train, y_test = train_test_split(X, y, test_size=0.3, random_state=0)"
   ]
  },
  {
   "cell_type": "markdown",
   "metadata": {},
   "source": [
    "우선 13개의 feature 칼럼들을 변수 X로 놓고, 첫 번째 칼럼인 class label을 변수 y로 놓는다. 그리고서, _train_test_split_ 함수를 이용하여 랜덤하게 X와 y를 training과 test에 나누게 된다.\n",
    "\n",
    "![Image](figures/3.PNG)"
   ]
  },
  {
   "cell_type": "markdown",
   "metadata": {},
   "source": [
    "## Bringing features onto the same scale\n",
    "\n",
    "__Feature scaling__은 전처리 과정에서 잊어버리기 쉬운 중요한 과정이다. 의사결정나무와 랜덤포레스트는 아주 소수의 머신 러닝 알고리즘 중 하나이며, feature scaling까지 고려하지 않았다. 그러나 머신러닝과 최적화 알고리즘의 과반수는 features가 동일한 스케일일 때, 더 좋은 성능을 보인다.\n",
    "\n",
    "Feature scaling의 중요성은 간단한 예로 볼 수 있다. 1~10까지의 scale과 1~100,000의 scale을 생각해보자. 우리가 __Adaline__에서 squared error function을 고려할 때, 우리는 직관적으로 1~100,000의 스케일을 갖는 feature가 weight을 최적화하기 위해 더 많은 계산을 해야할 것이라고 생각할 수 있다. 다른 예로는, __KNN__에서 유클리디안 거리측정을 하는 경우를 생각할 수 있다. 샘플간의 거리는 두 번째 feature에만 영향을 받으며 구해질 것이다.\n",
    "\n",
    "다른 스케일을 갖는 feature를 같은 스케일로 바꾸는 두 가지 기본적인 접근법이 있다.\n",
    "\n",
    "__Normalization__ : [0, 1] 범위로 rescaling , min-max scaling 방식\n",
    "\n",
    "![Image](figures/4.PNG)"
   ]
  },
  {
   "cell_type": "code",
   "execution_count": 22,
   "metadata": {
    "collapsed": true
   },
   "outputs": [],
   "source": [
    "from sklearn.preprocessing import MinMaxScaler\n",
    "mms = MinMaxScaler()\n",
    "X_train_norm = mms.fit_transform(X_train)\n",
    "X_test_norm = mms.transform(X_test)"
   ]
  },
  {
   "cell_type": "markdown",
   "metadata": {},
   "source": [
    "Min-max scaling을 통한 normalization은 bounded interval한 값들이 필요할 때는 유용하게 사용되지만, standardization은 많은 머신러닝 알고리즘에 더 실용적이다. 로지스틱 회귀, SV 등과 같은 선형 모델들은 weight를 0이나 0과 비슷한 아주 작은 수로 초기값을 주어서 시작하기 때문이다. Standardization을 이용하면, feature가 평균 0, 분산 1인 표준정규분포를 따르게 할 수 있으며, weight를 학습시키기에 더 좋다. 또한 standardization은 아웃라이어에 대한 유용한 정보를 얻을 수 있고, value에 범위를 제한해줌으로써 알고리즘이 min-max scaling과 비교했을 때 아웃라이어에 덜 민감하게 만들 수 있다.\n",
    "\n",
    "![Image](figures/5.PNG)\n",
    "![Image](figures/6.PNG)"
   ]
  },
  {
   "cell_type": "code",
   "execution_count": 23,
   "metadata": {
    "collapsed": true
   },
   "outputs": [],
   "source": [
    "from sklearn.preprocessing import StandardScaler\n",
    "stdsc = StandardScaler()\n",
    "X_train_std = stdsc.fit_transform(X_train)\n",
    "X_test_std = stdsc.transform(X_test)"
   ]
  },
  {
   "cell_type": "markdown",
   "metadata": {},
   "source": [
    "Again, it is also important to highlight that we fit the StandardScaler only once\n",
    "on the training data and use those parameters to transform the test set or any new data point."
   ]
  },
  {
   "cell_type": "markdown",
   "metadata": {},
   "source": [
    "## Selecting meaningful features\n",
    "\n",
    "만약 모델 생성 이후 테스트 데이터에서 좋은 성능을 내지 못한다면 이는 과적합(overfitting)일 가능성이 매우 높다. 과적합은 트레이닝 데이터셋의 특정 데이터들에 너무 모델이 치중한 것을 의미하며 real data에 제대로 적용되지 못한다. 이를 모델이 high variance를 가지고 있다고 표현하기도 한다. 이를 막기 위해서는 아래 네가지 방법이 있다.\n",
    "![image](figures/j1.PNG)\n",
    "더 많은 학습 데이터를 모으는 것은 종종 적합하지 않은 경우가 있다. 다음 챕터(chapter 5) 우리는 학습 데이터를 더 집어 넣는 것이 더 도움이 될지 되지 않을지 알 수 있는 방법에 대해 배울 것이다. 이제 다음 섹션에서 regularization 과 feature selection을 통한 dimensionality reduction으로 과적합을 줄이는 방법에 대해 배울 것이다. \n",
    "\n",
    "## Spare solutions with L1 regularization\n",
    "\n",
    "![image](figures/j2.png)\n",
    "\n",
    "L2 regularization과는 다르게 L1 regularization은 단순히 절댓값만 취해준다. L2와 대조적으로 더 희소한 feature vector를 산출한다. 이러한 희소성(Sparsity)는 우리가 큰 차원의 서로 irrelavant한 feature들로 이루어진 데이터를 가지고 있을 때 유용하게 쓰인다. 이러한 상황일 때 L1 regularization은 feature selection의 한 방법으로 사용된다. \n",
    "\n",
    "어떻게 L1이 sparsity를 유도하는지 보기 위하여 regularization의 기하학적 해석을 먼저 바라보자. w1과 w2의 convex cost function의 등고선을 그려보자. 여기서 우리는 챕터2에 나온 adaline에서 쓰인 SSE cost function을 선택할 것이다. 이는 이 cost function이 로지스틱 회귀 함수의 cost function보다 그리기 쉽고 대칭으로 이루어져 있기 때문이다. 학습 데이터의 cost function을 최소화하는 weight coefficients의 집합을 찾는 것이 목적이라는 것을 잊지 말고 아래 그래프를 보자.\n",
    "\n",
    "![image](figures/j3.png)\n",
    "\n",
    "regularization parameter를 통하여 regularization strength(정규화 강도)를 강화한다. 이를 통해 우리는 가중치를 0에 가깝게 만들 수 있고 모델의 학습 데이터에 대한 dependence를 감소시킬 수 있다. L2 penalty term에 관한 다음 그림을 보고 이 개념에 대해 좀 더 쉽게 이해해보자.\n",
    "\n",
    "![image](figures/j4.png)\n",
    "\n",
    "회색 영역이 L2 정규화 부분이다. weight coefficients의 조합은 회색 부분을 벗어날 수 없다. 반면에 우리는 여전히 cost function을 최소화하고 싶어한다. penalty constraint 아래에서, 최선의 선택은 unpenalized cost function의 등고선과 마주치는 부분을 선택하는 것이다. 정규화 파라미터가 큰 값일수록, penalized cost function은 빠르게 증가하며 이는 L2 영역을 작게 만든다. 예를 들어, 정규화 파라미터를 무한대로 크게 만들면, 가중치 변수들은 사실상 0에 가깝게 될 것이다.\n",
    " 이 예시를 요약하면 다음과 같다. 우리의 목표는 unpenalized cost function + penalty term을 최소화 하는 것이다. 모델을 fit 시키기 위한 학습 데이터가 없을 때, 분산을 줄이기 위해서 bias를 더해주고 더 단순한 모델을 선택하는 것이라 할 수 있다.\n",
    "\n",
    "이제 L1 정규화와 sparsity에 대해 이야기해보자. L1 정규화의 주 개념은 이제까지 우리가 이야기 한 것과 같다. 하지만 L1 penalty는 가중치 변수들의 절댓값의 합이므로 (L2는 제곱의 합) 다이아몬드 모양으로 표현할 수 있다. \n",
    "\n",
    "![image](figures/j5.png)\n",
    "\n",
    "이 그림을 보면, cost function의 등고선이 w1이 0일 때 만난다. L1 정규화 시스템이 sharp하기 때문에 optimum(L1 diamond와 cost function의 등고선의 교집합)이 축 위에 있는 것으로 보인다. 이는 sparsity를 촉진한다고 볼 수 있다. "
   ]
  },
  {
   "cell_type": "code",
   "execution_count": 24,
   "metadata": {
    "collapsed": false
   },
   "outputs": [
    {
     "name": "stdout",
     "output_type": "stream",
     "text": [
      "Class labels [1 2 3]\n",
      "   Class label  Alcohol  Malic acid   Ash  Alcalinity of ash  Magnesium  \\\n",
      "0            1    14.23        1.71  2.43               15.6        127   \n",
      "1            1    13.20        1.78  2.14               11.2        100   \n",
      "2            1    13.16        2.36  2.67               18.6        101   \n",
      "3            1    14.37        1.95  2.50               16.8        113   \n",
      "4            1    13.24        2.59  2.87               21.0        118   \n",
      "\n",
      "   Total phenols  Flavanoids  Nonflavanoid phenols  Proanthocyanins  \\\n",
      "0           2.80        3.06                  0.28             2.29   \n",
      "1           2.65        2.76                  0.26             1.28   \n",
      "2           2.80        3.24                  0.30             2.81   \n",
      "3           3.85        3.49                  0.24             2.18   \n",
      "4           2.80        2.69                  0.39             1.82   \n",
      "\n",
      "   Color intensity   Hue  OD280/OD315 of diluted wines  Proline  \n",
      "0             5.64  1.04                          3.92     1065  \n",
      "1             4.38  1.05                          3.40     1050  \n",
      "2             5.68  1.03                          3.17     1185  \n",
      "3             7.80  0.86                          3.45     1480  \n",
      "4             4.32  1.04                          2.93      735  \n",
      "Training accuracy :  0.983870967742\n",
      "Test accuracy :  0.981481481481\n"
     ]
    }
   ],
   "source": [
    "import pandas as pd\n",
    "import numpy as np\n",
    "from sklearn.linear_model import LogisticRegression\n",
    "from sklearn.cross_validation import train_test_split\n",
    "from sklearn.preprocessing import StandardScaler\n",
    "\n",
    "df_wine = pd.read_csv('https://archive.ics.uci.edu/ml/machine-learning-databases/wine/wine.data', header=None)\n",
    "df_wine.columns = ['Class label', 'Alcohol',\n",
    "                   'Malic acid', 'Ash',\n",
    "                   'Alcalinity of ash', 'Magnesium',\n",
    "                   'Total phenols', 'Flavanoids',\n",
    "                   'Nonflavanoid phenols',\n",
    "                   'Proanthocyanins',\n",
    "                   'Color intensity', 'Hue',\n",
    "                   'OD280/OD315 of diluted wines',\n",
    "                   'Proline']\n",
    "\n",
    "print('Class labels', np.unique(df_wine['Class label']))\n",
    "print(df_wine.head())\n",
    "\n",
    "X, y = df_wine.iloc[:, 1:].values, df_wine.iloc[:, 0].values\n",
    "X_train, X_test, y_train, y_test = train_test_split(X, y, test_size=0.3, random_state=0)\n",
    "\n",
    "stdsc = StandardScaler()\n",
    "X_train_std = stdsc.fit_transform(X_train)\n",
    "X_test_std = stdsc.transform(X_test)\n",
    "\n",
    "lr = LogisticRegression(penalty='l1', C=0.1)\n",
    "lr.fit(X_train_std, y_train)\n",
    "print(\"Training accuracy : \", lr.score(X_train_std, y_train))\n",
    "print(\"Test accuracy : \", lr.score(X_test_std, y_test))"
   ]
  },
  {
   "cell_type": "markdown",
   "metadata": {},
   "source": [
    "트레이닝, 테스트 정확도가 둘 다 98%로 매우 높게 나온다. 이는 overfitting이 없다는 뜻이다. lr.intercept 함수를 쓰면 세 값이 나오는데 각 값들은 차례대로 class 1 vs others, class 2 vs others, class 3 vs others 에 해당하는 값들이다. lr.coef는 weight array를 알려준다. 각 행은 13개의 가중치로 이루어져 있으며 원 데이터의 각 변수들과 곱한값들의 합으로 net input을 구할 수 있다.\n",
    "![image](figures/j6.png)\n",
    "가중치 값들을 보면 대부분 non-zero entry가 별로 없다는 것을 알 수 있다. L1 정규화 결과, 우리는 이 데이터 셋에서 잠재적인 비연관성 변수들에 매우 robust한 모델을 만들었다. "
   ]
  },
  {
   "cell_type": "code",
   "execution_count": 25,
   "metadata": {
    "collapsed": false
   },
   "outputs": [
    {
     "data": {
      "image/png": "[encoded data removed]",
      "text/plain": [
       "<matplotlib.figure.Figure at 0xa0640f0>"
      ]
     },
     "metadata": {},
     "output_type": "display_data"
    }
   ],
   "source": [
    "import matplotlib.pyplot as plt\n",
    "fig = plt.figure()\n",
    "ax = plt.subplot(111)\n",
    "colors = ['blue', 'green', 'red', 'cyan',\n",
    "          'magenta', 'yellow', 'black',\n",
    "          'pink', 'lightgreen', 'lightblue',\n",
    "          'gray', 'indigo', 'orange']\n",
    "weights, params = [], []\n",
    "for c in np.arange(-4, 6):\n",
    "    lr = LogisticRegression(penalty='l1', C=10**c, random_state=0)\n",
    "    lr.fit(X_train_std, y_train)\n",
    "    weights.append(lr.coef_[1])\n",
    "    params.append(10**c)\n",
    "weights = np.array(weights)\n",
    "for column, color in zip(range(weights.shape[1]), colors):\n",
    "    plt.plot(params, weights[:, column],\n",
    "             label=df_wine.columns[column + 1],\n",
    "             color=color)\n",
    "plt.axhline(0, color='black', linestyle='--', linewidth=3)\n",
    "plt.xlim([10**-5, 10**5])\n",
    "plt.ylabel('weight coefficient')\n",
    "plt.xlabel('C')\n",
    "plt.xscale('log')\n",
    "ax.legend(loc=\"upper left\",\n",
    "          bbox_to_anchor=(1.38, 1.03),\n",
    "          ncol=1, fancybox=True)\n",
    "plt.show()"
   ]
  },
  {
   "cell_type": "markdown",
   "metadata": {},
   "source": [
    "플롯을 보면 L1 정규화에 대해 좀 더 자세히 알 수 있다. 우리가 보다시키, 정규화 파라미터를 강하게 주면(C < 0.1) 모든 feature들의 가중치가 0이 된다. C는 정규화 파라미터 람다의 inverse이다.\n",
    "\n",
    "# Sequencial feature selection algorithms\n",
    "\n",
    "모델의 복잡성을 줄이고 overfitting을 피하는 또 다른 방법으로는 feature selection을 통한 dimensionality reduction이 있다. 이는 비정규화된 모델에 매우 유용하다. 차원 축소에는 두 메인 카테고리가 있다 : feature selection & feature extraction. 이 단원에서는 feature selection에 관해 알아보고 다음 챕터에서 feature extraction에 대해 알아볼 것이다. \n",
    "\n",
    "sequential feature selection 알고리즘은 greedy search algorithm의 한 종류로 d-차원의 feature space를 k-차원의 feature subspace로 감소시킬 때 사용한다(k < d). feature selection 알고리즘의 발상은 두 가지에서 나왔다. 첫 번째는 문제에 가장 관련있는 feature들의 subset을 선택하여 계산적인 효율성을 높이는 것, 두 번째는 irrelevant한 feature이나 noise을 제거하여 모델의 generalization error를 ㅜㄹ이는 것이다. 이는 정규화를 지원하지 않는 알고리즘들에 매우 유용하다. 클래식한 sequencial feature selection 알고리즘은 sequencial backward selection(SBS)이 있는데 이는 최초 feature subspace의 차원을 줄여 최소한의 분류기법 성능 하락으로 계산 효율성을 높이는 것에 초점을 맞춘다. 어떠한 상황에서는 SBS가 과적합에 고통받는 모델의 예측 성능을 높이기도 한다.\n",
    "![image](figures/j7.PNG)\n",
    "\n",
    "SBS 알고리즘의 아이디어는 매우 간단하다. Full feature subset에서 새로운 feature subspace가 원하는 갯수의 feature를 가지고 있을 때까지 연속적으로 feature를 지운다. 어떤 feature를 각 단계에서 지울지 결정하기 위해서, 최소화를 위한 criterion function J를 정의해준다.\n",
    "Criterion function에 의해 계산되는 이 기준은 분류 기법의 성능이 특정 변수를 제거하기 전과 후에 변하는 정도라고 할 수 있다. 이 criterion을 최대화 하는 feature가 단순히 제거될 feature로 지정되는 것이다. 제거 해봤을 때 최소한의 성능 하락이 나타나는 변수를 제거해준다. SBS의 앞선 정의에 기반하여, 우리는 이 알고리즘을 4개의 심플한 단계로 말할 수 있다.\n",
    "\n",
    "![image](figures/j8.PNG)\n",
    "\n",
    "아쉽게도 scikit-learn에는 SBS알고리즘이 없다. 하지만 원리가 간단하므로 한 번 해보자."
   ]
  },
  {
   "cell_type": "code",
   "execution_count": 26,
   "metadata": {
    "collapsed": true
   },
   "outputs": [],
   "source": [
    "from sklearn.base import clone\n",
    "from itertools import combinations\n",
    "import numpy as np\n",
    "from sklearn.cross_validation import train_test_split\n",
    "from sklearn.metrics import accuracy_score\n",
    "\n",
    "class SBS():\n",
    "    \n",
    "    def __init__(self, estimator, k_features, scoring=accuracy_score, test_size=0.25, random_state=1):\n",
    "        self.scoring = scoring\n",
    "        self.estimator = clone(estimator)\n",
    "        self.k_features = k_features\n",
    "        self.test_size = test_size\n",
    "        self.random_state = random_state\n",
    "        \n",
    "    def fit(self, X, y):\n",
    "        X_train, X_test, y_train, y_test = \\\n",
    "                train_test_split(X, y, test_size=self.test_size,\n",
    "                    random_state=self.random_state)\n",
    "        dim = X_train.shape[1]\n",
    "        self.indices_ = tuple(range(dim))\n",
    "        self.subsets_ = [self.indices_]\n",
    "        score = self._calc_score(X_train, y_train,\n",
    "                X_test, y_test, self.indices_)\n",
    "        self.scores_ = [score]\n",
    "        while dim > self.k_features:\n",
    "            scores = []\n",
    "            subsets = []\n",
    "            for p in combinations(self.indices_, r=dim-1):\n",
    "                score = self._calc_score(X_train, y_train,\n",
    "                X_test, y_test, p)\n",
    "                scores.append(score)\n",
    "                subsets.append(p)\n",
    "            best = np.argmax(scores)\n",
    "            self.indices_ = subsets[best]\n",
    "            self.subsets_.append(self.indices_)\n",
    "            dim -= 1\n",
    "            self.scores_.append(scores[best])\n",
    "        self.k_score_ = self.scores_[-1]\n",
    "        return self\n",
    "    \n",
    "    def transform(self, X):\n",
    "        return X[:, self.indices_]\n",
    "    \n",
    "    def _calc_score(self, X_train, y_train,\n",
    "        X_test, y_test, indices):\n",
    "        self.estimator.fit(X_train[:, indices], y_train)\n",
    "        y_pred = self.estimator.predict(X_test[:, indices])\n",
    "        score = self.scoring(y_test, y_pred)\n",
    "        return score"
   ]
  },
  {
   "cell_type": "markdown",
   "metadata": {},
   "source": [
    "k_feature를 우리가 원하는 feature 갯수로 정의한다. 기본적으로 scikit-learn의 accuracy_score를 이용하여 feature subsets의 모델의 성능과 estimator of classification을 평가한다. fit method의 while loop에서, itertools.combination function으로 만들어진 feature subset들은 우리가 원하는 dimensionality를 가질 때까지 평가되고 점점 줄어든다. 각 iteration에서, 가장 좋은 subset이 X_test라는 내부적으로 만들어진 테스트 데이터 셋으로 평가되어 self.scores 리스트에 저장된다. 이 score들은 나중에 결과를 평가할 때 사용된다. 최종 변수 서브셋의 column 인덱스들은 sel.indices에 저장된다. 마지막에 best performing feature subset에 없는 변수들을 제거한다(?)\n",
    "(Note that, instead of calculating the criterion explicitly inside the fit method, we simply removed the feature that is not contained in the best performing feature subset...? )\n",
    "\n",
    "이제 scikit-learn의 KNN 분류기법을 활용하여 SBS를 적용해보자."
   ]
  },
  {
   "cell_type": "code",
   "execution_count": 27,
   "metadata": {
    "collapsed": false
   },
   "outputs": [
    {
     "data": {
      "text/plain": [
       "<__main__.SBS at 0xbd3df98>"
      ]
     },
     "execution_count": 27,
     "metadata": {},
     "output_type": "execute_result"
    }
   ],
   "source": [
    "from sklearn.neighbors import KNeighborsClassifier\n",
    "import matplotlib.pyplot as plt\n",
    "knn = KNeighborsClassifier(n_neighbors=2)\n",
    "sbs = SBS(knn, k_features=1)\n",
    "sbs.fit(X_train_std, y_train)"
   ]
  },
  {
   "cell_type": "markdown",
   "metadata": {},
   "source": [
    "SBS를 정의할 때 fit function 안에 dataset을 test와 training data로 나눠줌에도 불구하고, X_train을 그대로 알고리즘에 집어넣는다. 이는 오리지널 테스트 데이터가 트레이닝 데이터의 일부가 되는 것을 막기 위함이다.\n",
    "SBS 알고리즘은 각 단계에서 best feature subset의 점수를 획득하는 것을 기억하자. 아래는 KNN 분류기법을 활용한 코드이다."
   ]
  },
  {
   "cell_type": "code",
   "execution_count": 28,
   "metadata": {
    "collapsed": false
   },
   "outputs": [
    {
     "data": {
      "image/png": "[encoded data removed]",
      "text/plain": [
       "<matplotlib.figure.Figure at 0xb8850b8>"
      ]
     },
     "metadata": {},
     "output_type": "display_data"
    }
   ],
   "source": [
    "k_feat = [len(k) for k in sbs.subsets_]\n",
    "plt.plot(k_feat, sbs.scores_, marker='o')\n",
    "plt.ylim([0.7, 1.1])\n",
    "plt.ylabel('Accuracy')\n",
    "plt.xlabel('Number of features')\n",
    "plt.grid()\n",
    "plt.show()"
   ]
  },
  {
   "cell_type": "markdown",
   "metadata": {},
   "source": [
    "플롯에서 보듯이, KNN 분류기법의 정확도는 feature의 갯수를 줄일수록 더 높아진다. 이는 curse of dimensionality가 줄어들기 때문이다. k = 5,6,7,8,9,10일 때 100%의 정확도를 보여준다.\n",
    "\n",
    "k = 5일 때 어떤 변수들이 선택됬는지 살펴보자."
   ]
  },
  {
   "cell_type": "code",
   "execution_count": 29,
   "metadata": {
    "collapsed": false
   },
   "outputs": [
    {
     "name": "stdout",
     "output_type": "stream",
     "text": [
      "Index(['Alcohol', 'Malic acid', 'Alcalinity of ash', 'Hue', 'Proline'], dtype='object')\n"
     ]
    }
   ],
   "source": [
    "k5 = list(sbs.subsets_[8])\n",
    "print(df_wine.columns[1:][k5])"
   ]
  },
  {
   "cell_type": "markdown",
   "metadata": {},
   "source": [
    "원래 데이터를 가지고 KNN 분류 기법의 성능을 평가해보자."
   ]
  },
  {
   "cell_type": "code",
   "execution_count": 30,
   "metadata": {
    "collapsed": false
   },
   "outputs": [
    {
     "name": "stdout",
     "output_type": "stream",
     "text": [
      "Training accuracy: 0.983870967742\n",
      "Test accuracy: 0.944444444444\n"
     ]
    }
   ],
   "source": [
    "knn.fit(X_train_std, y_train)\n",
    "print('Training accuracy:', knn.score(X_train_std, y_train))\n",
    "print('Test accuracy:', knn.score(X_test_std, y_test))"
   ]
  },
  {
   "cell_type": "markdown",
   "metadata": {},
   "source": [
    "전체 feature를 사용했을 때의 결과는 위와 같다. 학습데이터에 대한 정확도는 98%지만 테스트 데이터에 대한 정확도는 94.4%로 약간 낮다. 이는 약간의 오버피팅을 의미한다. 이제 위에서 선택한 5개의 변수들만 가지고 KNN 분류기법을 평가 해보자."
   ]
  },
  {
   "cell_type": "code",
   "execution_count": 31,
   "metadata": {
    "collapsed": false
   },
   "outputs": [
    {
     "name": "stdout",
     "output_type": "stream",
     "text": [
      "Training accuracy: 0.959677419355\n",
      "Test accuracy: 0.962962962963\n"
     ]
    }
   ],
   "source": [
    "knn.fit(X_train_std[:, k5], y_train)\n",
    "print('Training accuracy:', knn.score(X_train_std[:, k5], y_train))\n",
    "print('Test accuracy:', knn.score(X_test_std[:, k5], y_test))"
   ]
  },
  {
   "cell_type": "markdown",
   "metadata": {},
   "source": [
    "와인 데이터 셋에 있는 5개의 feature들만 사용하여 최종적으로 테스트 데이터셋의 예측률을 2% 더 향상시킬 수 있다. 또한 트레이닝 데이터와 테스트 데이터 모델 정확도의 갭을 줄여 오버피팅을 조금 더 방지했다고 볼 수 있다."
   ]
  },
  {
   "cell_type": "markdown",
   "metadata": {},
   "source": [
    "## Assessing feature importance with random forests\n",
    "\n",
    "이전 섹션에서, L1 정규화를 사용하여 로지스틱 회귀의 관련없는 feature를 찾아내는 방법과, SBS 알고리즘을 이용하여 feature를 선택하는 방법에 대해 배웠다. 연관있는 features를 찾아내는 다른 방법은 __random forest__이다. 랜덤 포레스트를 이용하면, forest의 모든 의사결정나무로부터 계산된 평균 불순도 감소를 통해 feature importance를 구할 수 있었다. 이 과정은 우리의 데이터가 선형분리이거나 아니라는 가정이 없어도 가능했다. 랜덤 포레스트는 _RandomForestClassifier_로 fit을 마치고서, *feature_importances* 라는 어트리뷰트를 통해서 우리에게 feature importance를 구할 수 있게 해준다. 아래 코드를 통해, Wine dataset의 10,000개의 나무를 train하고, 13개의 respective importance measure를 순위 매겨본다. 앞선 챕터에서 말했듯, standardization이나 normalization을 해줄 필요는 없다."
   ]
  },
  {
   "cell_type": "code",
   "execution_count": 32,
   "metadata": {
    "collapsed": false
   },
   "outputs": [
    {
     "name": "stdout",
     "output_type": "stream",
     "text": [
      " 1) Alcohol                        0.182483\n",
      " 2) Malic acid                     0.158610\n",
      " 3) Ash                            0.150948\n",
      " 4) Alcalinity of ash              0.131987\n",
      " 5) Magnesium                      0.106589\n",
      " 6) Total phenols                  0.078243\n",
      " 7) Flavanoids                     0.060718\n",
      " 8) Nonflavanoid phenols           0.032033\n",
      " 9) Proanthocyanins                0.025400\n",
      "10) Color intensity                0.022351\n",
      "11) Hue                            0.022078\n",
      "12) OD280/OD315 of diluted wines   0.014645\n",
      "13) Proline                        0.013916\n"
     ]
    }
   ],
   "source": [
    "from sklearn.ensemble import RandomForestClassifier\n",
    "feat_labels = df_wine.columns[1:]\n",
    "forest = RandomForestClassifier(n_estimators=10000, random_state=0, n_jobs=-1)\n",
    "forest.fit(X_train, y_train)\n",
    "importances = forest.feature_importances_\n",
    "indices = np.argsort(importances)[::-1]\n",
    "\n",
    "for f in range(X_train.shape[1]):\n",
    "    print(\"%2d) %-*s %f\" % (f + 1, 30, feat_labels[f], importances[indices[f]]))"
   ]
  },
  {
   "cell_type": "markdown",
   "metadata": {},
   "source": [
    "After executing the preceding code, we created a plot that ranks the different features in the Wine dataset by their relative importance; note that the feature importances are normalized so that they sum up to 1.0."
   ]
  },
  {
   "cell_type": "code",
   "execution_count": 33,
   "metadata": {
    "collapsed": false
   },
   "outputs": [
    {
     "data": {
      "image/png": "[encoded data removed]",
      "text/plain": [
       "<matplotlib.figure.Figure at 0xb979278>"
      ]
     },
     "metadata": {},
     "output_type": "display_data"
    }
   ],
   "source": [
    "plt.title('Feature Importances')\n",
    "plt.bar(range(X_train.shape[1]),\n",
    "importances[indices],\n",
    "color='lightblue',\n",
    "align='center')\n",
    "plt.xticks(range(X_train.shape[1]),\n",
    "feat_labels, rotation=90)\n",
    "plt.xlim([-1, X_train.shape[1]])\n",
    "plt.tight_layout()\n",
    "plt.show()"
   ]
  },
  {
   "cell_type": "markdown",
   "metadata": {},
   "source": [
    "10,000개의 나무의 평균 불순도 감소를 통하여 가장 변별력있는 feature를 알아냈다. 흥미롭게도 3개의 상위 결과는 이전 섹션에서 했던 SBS알고리즘을 이용한 5개의 상위 결과에 속한다. 그러나 해석능력에 있어서는, random forest 기술이 가치있는 언급 해준다는 면에서 중요하다. 예를 들어, 2개 혹은 그 이상의 features가 매우 연관(correlated)있다면, 하나의 feature는 아마 매우 높은 순위에 들고 그 외의 feature(s)는 제대로 capture 되지 못할 것이다. 우리가 feature importance의 해석보다 모델의 예측 능력에 더 관심이 있다면, 이러한 문제는 신경쓸 필요가 없다.\n",
    "\n",
    "우리가 RandomForestClassifier를 feature selector로서 사용하고자 원한다면 _transform_ 함수를 통하여 사용자가 모델 fitting 후에 threshold를 정하여 feature selection할 수 있다. 또한 이는 전처리 과정과 estimator을 연결해주는 pipeline 역할을 하기도 한다. 예시에서, threshold를 0.15로 잡아서 3개의 중요한 features인 Alcohol, Malic acid, Ash를 선택하는 과정은 다음과 같다."
   ]
  },
  {
   "cell_type": "code",
   "execution_count": 34,
   "metadata": {
    "collapsed": false
   },
   "outputs": [
    {
     "name": "stderr",
     "output_type": "stream",
     "text": [
      "C:\\Users\\Administrator\\Anaconda3\\lib\\site-packages\\sklearn\\utils\\__init__.py:93: DeprecationWarning: Function transform is deprecated; Support to use estimators as feature selectors will be removed in version 0.19. Use SelectFromModel instead.\n",
      "  warnings.warn(msg, category=DeprecationWarning)\n"
     ]
    },
    {
     "data": {
      "text/plain": [
       "(124, 3)"
      ]
     },
     "execution_count": 34,
     "metadata": {},
     "output_type": "execute_result"
    }
   ],
   "source": [
    "X_selected = forest.transform(X_train, threshold=0.15)\n",
    "X_selected.shape"
   ]
  },
  {
   "cell_type": "markdown",
   "metadata": {},
   "source": [
    "## Summary\n",
    "\n",
    "결측값을 다루는 방법에 대해 배웠다. 머신러닝 알고리즘에 데이터를 집어넣기 전에, 범주형 변수를 알맞게 encode했으며, ordinal 혹은 nominal 변수를 정수형 표현으로 나타냈다.\n",
    "\n",
    "L1 regularization은 모델의 복잡성을 줄임으로써 오버피팅을 방지하도록 돕는다. 연관없는 feature를 제거하기 위한 대안으로 __sequential feature selection algorithm__을 이용하여 데이터셋으로부터 의미있는 features를 골라냈다.\n",
    "\n",
    "이 다음 챕터에서는, 차원의 축소에 대해 배운다. __feature extraction__은 feature를 버림으로써 남은 feature를 사용하는 것이 아니라, feature들을 더 낮은 차원의 subspace로 compress 하게 해준다."
   ]
  }
 ],
 "metadata": {
  "anaconda-cloud": {},
  "kernelspec": {
   "display_name": "Python [conda root]",
   "language": "python",
   "name": "conda-root-py"
  },
  "language_info": {
   "codemirror_mode": {
    "name": "ipython",
    "version": 3
   },
   "file_extension": ".py",
   "mimetype": "text/x-python",
   "name": "python",
   "nbconvert_exporter": "python",
   "pygments_lexer": "ipython3",
   "version": "3.5.2"
  }
 },
 "nbformat": 4,
 "nbformat_minor": 1
}
