{
 "cells": [
  {
   "cell_type": "markdown",
   "metadata": {},
   "source": [
    "<center>  <font size = 6> Chain Rule </font></center>  <br>\n",
    "  \n",
    "  \n",
    "Chain rule은 여러 확률 변수들의 집합들의 Joint distribution을 계산할 수 있게 해준다.  \n",
    "다른 말로 하면, joint distribution은 individual conditional probability들의 곱이라고 표현할 수 있다.  \n",
    "조건부 확률을 조금 바꿔보면 아래와 같다.  \n",
    "  \n",
    "![체인룰](Desktop\\파이썬자료\\jupyter\\chain_rule1.png)\n",
    "\n",
    "\n",
    "<img src=Desktop\\파이썬자료\\jupyter\\chain_rule2.png align = \"left\">가 event라고 하면\n",
    "\n",
    "\n",
    "![체인룰](Desktop\\파이썬자료\\jupyter\\chain_rule3.png)  \n",
    "이렇게 표현할 수 있다. 이는 매우 큰 문제를 작은 여러 개의 문제들로 나누어 풀기 쉽게 해준다.\n",
    "\n",
    "다른 표현 방식으로는 아래와 같은 방법이 있다.\n",
    "![체인룰](Desktop\\파이썬자료\\jupyter\\chain_rule4.png)  \n",
    "  \n",
    "  \n",
    "\n"
   ]
  },
  {
   "cell_type": "markdown",
   "metadata": {},
   "source": [
    "  \n",
    "\n",
    "<center>  <font size = 6> The Bayes Rule </font></center>  <br>\n",
    "  \n",
    " Bayes Rule은 확률 이론에서 중요한 기초중의 하나다. 하지만 여기에서는 자세히 다루지 않고 대략적인 개념을 짚고 넘어갈 것이다. Bayes Rule은 아래의 조건부 확률(Conditional Probatility) 개념에서 시작한다. \n",
    " \n",
    "![체인룰](Desktop\\파이썬자료\\jupyter\\Bayes_rule2.png)  \n",
    " 공식에서, 우리는 베이즈 규칙에 대한 다음과 같은 것을 추론할 수 있다. 우리가 생각하는 문제에 대한 prior belief를 생각해볼 수 있다. 이를 간단히 prior 이라고 한다. 우리가 데이터를 바라볼 때 우리의 belif는 바뀌며 final belief(posterior)에 영향(rive rise ?)을 끼친다. 이를 표현해보면 아래와 같다.\n",
    " ![체인룰](Desktop\\파이썬자료\\jupyter\\bayes_rule3.png)  \n",
    "\n",
    "예제를 통해 베이즈 룰의 직관적인 부분을 이해해 보자. 에이미와 칼슨은 기차역에서 기다리고 있다. 에이미는 수 년 동안 매일 같은 시간에 기차를 타 왔다. 칼슨은 오늘이 처음 이곳에서 기차를 타는 날이다. 기차가 제시간에 도착할 것이라는 그들의 prior belief는 무엇일까?  \n",
    "  \n",
    " 에이미는 이 곳에서 매일 기차를 타면서 기차가 2분 넘게 늦는 것을 본 적이 없다. 그렇기에 에이미는 기차가 최대 2분 늦는다는strong belif를 가지고 있다. 칼슨의 경우 이 곳에서 처음 기차를 타기 때문에, 기차가 시간을 얼마나 잘 엄수하는지 알 방법이 없다. 게다가 그는 전 세계 이곳 저곳을 다니면서 기차가 제시간에 도착하지 않는 모습을 많이 보았다. 따라서 칼슨은 기차가 최대 30분까지 늦을 수도 있다는 weak belif를 가지고 있다.\n",
    "![체인룰](Desktop\\파이썬자료\\jupyter\\bayes_rule1.png)  \n",
    " \n",
    "  \n",
    " 기차는 실제로 5분 늦게 왔다. 이러한 결과는 에이미와 칼슨에게 모두 다른 영향을 끼친다. 에이미는 strong prior를 가지고 있었기 때문에 그녀의 belif는 기차가 5분 정도 늦을 수 있다고 약간 바뀐다. 칼슨의 belief는 이 곳 기차들은 꽤나 시간엄수를 잘 한다고 바뀔 것이다.  \n",
    "  \n",
    " 다시 말해서, posterior belif는 다방면으로 영향을 받는다. Strong prior를 가진 사람들이 적은 수의 observation을 본다면 그들의 posterior belif는 prior belif에 비교했을 때 많이 변하지 않는다. 반면 weak prior를 가진 사람들이 다양한 observation을 관찰한다면, 그들의 posterior belif는 많이 바뀌며 prior belif보다 observation 영향을 많이 받을 것이다.  \n",
    "  \n",
    " 이번에는 수치를 사용하여 정량적인 예시를 들어보자.  \n",
    " 운동 선수들의 약물 테스트를 예시로 들면 아래와 같다.\n",
    "  \n",
    "  \n",
    " \n",
    "| D  | 운동 선수들이 약물을 투여함.       |\n",
    "|----|------------------------------------|\n",
    "| T  | 약물 테스트 결과 양성              |\n",
    "| D` | 운동 선수들이 약물을 투여하지 않음 |\n",
    "| T` | 약물 테스트 결과 음성              |\n",
    "\n",
    "\n",
    "**P(D|T)**는 양성반응이 나왔을 때 선수가 약물을 투여했을 확률이고, **P(T|D)**는 약물을 투여한 선수의 테스트 결과가 양성반응이 나올 확률이다. 이 둘은 비슷해 보이지만 사실 매우 다르다. 이 테스트를 발명한 연구실에서 약물 투여를 감지할 확률이 0.9라고 주장하고 실제 운동선수가 약물을 투여하지 않았는데 양성반응이 나올 확률은 0.15이다. 그리고 실제로 약물을 투여하는 선수들은 10%라고 하자.  \n",
    "  \n",
    "  \n",
    " ![체인룰](Desktop\\파이썬자료\\jupyter\\bayes_rule4.png)  \n",
    "베이즈 룰 형태로 쓰면 공식은 위와 같다.해당하는 값을 집어넣으면 0.4라는 생가보다 매우 낮은 수치가 나온다. **이 결과는 양성 반응이 나올 확률이 0.9라는 수치에 반하는 매우 비직관적인 값이다. **이는 약물 투여를 하는 선수의 비율이 생각보다 적고(전체의 10%) 약물을 투여하지 않았는데 양성반응이라고 나올 확률P(T|D')이 0.15라는 상대적으로 높은 값을 가지고 있기 때문이다."
   ]
  }
 ],
 "metadata": {
  "kernelspec": {
   "display_name": "Python 3",
   "language": "python",
   "name": "python3"
  },
  "language_info": {
   "codemirror_mode": {
    "name": "ipython",
    "version": 3
   },
   "file_extension": ".py",
   "mimetype": "text/x-python",
   "name": "python",
   "nbconvert_exporter": "python",
   "pygments_lexer": "ipython3",
   "version": "3.5.1"
  }
 },
 "nbformat": 4,
 "nbformat_minor": 0
}
