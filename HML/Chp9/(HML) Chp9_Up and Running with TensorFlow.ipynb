{
 "cells": [
  {
   "cell_type": "markdown",
   "metadata": {},
   "source": [
    "# Chp9. Up and Running with TensorFlow\n",
    "\n",
    "- __발표자 : 정지원__\n",
    "- __발표일 : 2017. 7. 15(토)__\n",
    "\n",
    "\n",
    "TensorFlow는 수치 계산을 위한 강력한 오픈 소스 소프트웨어 라이브러리다. 특히 대규모 기계 학습에 적합하고 미세하게 조정이 가능하다. 기본 원칙은 간단하다. 먼저 Python에서 수행 할 계산 그래프를 정의한 다음 TensorFlow가 그래프를 가져와 최적화된 C ++ 코드를 사용하여 효율적으로 실행한다.\n",
    "\n",
    "![Images](figues/1.png)\n",
    "\n",
    "\n",
    "가장 중요한 점은 그래프를 여러 개의 덩어리로 나눠서 여러 개의 CPU 또는 GPU에서 병렬로 실행할 수 있다는 것이다. TensorFlow는 분산 컴퓨팅을 지원하기 때문에 엄청난 훈련을 통해 거대한 신경망을 학습할 수 있다. 계산을 수백 개의 서버로 나누어 합리적인 시간을 설정한다. TensorFlow는 수십억 개의 instances와 수백만 개의 feature으로 구성된 교육 세트에서 수백만 개의 매개 변수가 있는 네트워크를 학습시킬 수 있다. TensorFlow는 Google Brain팀에 의해 개발되었으며 Google Cloud Speech, Google Photos 및 Google Search와 같은 Google의 대규모 서비스를 지원한다.\n",
    "\n",
    "![Images](figures/2.png)\n",
    "\n",
    "    "
   ]
  },
  {
   "cell_type": "code",
   "execution_count": null,
   "metadata": {
    "collapsed": true
   },
   "outputs": [],
   "source": []
  }
 ],
 "metadata": {
  "kernelspec": {
   "display_name": "Python [conda root]",
   "language": "python",
   "name": "conda-root-py"
  },
  "language_info": {
   "codemirror_mode": {
    "name": "ipython",
    "version": 3
   },
   "file_extension": ".py",
   "mimetype": "text/x-python",
   "name": "python",
   "nbconvert_exporter": "python",
   "pygments_lexer": "ipython3",
   "version": "3.6.1"
  }
 },
 "nbformat": 4,
 "nbformat_minor": 2
}
