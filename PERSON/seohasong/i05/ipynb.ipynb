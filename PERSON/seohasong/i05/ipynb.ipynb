{
 "cells": [
  {
   "cell_type": "code",
   "execution_count": 2,
   "metadata": {},
   "outputs": [
    {
     "data": {
      "text/html": [
       "<style>\n",
       "#explain{\n",
       "    color:white;background-color:black;padding:10px;\n",
       "    margin: 10px 0px 10px 0px;\n",
       "    border-radius: 10px;\n",
       "}\n",
       "#yellow{color:#4AFD32}\n",
       "</style>"
      ],
      "text/plain": [
       "<IPython.core.display.HTML object>"
      ]
     },
     "metadata": {},
     "output_type": "display_data"
    }
   ],
   "source": [
    "%%html\n",
    "<style>\n",
    "#explain{\n",
    "    color:white;background-color:black;padding:10px;\n",
    "    margin: 10px 0px 10px 0px;\n",
    "    border-radius: 10px;\n",
    "}\n",
    "#yellow{color:#4AFD32}\n",
    "</style>"
   ]
  },
  {
   "cell_type": "markdown",
   "metadata": {},
   "source": [
    "# CHAPTER 5\n",
    "# Py Boxes: Mudules, Packages, and Programs\n",
    "## 프로그램의 크기가 커지면 우리 스스로 모듈과 패키지를 만들고 사용해야 한다\n",
    "<pre id=\"explain\">\n",
    "단어 <=> data type\n",
    "문장 <=> statement\n",
    "문단 <=> function\n",
    "장 <=> module\n",
    "</pre>"
   ]
  },
  {
   "cell_type": "markdown",
   "metadata": {},
   "source": [
    "#### test.py\n",
    "```python\n",
    "# -*- coding: utf-8 -*-\n",
    "import sys\n",
    "print(\"Program arguments:\", sys.argv)\n",
    "```\n",
    "#### CLI\n",
    "<pre id=\"explain\">\n",
    "$<span id=\"yellow\">python3 test.py a b c d</span>\n",
    "\n",
    "Program arguments: ['test1.py', 'a', 'b', 'c', 'd']\n",
    "</pre>"
   ]
  },
  {
   "cell_type": "markdown",
   "metadata": {},
   "source": [
    "# Modules\n",
    "\n",
    "## import\n",
    "\n",
    "<pre id=\"explain\">\n",
    "<span id=\"yellow\">import</span>로 <span id=\"yellow\">module</span>을 로드한다\n",
    "ex) import test1\n",
    "모듈은 파이썬 파일 하나 & 모듈 이름은 파일이름\n",
    "ex) test1.py\n",
    "</pre>\n",
    "\n",
    "\n",
    "#### module.py\n",
    "```python\n",
    "# -*- coding: utf-8 -*-\n",
    "def  backward(i):\n",
    "\treturn (i for i in range(i,0,-1))\n",
    "```"
   ]
  },
  {
   "cell_type": "code",
   "execution_count": 60,
   "metadata": {},
   "outputs": [
    {
     "name": "stdout",
     "output_type": "stream",
     "text": [
      "[10, 9, 8, 7, 6, 5, 4, 3, 2, 1]\n"
     ]
    }
   ],
   "source": [
    "import module as m\n",
    "print(list(m.backward(10)))"
   ]
  },
  {
   "cell_type": "code",
   "execution_count": 61,
   "metadata": {},
   "outputs": [
    {
     "name": "stdout",
     "output_type": "stream",
     "text": [
      "[10, 9, 8, 7, 6, 5, 4, 3, 2, 1]\n"
     ]
    }
   ],
   "source": [
    "from module import backward as b\n",
    "print(list(b(10)))"
   ]
  },
  {
   "cell_type": "markdown",
   "metadata": {},
   "source": [
    "## Module Search Path"
   ]
  },
  {
   "cell_type": "code",
   "execution_count": 3,
   "metadata": {
    "scrolled": true
   },
   "outputs": [
    {
     "name": "stdout",
     "output_type": "stream",
     "text": [
      "\n",
      "/root/anaconda3/lib/python36.zip\n",
      "/root/anaconda3/lib/python3.6\n",
      "/root/anaconda3/lib/python3.6/lib-dynload\n",
      "/root/anaconda3/lib/python3.6/site-packages\n",
      "/root/anaconda3/lib/python3.6/site-packages/Sphinx-1.5.6-py3.6.egg\n",
      "/root/anaconda3/lib/python3.6/site-packages/setuptools-27.2.0-py3.6.egg\n",
      "/root/anaconda3/lib/python3.6/site-packages/IPython/extensions\n",
      "/root/.ipython\n"
     ]
    }
   ],
   "source": [
    "import sys\n",
    "for place in sys.path:\n",
    "    print(place)"
   ]
  },
  {
   "cell_type": "markdown",
   "metadata": {},
   "source": [
    "<pre id=\"explain\">\n",
    "<span id=\"yellow\">1.</span> 첫번째 빈 줄은 현재 디렉토리를 의미\n",
    "<span id=\"yellow\">2.</span> 위 순서대로 먼처 찾는다\n",
    "</pre>"
   ]
  },
  {
   "cell_type": "markdown",
   "metadata": {},
   "source": [
    "# Packages\n",
    "## 여러개 모듈의 묶음, 한개의 패키지는 한개의 폴더\n",
    "#### package/daily.py\n",
    "```python\n",
    "def forecast():\n",
    "\treturn 'like yesterday'\n",
    "```\n",
    "#### package/weekly.py\n",
    "```python\n",
    "def forecast():\n",
    "\treturn ['snow', 'more snow', 'sleet', 'rain', 'fog', 'hail']\n",
    "```"
   ]
  },
  {
   "cell_type": "code",
   "execution_count": 63,
   "metadata": {},
   "outputs": [
    {
     "name": "stdout",
     "output_type": "stream",
     "text": [
      "Daily: like yesterday\n",
      "Weekly:\n",
      "1 snow\n",
      "2 more snow\n",
      "3 sleet\n",
      "4 freezing rain\n",
      "5 rain\n",
      "6 fog\n",
      "7 hail\n"
     ]
    }
   ],
   "source": [
    "from package import daily, weekly\n",
    "\n",
    "print(\"Daily:\", daily.forecast())\n",
    "print(\"Weekly:\")\n",
    "for i, v in enumerate(weekly.forecast(), 1):\n",
    "    print(i, v)"
   ]
  },
  {
   "cell_type": "markdown",
   "metadata": {
    "collapsed": true
   },
   "source": [
    "# The Python Standard Library\n",
    "## 유용한 라이브러리들을 사용해보기"
   ]
  },
  {
   "cell_type": "markdown",
   "metadata": {},
   "source": [
    "### setdefault()"
   ]
  },
  {
   "cell_type": "code",
   "execution_count": 11,
   "metadata": {},
   "outputs": [
    {
     "name": "stdout",
     "output_type": "stream",
     "text": [
      "carrot\n",
      "{'a': 'apple', 'b': 'banana', 'c': 'carrot'}\n"
     ]
    }
   ],
   "source": [
    "fruit = {'a':'apple','b':'banana'}\n",
    "\n",
    "c = fruit.setdefault('c', 'carrot')\n",
    "\n",
    "print(c)\n",
    "print(fruit)"
   ]
  },
  {
   "cell_type": "markdown",
   "metadata": {},
   "source": [
    "### defaultdict()"
   ]
  },
  {
   "cell_type": "code",
   "execution_count": 12,
   "metadata": {},
   "outputs": [
    {
     "name": "stdout",
     "output_type": "stream",
     "text": [
      "사람이 아니다\n",
      "defaultdict(<function 사람아님 at 0x7f68bcefd950>, {'서하': '아시안', '테일러': '코카시안', '아이폰': '사람이 아니다'})\n"
     ]
    }
   ],
   "source": [
    "from collections import defaultdict\n",
    "def 사람아님(): return \"사람이 아니다\"\n",
    "    \n",
    "사람 = defaultdict(사람아님)\n",
    "사람[\"서하\"] = \"아시안\"\n",
    "사람[\"테일러\"] = \"코카시안\"\n",
    "\n",
    "print(사람[\"아이폰\"])\n",
    "print(사람)"
   ]
  },
  {
   "cell_type": "markdown",
   "metadata": {},
   "source": [
    "### Counter()"
   ]
  },
  {
   "cell_type": "code",
   "execution_count": 14,
   "metadata": {},
   "outputs": [
    {
     "data": {
      "text/plain": [
       "Counter({'너겟': 1, '라면': 5, '만두': 2})"
      ]
     },
     "execution_count": 14,
     "metadata": {},
     "output_type": "execute_result"
    }
   ],
   "source": [
    "from collections import Counter\n",
    "\n",
    "장바구니1 = ['라면', '만두', '라면', '라면']\n",
    "장바구니2 = ['라면', '만두', '너겟', '라면']\n",
    "결과 = Counter(장바구니1)+Counter(장바구니2)\n",
    "결과"
   ]
  },
  {
   "cell_type": "code",
   "execution_count": 16,
   "metadata": {},
   "outputs": [
    {
     "data": {
      "text/plain": [
       "[('라면', 5), ('만두', 2), ('너겟', 1)]"
      ]
     },
     "execution_count": 16,
     "metadata": {},
     "output_type": "execute_result"
    }
   ],
   "source": [
    "결과.most_common(3)"
   ]
  },
  {
   "cell_type": "code",
   "execution_count": 69,
   "metadata": {},
   "outputs": [
    {
     "name": "stdout",
     "output_type": "stream",
     "text": [
      "Counter({'라면': 1})\n",
      "Counter({'라면': 2, '만두': 1})\n",
      "Counter({'라면': 3, '만두': 1, '너겟': 1})\n",
      "Counter({'라면': 5, '만두': 2, '너겟': 1})\n"
     ]
    }
   ],
   "source": [
    "print(Counter(장바구니1)-Counter(장바구니2))\n",
    "print(Counter(장바구니1)&Counter(장바구니2))\n",
    "print(Counter(장바구니1)|Counter(장바구니2))\n",
    "print(Counter(장바구니1)+Counter(장바구니2))"
   ]
  },
  {
   "cell_type": "markdown",
   "metadata": {},
   "source": [
    "### OrderedDict()"
   ]
  },
  {
   "cell_type": "code",
   "execution_count": 75,
   "metadata": {},
   "outputs": [
    {
     "name": "stdout",
     "output_type": "stream",
     "text": [
      "재윤\n",
      "지원\n",
      "서하\n"
     ]
    }
   ],
   "source": [
    "from collections import OrderedDict\n",
    "가문 = OrderedDict([\n",
    "    ('재윤', '정씨가문'),  \n",
    "    ('지원', '정씨가문'), \n",
    "    ('서하', '송씨가문') \n",
    "])\n",
    "for 사람 in 가문: print(사람)"
   ]
  },
  {
   "cell_type": "markdown",
   "metadata": {},
   "source": [
    "### Stack+Queuㄷ==deque"
   ]
  },
  {
   "cell_type": "code",
   "execution_count": 91,
   "metadata": {},
   "outputs": [
    {
     "name": "stdout",
     "output_type": "stream",
     "text": [
      "True\n",
      "False\n"
     ]
    }
   ],
   "source": [
    "from collections import deque\n",
    "def palindrome(word):\n",
    "    dq = deque(word)\n",
    "    while len(dq)>1:\n",
    "        if dq.popleft()!=dq.pop(): return False\n",
    "    return True\n",
    "\n",
    "print(palindrome('토마토마토'))\n",
    "print(palindrome('바나나나나'))"
   ]
  },
  {
   "cell_type": "code",
   "execution_count": 92,
   "metadata": {},
   "outputs": [
    {
     "data": {
      "text/plain": [
       "True"
      ]
     },
     "execution_count": 92,
     "metadata": {},
     "output_type": "execute_result"
    }
   ],
   "source": [
    "'토마토마토'=='토마토마토'[::-1]"
   ]
  },
  {
   "cell_type": "code",
   "execution_count": 96,
   "metadata": {},
   "outputs": [
    {
     "data": {
      "text/plain": [
       "['__add__',\n",
       " '__bool__',\n",
       " '__class__',\n",
       " '__contains__',\n",
       " '__copy__',\n",
       " '__delattr__',\n",
       " '__delitem__',\n",
       " '__dir__',\n",
       " '__doc__',\n",
       " '__eq__',\n",
       " '__format__',\n",
       " '__ge__',\n",
       " '__getattribute__',\n",
       " '__getitem__',\n",
       " '__gt__',\n",
       " '__hash__',\n",
       " '__iadd__',\n",
       " '__imul__',\n",
       " '__init__',\n",
       " '__init_subclass__',\n",
       " '__iter__',\n",
       " '__le__',\n",
       " '__len__',\n",
       " '__lt__',\n",
       " '__mul__',\n",
       " '__ne__',\n",
       " '__new__',\n",
       " '__reduce__',\n",
       " '__reduce_ex__',\n",
       " '__repr__',\n",
       " '__reversed__',\n",
       " '__rmul__',\n",
       " '__setattr__',\n",
       " '__setitem__',\n",
       " '__sizeof__',\n",
       " '__str__',\n",
       " '__subclasshook__',\n",
       " 'append',\n",
       " 'appendleft',\n",
       " 'clear',\n",
       " 'copy',\n",
       " 'count',\n",
       " 'extend',\n",
       " 'extendleft',\n",
       " 'index',\n",
       " 'insert',\n",
       " 'maxlen',\n",
       " 'pop',\n",
       " 'popleft',\n",
       " 'remove',\n",
       " 'reverse',\n",
       " 'rotate']"
      ]
     },
     "execution_count": 96,
     "metadata": {},
     "output_type": "execute_result"
    }
   ],
   "source": [
    "dir(deque)"
   ]
  },
  {
   "cell_type": "markdown",
   "metadata": {},
   "source": [
    "### Iterate over Code Structures with itertools"
   ]
  },
  {
   "cell_type": "code",
   "execution_count": 97,
   "metadata": {
    "collapsed": true
   },
   "outputs": [],
   "source": [
    "import itertools"
   ]
  },
  {
   "cell_type": "code",
   "execution_count": 99,
   "metadata": {},
   "outputs": [
    {
     "name": "stdout",
     "output_type": "stream",
     "text": [
      "1\n",
      "2\n",
      "3\n",
      "a\n",
      "b\n"
     ]
    }
   ],
   "source": [
    "for item in itertools.chain([1, 2, 3], ['a', 'b']): print(item)"
   ]
  },
  {
   "cell_type": "code",
   "execution_count": 100,
   "metadata": {},
   "outputs": [
    {
     "name": "stdout",
     "output_type": "stream",
     "text": [
      "a\n",
      "b\n",
      "a\n",
      "b\n",
      "a\n",
      "b\n",
      "a\n",
      "b\n",
      "a\n",
      "b\n",
      "a\n"
     ]
    }
   ],
   "source": [
    "i = 0\n",
    "for item in itertools.cycle(['a', 'b']): \n",
    "    print(item)\n",
    "    i+=1\n",
    "    if i>10: break;"
   ]
  },
  {
   "cell_type": "code",
   "execution_count": 103,
   "metadata": {},
   "outputs": [
    {
     "name": "stdout",
     "output_type": "stream",
     "text": [
      "1\n",
      "3\n",
      "6\n",
      "10\n"
     ]
    }
   ],
   "source": [
    "for item in itertools.accumulate([1, 2, 3, 4]): print(item)"
   ]
  },
  {
   "cell_type": "code",
   "execution_count": 109,
   "metadata": {},
   "outputs": [
    {
     "name": "stdout",
     "output_type": "stream",
     "text": [
      "1\n",
      "2\n",
      "6\n",
      "24\n"
     ]
    }
   ],
   "source": [
    "for item in itertools.accumulate([1, 2, 3, 4], lambda a, b: a*b): print(item)"
   ]
  },
  {
   "cell_type": "markdown",
   "metadata": {},
   "source": [
    "### pprint()"
   ]
  }
 ],
 "metadata": {
  "kernelspec": {
   "display_name": "Python 3",
   "language": "python",
   "name": "python3"
  },
  "language_info": {
   "codemirror_mode": {
    "name": "ipython",
    "version": 3
   },
   "file_extension": ".py",
   "mimetype": "text/x-python",
   "name": "python",
   "nbconvert_exporter": "python",
   "pygments_lexer": "ipython3",
   "version": "3.6.1"
  }
 },
 "nbformat": 4,
 "nbformat_minor": 2
}
