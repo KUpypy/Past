{
 "cells": [
  {
   "cell_type": "code",
   "execution_count": 2,
   "metadata": {},
   "outputs": [
    {
     "data": {
      "text/html": [
       "<style>\n",
       "#explain{\n",
       "    color:white;background-color:black;padding:10px;\n",
       "    margin: 10px 0px 10px 0px;\n",
       "}\n",
       "#yellow{color:#4AFD32}\n",
       "</style>"
      ],
      "text/plain": [
       "<IPython.core.display.HTML object>"
      ]
     },
     "metadata": {},
     "output_type": "display_data"
    }
   ],
   "source": [
    "%%html\n",
    "<style>\n",
    "#explain{\n",
    "    color:white;background-color:black;padding:10px;\n",
    "    margin: 10px 0px 10px 0px;\n",
    "}\n",
    "#yellow{color:#4AFD32}\n",
    "</style>"
   ]
  },
  {
   "cell_type": "code",
   "execution_count": 5,
   "metadata": {
    "collapsed": true
   },
   "outputs": [],
   "source": [
    "import os\n",
    "os.chdir(\"/Users/seohasong/Desktop/Soil/kupypy/ThinkBayes2/code\")"
   ]
  },
  {
   "cell_type": "markdown",
   "metadata": {},
   "source": [
    "# CHAPTER 3\n",
    "\n",
    "# Estimation"
   ]
  },
  {
   "cell_type": "markdown",
   "metadata": {},
   "source": [
    "# Question 1\n",
    "<pre id=\"explain\">\n",
    "<span id=\"yellow\">주사위 문제</span>\n",
    "4, 6, 8, 12, 20면체 주사위중 임의로 한개를 고른다\n",
    "던져서 나온 숫자가 5라면 \n",
    "어떤주사위가 우리가 고른 주사위일까?\n",
    "</pre>"
   ]
  },
  {
   "cell_type": "code",
   "execution_count": 21,
   "metadata": {},
   "outputs": [
    {
     "name": "stdout",
     "output_type": "stream",
     "text": [
      "After one 6\n",
      "4 0.0\n",
      "6 0.3921568627450981\n",
      "8 0.29411764705882354\n",
      "12 0.19607843137254904\n",
      "20 0.11764705882352944\n",
      "-------------\n",
      "After more rolls\n",
      "4 0.0\n",
      "6 0.0\n",
      "8 0.9158452719690099\n",
      "12 0.08040342579700499\n",
      "20 0.0037513022339850668\n"
     ]
    }
   ],
   "source": [
    "from thinkbayes2 import Suite\n",
    "\n",
    "class Dice(Suite):\n",
    "    def Likelihood(self, data, hypo):\n",
    "        if hypo < data:\n",
    "            return 0\n",
    "        else:\n",
    "            return 1.0/hypo\n",
    "\n",
    "\n",
    "suite = Dice([4, 6, 8, 12, 20])\n",
    "\n",
    "suite.Update(6)\n",
    "print('After one 6')\n",
    "suite.Print()\n",
    "print('-------------')\n",
    "for roll in [4, 8, 7, 7, 2]:\n",
    "    suite.Update(roll)\n",
    "\n",
    "print('After more rolls')\n",
    "suite.Print()"
   ]
  },
  {
   "cell_type": "markdown",
   "metadata": {},
   "source": [
    "<div id=\"explain\">\n",
    "<span id=\"yellow\">주사위가 8면체일 확률</span><br>\n",
    "$\\frac{\\frac{1}{8}^{6}}{\\frac{1}{8}^{6}+\\frac{1}{12}^{6}+\\frac{1}{20}^{6}}=0.9158452719690099$\n",
    "</div>"
   ]
  },
  {
   "cell_type": "markdown",
   "metadata": {},
   "source": [
    "# Question 2\n",
    "<pre id=\"explain\">\n",
    "<span id=\"yellow\">기차 문제</span>\n",
    "어떤 기차회사는 1~N까지 번호가 달린 N대의 기차가 있다\n",
    "만약 당신이 철로에서 우연히 60번 기차를 보았다면\n",
    "기차번호 N은 몇일까?\n",
    "</pre>"
   ]
  },
  {
   "cell_type": "code",
   "execution_count": 38,
   "metadata": {},
   "outputs": [
    {
     "name": "stdout",
     "output_type": "stream",
     "text": [
      "333.41989326371095\n"
     ]
    }
   ],
   "source": [
    "class Train(Dice): pass\n",
    "\n",
    "\n",
    "hypos = range(1, 1001)\n",
    "suite = Train(hypos)\n",
    "suite.Update(60)\n",
    "print(suite.Mean())"
   ]
  },
  {
   "cell_type": "markdown",
   "metadata": {},
   "source": [
    "<img src=\"1.png\" width=500 style=\"display:inline-block\">\n",
    "\n",
    "\n",
    "<pre id=\"explain\">\n",
    "Uniform 분포를 가정하면, 60이 가장 정답에 가깝게 나온다. \n",
    "그러나 예상 평균은 333이다\n",
    "이 정답이 이상하다고 생각된다면.. 해결법\n",
    "    <span id=\"yellow\">더 많은 데이타로 업데이트 해준다</span>\n",
    "    <span id=\"yellow\">데이타가 많지 않다면 다른 사전확률을 사용한다</span>\n",
    "</pre>"
   ]
  },
  {
   "cell_type": "markdown",
   "metadata": {},
   "source": [
    "<pre id=\"explain\">\n",
    "<span id=\"yellow\">현실에서 더 나은 사전확률을 사용하는 방법</span>\n",
    "도메인 지식이 풍부한 전문가와 상의\n",
    "<img src=\"2.png\" width=100 style=\"display:inline-block\">\n",
    "<img src=\"3.png\" width=400 style=\"display:inline-block\">\n",
    "</pre>"
   ]
  },
  {
   "cell_type": "markdown",
   "metadata": {},
   "source": [
    "# 신용구간\n",
    "<pre id=\"explain\">\n",
    "일단은 신뢰구간과 같은의미\n",
    "90퍼센트 신용구간이라고 하면,\n",
    "CDF에서 5~95퍼센트 구간이라고 보면 된다.\n",
    "</pre>"
   ]
  },
  {
   "cell_type": "code",
   "execution_count": 40,
   "metadata": {
    "collapsed": true
   },
   "outputs": [],
   "source": [
    "def Percentile(pmf, percentage):\n",
    "    p = percentage / 100.0\n",
    "    total = 0\n",
    "    for val, prob in pmf.Items():\n",
    "        total += prob\n",
    "        if total >= p:\n",
    "            return val"
   ]
  },
  {
   "cell_type": "code",
   "execution_count": 43,
   "metadata": {},
   "outputs": [
    {
     "name": "stdout",
     "output_type": "stream",
     "text": [
      "(69, 869)\n"
     ]
    }
   ],
   "source": [
    "interval = Percentile(suite, 5), Percentile(suite, 95)\n",
    "print(interval)"
   ]
  }
 ],
 "metadata": {
  "kernelspec": {
   "display_name": "Python 3",
   "language": "python",
   "name": "python3"
  },
  "language_info": {
   "codemirror_mode": {
    "name": "ipython",
    "version": 3
   },
   "file_extension": ".py",
   "mimetype": "text/x-python",
   "name": "python",
   "nbconvert_exporter": "python",
   "pygments_lexer": "ipython3",
   "version": "3.6.1"
  }
 },
 "nbformat": 4,
 "nbformat_minor": 2
}
