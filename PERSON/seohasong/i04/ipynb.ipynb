{
 "cells": [
  {
   "cell_type": "code",
   "execution_count": 1,
   "metadata": {},
   "outputs": [
    {
     "data": {
      "text/html": [
       "<style>\n",
       "#explain{\n",
       "    color:white;background-color:black;padding:10px;\n",
       "    margin: 10px 0px 10px 0px;\n",
       "    border-radius: 10px;\n",
       "}\n",
       "#yellow{color:#4AFD32}\n",
       "</style>"
      ],
      "text/plain": [
       "<IPython.core.display.HTML object>"
      ]
     },
     "metadata": {},
     "output_type": "display_data"
    }
   ],
   "source": [
    "%%html\n",
    "<style>\n",
    "#explain{\n",
    "    color:white;background-color:black;padding:10px;\n",
    "    margin: 10px 0px 10px 0px;\n",
    "    border-radius: 10px;\n",
    "}\n",
    "#yellow{color:#4AFD32}\n",
    "</style>"
   ]
  },
  {
   "cell_type": "markdown",
   "metadata": {},
   "source": [
    "# CHAPTER 4\n",
    "# Py Crust: Code Structures"
   ]
  },
  {
   "cell_type": "markdown",
   "metadata": {},
   "source": [
    "<div id=\"explain\">\n",
    "<span id=\"yellow\"><h3>너무 쉬운 부분은 생략합시다</h3></span><br>\n",
    "<img src=\"1.png\" style=\"display:inline-block\" width=180/>\n",
    "<img src=\"1.png\" style=\"display:inline-block\" width=180/>\n",
    "<img src=\"1.png\" style=\"display:inline-block\" width=180/>\n",
    "</div>"
   ]
  },
  {
   "cell_type": "code",
   "execution_count": 107,
   "metadata": {},
   "outputs": [
    {
     "data": {
      "text/plain": [
       "'abc'"
      ]
     },
     "execution_count": 107,
     "metadata": {},
     "output_type": "execute_result"
    }
   ],
   "source": [
    "s = 'a'; s+='b'; s+='c'; s"
   ]
  },
  {
   "cell_type": "code",
   "execution_count": 108,
   "metadata": {},
   "outputs": [
    {
     "data": {
      "text/plain": [
       "'abc'"
      ]
     },
     "execution_count": 108,
     "metadata": {},
     "output_type": "execute_result"
    }
   ],
   "source": [
    "s = 'a'+\\\n",
    "'b'+\\\n",
    "'c'; s"
   ]
  },
  {
   "cell_type": "code",
   "execution_count": 109,
   "metadata": {},
   "outputs": [
    {
     "data": {
      "text/plain": [
       "False"
      ]
     },
     "execution_count": 109,
     "metadata": {},
     "output_type": "execute_result"
    }
   ],
   "source": [
    "not (1<2 and not 1>2)"
   ]
  },
  {
   "cell_type": "code",
   "execution_count": 110,
   "metadata": {},
   "outputs": [
    {
     "data": {
      "text/plain": [
       "False"
      ]
     },
     "execution_count": 110,
     "metadata": {},
     "output_type": "execute_result"
    }
   ],
   "source": [
    "1<2<3<4>1>1000"
   ]
  },
  {
   "cell_type": "markdown",
   "metadata": {},
   "source": [
    "<pre id=\"explain\">\n",
    "<span id=\"yellow\">조건문에서 false로 판단하는 것들!</span>\n",
    "False, None\n",
    "0, 0.0, ''\n",
    "[], (), {}, set()\n",
    "</pre>"
   ]
  },
  {
   "cell_type": "code",
   "execution_count": 111,
   "metadata": {},
   "outputs": [
    {
     "data": {
      "text/plain": [
       "True"
      ]
     },
     "execution_count": 111,
     "metadata": {},
     "output_type": "execute_result"
    }
   ],
   "source": [
    "None==None and []==[] and set()==set()"
   ]
  },
  {
   "cell_type": "markdown",
   "metadata": {},
   "source": [
    "## while 1 (break & continue)"
   ]
  },
  {
   "cell_type": "code",
   "execution_count": 1,
   "metadata": {},
   "outputs": [
    {
     "name": "stdout",
     "output_type": "stream",
     "text": [
      "멈춰?(y/n)n\n",
      "멈춰?(y/n)fghfgh\n",
      "y랑 n중에서만 골라\n",
      "멈춰?(y/n)y\n"
     ]
    }
   ],
   "source": [
    "while True:\n",
    "    v = input(\"멈춰?(y/n)\"); \n",
    "    if v=='y': break;\n",
    "    elif v=='n': continue;\n",
    "    else: print('y랑 n중에서만 골라')        "
   ]
  },
  {
   "cell_type": "markdown",
   "metadata": {},
   "source": [
    "## while 2 (else)"
   ]
  },
  {
   "cell_type": "code",
   "execution_count": 113,
   "metadata": {},
   "outputs": [
    {
     "name": "stdout",
     "output_type": "stream",
     "text": [
      "n은 10이상\n"
     ]
    }
   ],
   "source": [
    "n = 0\n",
    "while n < 10: n+=1\n",
    "else: print('n은 10이상')"
   ]
  },
  {
   "cell_type": "markdown",
   "metadata": {},
   "source": [
    "## for (dictionary)"
   ]
  },
  {
   "cell_type": "code",
   "execution_count": 114,
   "metadata": {},
   "outputs": [
    {
     "name": "stdout",
     "output_type": "stream",
     "text": [
      "1\n",
      "2\n",
      "3\n"
     ]
    }
   ],
   "source": [
    "d = {'a': 1, 'b': 2, 'c': 3}\n",
    "for i in d: print(d[i])    \n",
    "# for i in d.values(): print(i)"
   ]
  },
  {
   "cell_type": "code",
   "execution_count": 115,
   "metadata": {},
   "outputs": [
    {
     "name": "stdout",
     "output_type": "stream",
     "text": [
      "('a', 1)\n",
      "('b', 2)\n",
      "('c', 3)\n"
     ]
    }
   ],
   "source": [
    "for i in d.items(): print(i)"
   ]
  },
  {
   "cell_type": "markdown",
   "metadata": {},
   "source": [
    "<div id=\"explain\">\n",
    "for문에서도\n",
    "<span id=\"yellow\">break, while</span> 구문과\n",
    "<span id=\"yellow\">for ~ else ~</span> 구문은\n",
    "똑같이 동작해<br>\n",
    "<span id=\"yellow\">(else는 break가 아닌데 루프에서 나올 때)</span>\n",
    "</div>"
   ]
  },
  {
   "cell_type": "markdown",
   "metadata": {},
   "source": [
    "## zip()"
   ]
  },
  {
   "cell_type": "code",
   "execution_count": 116,
   "metadata": {},
   "outputs": [
    {
     "name": "stdout",
     "output_type": "stream",
     "text": [
      "(1, 'a', 'A')\n",
      "(2, 'b', 'B')\n",
      "(3, 'c', 'C')\n"
     ]
    }
   ],
   "source": [
    "n = [1, 2, 3]\n",
    "l = ['a','b','c']\n",
    "L = ['A', 'B', 'C']\n",
    "for t in zip(n,l,L): print(t)"
   ]
  },
  {
   "cell_type": "markdown",
   "metadata": {},
   "source": [
    "## range()"
   ]
  },
  {
   "cell_type": "code",
   "execution_count": 117,
   "metadata": {},
   "outputs": [
    {
     "name": "stdout",
     "output_type": "stream",
     "text": [
      "9\n",
      "6\n",
      "3\n"
     ]
    }
   ],
   "source": [
    "for n in range(9,2,-3): print(n)"
   ]
  },
  {
   "cell_type": "markdown",
   "metadata": {},
   "source": [
    "## generater (for ~ in)"
   ]
  },
  {
   "cell_type": "code",
   "execution_count": 118,
   "metadata": {},
   "outputs": [
    {
     "data": {
      "text/plain": [
       "generator"
      ]
     },
     "execution_count": 118,
     "metadata": {},
     "output_type": "execute_result"
    }
   ],
   "source": [
    "g = (i for i in range(10))\n",
    "type(g)"
   ]
  },
  {
   "cell_type": "code",
   "execution_count": 119,
   "metadata": {},
   "outputs": [
    {
     "data": {
      "text/plain": [
       "<generator object <genexpr> at 0x7f43dc0c6db0>"
      ]
     },
     "execution_count": 119,
     "metadata": {},
     "output_type": "execute_result"
    }
   ],
   "source": [
    "g = (n for n in range(30) if n%2==0); g"
   ]
  },
  {
   "cell_type": "code",
   "execution_count": 120,
   "metadata": {},
   "outputs": [
    {
     "data": {
      "text/plain": [
       "[0, 2, 4, 6, 8, 10, 12, 14, 16, 18, 20, 22, 24, 26, 28]"
      ]
     },
     "execution_count": 120,
     "metadata": {},
     "output_type": "execute_result"
    }
   ],
   "source": [
    "list(g)"
   ]
  },
  {
   "cell_type": "code",
   "execution_count": 121,
   "metadata": {},
   "outputs": [
    {
     "data": {
      "text/plain": [
       "[(0, 0), (1, 0), (2, 0), (0, 1), (1, 1), (2, 1)]"
      ]
     },
     "execution_count": 121,
     "metadata": {},
     "output_type": "execute_result"
    }
   ],
   "source": [
    "[(n1, n2) for n2 in range(2) for n1 in range (3)]"
   ]
  },
  {
   "cell_type": "markdown",
   "metadata": {},
   "source": [
    "<div id=\"explain\">\n",
    "<span id=\"yellow\">dict</span>와\n",
    "<span id=\"yellow\">set</span>형태로도 가능\n",
    "</div>"
   ]
  },
  {
   "cell_type": "code",
   "execution_count": 122,
   "metadata": {},
   "outputs": [
    {
     "name": "stdout",
     "output_type": "stream",
     "text": [
      "{'s': 2, 'e': 1, 'o': 2, 'h': 1, 'a': 1, 'n': 1, 'g': 1}\n",
      "{'n', 'g', 'e', 'a', 'h', 'o', 's'}\n"
     ]
    }
   ],
   "source": [
    "word = 'seohasong'\n",
    "d = {letter: word.count(letter) for letter in word}\n",
    "s = {letter for letter in word}\n",
    "print(d); print(s)"
   ]
  },
  {
   "cell_type": "markdown",
   "metadata": {},
   "source": [
    "## FUNCTION"
   ]
  },
  {
   "cell_type": "markdown",
   "metadata": {},
   "source": [
    "<div id=\"explain\">\n",
    "<span id=\"yellow\">print</span>와\n",
    "<span id=\"yellow\">return</span>\n",
    "</div>"
   ]
  },
  {
   "cell_type": "code",
   "execution_count": 123,
   "metadata": {},
   "outputs": [
    {
     "name": "stdout",
     "output_type": "stream",
     "text": [
      "서하가 하는 말은\n"
     ]
    },
    {
     "data": {
      "text/plain": [
       "True"
      ]
     },
     "execution_count": 123,
     "metadata": {},
     "output_type": "execute_result"
    }
   ],
   "source": [
    "def seoha(): \n",
    "    print(\"서하가 하는 말은\")\n",
    "    return True\n",
    "seoha()"
   ]
  },
  {
   "cell_type": "markdown",
   "metadata": {},
   "source": [
    "<pre id=\"explain\">\n",
    "<span id=\"yellow\">미리 선언</span>\n",
    "</pre>"
   ]
  },
  {
   "cell_type": "code",
   "execution_count": 125,
   "metadata": {},
   "outputs": [
    {
     "name": "stdout",
     "output_type": "stream",
     "text": [
      "song\n"
     ]
    }
   ],
   "source": [
    "def seoha(last_name='song'): print(last_name)\n",
    "seoha()"
   ]
  },
  {
   "cell_type": "markdown",
   "metadata": {},
   "source": [
    "<pre id=\"explain\">\n",
    "<span id=\"yellow\">*args</span>와 <span id=\"yellow\">**args</span>\n",
    "</pre>"
   ]
  },
  {
   "cell_type": "code",
   "execution_count": 127,
   "metadata": {},
   "outputs": [
    {
     "data": {
      "text/plain": [
       "[1, 2, 3, 4, 5, 6, 7, 7, 8, 8, 5]"
      ]
     },
     "execution_count": 127,
     "metadata": {},
     "output_type": "execute_result"
    }
   ],
   "source": [
    "def one_star(*args): return [v for v in args]\n",
    "one_star(1,2,3,4,5,6,7,7,8,8,5)"
   ]
  },
  {
   "cell_type": "code",
   "execution_count": 130,
   "metadata": {},
   "outputs": [
    {
     "data": {
      "text/plain": [
       "{'first_name': 'seoha', 'last_name': 'song'}"
      ]
     },
     "execution_count": 130,
     "metadata": {},
     "output_type": "execute_result"
    }
   ],
   "source": [
    "def two_star(**args): return {i: args[i] for i in args}\n",
    "two_star(first_name=\"seoha\", last_name=\"song\")"
   ]
  },
  {
   "cell_type": "markdown",
   "metadata": {},
   "source": [
    "## Docstrings for function"
   ]
  },
  {
   "cell_type": "code",
   "execution_count": 201,
   "metadata": {},
   "outputs": [
    {
     "name": "stdout",
     "output_type": "stream",
     "text": [
      "\n",
      "과연\n",
      "그냥단순한\n",
      "문자열\n",
      "일까..?\n",
      "\n"
     ]
    }
   ],
   "source": [
    "def lyrics(): \n",
    "    '''\n",
    "사실은 지금도\n",
    "할 수만 있다면 계속 부정하고 싶다\n",
    "    근데 솔직히 조금은\n",
    "헷갈리게 만든 네 책임도 있는 거 아냐?\n",
    "\n",
    "늦은 밤 진동 소리에\n",
    "은근한 목소리로 나를 깨웠잖아\n",
    "아침은 꼭 먹고 다니라며\n",
    "다정했던 걱정 정말 넌 아무 뜻도 없었냐\n",
    "    '''\n",
    "    return \\\n",
    "'''\n",
    "과연\n",
    "그냥단순한\n",
    "문자열\n",
    "일까..?\n",
    "'''\n",
    "print(lyrics())"
   ]
  },
  {
   "cell_type": "markdown",
   "metadata": {},
   "source": [
    "<pre id=\"explain\">\n",
    "<span id=\"yellow\">사실 이 문법의 진짜 의미는 패키지 설명을 위한 것!</span>\n",
    "</pre>"
   ]
  },
  {
   "cell_type": "code",
   "execution_count": 202,
   "metadata": {},
   "outputs": [
    {
     "name": "stdout",
     "output_type": "stream",
     "text": [
      "\n",
      "사실은 지금도\n",
      "할 수만 있다면 계속 부정하고 싶다\n",
      "    근데 솔직히 조금은\n",
      "헷갈리게 만든 네 책임도 있는 거 아냐?\n",
      "\n",
      "늦은 밤 진동 소리에\n",
      "은근한 목소리로 나를 깨웠잖아\n",
      "아침은 꼭 먹고 다니라며\n",
      "다정했던 걱정 정말 넌 아무 뜻도 없었냐\n",
      "    \n"
     ]
    }
   ],
   "source": [
    "print(lyrics.__doc__)"
   ]
  },
  {
   "cell_type": "code",
   "execution_count": 203,
   "metadata": {},
   "outputs": [
    {
     "name": "stdout",
     "output_type": "stream",
     "text": [
      "Help on function lyrics in module __main__:\n",
      "\n",
      "lyrics()\n",
      "    사실은 지금도\n",
      "    할 수만 있다면 계속 부정하고 싶다\n",
      "        근데 솔직히 조금은\n",
      "    헷갈리게 만든 네 책임도 있는 거 아냐?\n",
      "    \n",
      "    늦은 밤 진동 소리에\n",
      "    은근한 목소리로 나를 깨웠잖아\n",
      "    아침은 꼭 먹고 다니라며\n",
      "    다정했던 걱정 정말 넌 아무 뜻도 없었냐\n",
      "\n"
     ]
    }
   ],
   "source": [
    "help(lyrics)"
   ]
  },
  {
   "cell_type": "markdown",
   "metadata": {},
   "source": [
    "<div id=\"explain\">\n",
    "<span id=\"yellow\"><h3>뭔가 점점 새로운걸 배운다!</h3></span><br>\n",
    "<img src=\"2.gif\" style=\"display:inline-block\" width=180/>\n",
    "<img src=\"2.gif\" style=\"display:inline-block\" width=180/>\n",
    "<img src=\"2.gif\" style=\"display:inline-block\" width=180/>\n",
    "</div>"
   ]
  },
  {
   "cell_type": "markdown",
   "metadata": {},
   "source": [
    "<pre id=\"explain\">\n",
    "<span id=\"yellow\"><h2>First-Class Citizens (일급객체)</h2></span>\n",
    "파이썬에서는 모든게 객체(object)다\n",
    "숫자, 문자, 리스트, 딕셔너리 등등.. 심지어 함수도 객체다\n",
    "함수는 <span id=\"yellow\">일급객체이다</span>\n",
    "</pre>"
   ]
  },
  {
   "cell_type": "code",
   "execution_count": 207,
   "metadata": {},
   "outputs": [
    {
     "name": "stdout",
     "output_type": "stream",
     "text": [
      "\n",
      "과연\n",
      "그냥단순한\n",
      "문자열\n",
      "일까..?\n",
      "\n"
     ]
    }
   ],
   "source": [
    "def tester(func): return func()\n",
    "\n",
    "re = tester(lyrics)\n",
    "print(re)"
   ]
  },
  {
   "cell_type": "markdown",
   "metadata": {},
   "source": [
    "<pre id=\"explain\">\n",
    "<span id=\"yellow\"><h2>call-back(콜백함수)</h2></span>\n",
    "콜백 함수는 파라메터를 통해 다음 실행지점을 지시하는 함수를 전달한다\n",
    "재귀함수와 비슷하게 동작한다\n",
    "</pre>"
   ]
  },
  {
   "cell_type": "code",
   "execution_count": 210,
   "metadata": {},
   "outputs": [
    {
     "name": "stdout",
     "output_type": "stream",
     "text": [
      "6\n"
     ]
    }
   ],
   "source": [
    "def mysum(fun, l): print(fun(l))\n",
    "mysum(sum, [1,2,3])"
   ]
  },
  {
   "cell_type": "markdown",
   "metadata": {},
   "source": [
    "<pre id=\"explain\">\n",
    "<span id=\"yellow\"><h2>Closure(클로저, inner funtion)</h2></span>\n",
    "클로저에서 안쪽의 함수는 다이나믹한 변수를 가질 수 있게 된다\n",
    "</pre>"
   ]
  },
  {
   "cell_type": "code",
   "execution_count": 2,
   "metadata": {},
   "outputs": [
    {
     "name": "stdout",
     "output_type": "stream",
     "text": [
      "[0, 1, 2, 3, 4]\n",
      "[0, 1, 2, 3, 4, 5, 6, 7, 8, 9]\n"
     ]
    },
    {
     "data": {
      "text/plain": [
       "<function __main__.outer.<locals>.inner>"
      ]
     },
     "execution_count": 2,
     "metadata": {},
     "output_type": "execute_result"
    }
   ],
   "source": [
    "def outer():\n",
    "    def inner(): print(list(range(_i)))               \n",
    "    _i = 5; inner()\n",
    "    _i = 10; inner()\n",
    "    return inner\n",
    "    \n",
    "outer()"
   ]
  },
  {
   "cell_type": "code",
   "execution_count": 245,
   "metadata": {},
   "outputs": [
    {
     "name": "stdout",
     "output_type": "stream",
     "text": [
      "[0, 1, 2, 3, 4]\n",
      "[0, 1, 2, 3, 4, 5, 6, 7, 8, 9]\n",
      "[0, 1, 2, 3, 4, 5, 6, 7, 8, 9]\n"
     ]
    }
   ],
   "source": [
    "outer()()"
   ]
  },
  {
   "cell_type": "markdown",
   "metadata": {},
   "source": [
    "<pre id=\"explain\">\n",
    "이름없는 함수\n",
    "함수형 프로그래밍에서 사용되는 개념\n",
    "프로그래밍 언어학적으로 파고들면 이것만 한 달 이상 배우는 경우도 많으며, \n",
    "실제로 대학에서 사용하는 프로그래밍 언어 교재에서도 꽤나 많은 분량을 차지하는 개념\n",
    "실무적으로는 코드의 간결함, 지연 연산을 통한 퍼포먼스 향상, \n",
    "그리고 기존 이터레이션 관련 코드를 구현하는 데 있어 \n",
    "불필요한 부분들을 제거할 수 있다는 점에서 비교적 중요하게 다루어지고 있다\n",
    "\n",
    "-from wiki-\n",
    "</pre>"
   ]
  },
  {
   "cell_type": "markdown",
   "metadata": {},
   "source": [
    "<pre id=\"explain\">\n",
    "<span id=\"yellow\">보통의 방식</span>\n",
    "</pre>"
   ]
  },
  {
   "cell_type": "code",
   "execution_count": 270,
   "metadata": {},
   "outputs": [
    {
     "name": "stdout",
     "output_type": "stream",
     "text": [
      "0\n",
      "1\n",
      "2\n",
      "3\n",
      "4\n",
      "5\n",
      "6\n",
      "7\n",
      "8\n",
      "9\n"
     ]
    }
   ],
   "source": [
    "for i in range(10): print(i)\n",
    "None"
   ]
  },
  {
   "cell_type": "markdown",
   "metadata": {},
   "source": [
    "<pre id=\"explain\">\n",
    "<span id=\"yellow\">함수형 프로그래밍</span>\n",
    "</pre>"
   ]
  },
  {
   "cell_type": "code",
   "execution_count": 269,
   "metadata": {},
   "outputs": [
    {
     "name": "stdout",
     "output_type": "stream",
     "text": [
      "0\n",
      "1\n",
      "2\n",
      "3\n",
      "4\n",
      "5\n",
      "6\n",
      "7\n",
      "8\n",
      "9\n"
     ]
    }
   ],
   "source": [
    "[print(x) for x in range(10)]\n",
    "None"
   ]
  },
  {
   "cell_type": "code",
   "execution_count": 4,
   "metadata": {},
   "outputs": [
    {
     "name": "stdout",
     "output_type": "stream",
     "text": [
      "0\n",
      "1\n",
      "2\n",
      "3\n",
      "4\n",
      "5\n",
      "6\n",
      "7\n",
      "8\n",
      "9\n"
     ]
    }
   ],
   "source": [
    "list(map(lambda x: print(x), range(10)))\n",
    "None"
   ]
  },
  {
   "cell_type": "markdown",
   "metadata": {},
   "source": [
    "<pre id=\"explain\">\n",
    "<span id=\"yellow\"><h2>Generators</h2></span>\n",
    "파이썬의 sequence creation 객체\n",
    "</pre>"
   ]
  },
  {
   "cell_type": "code",
   "execution_count": 280,
   "metadata": {},
   "outputs": [
    {
     "data": {
      "text/plain": [
       "<generator object <genexpr> at 0x7f43dc03ce60>"
      ]
     },
     "execution_count": 280,
     "metadata": {},
     "output_type": "execute_result"
    }
   ],
   "source": [
    "(i for i in range(100000000000000000))"
   ]
  },
  {
   "cell_type": "code",
   "execution_count": 277,
   "metadata": {},
   "outputs": [
    {
     "data": {
      "text/plain": [
       "range(0, 1000)"
      ]
     },
     "execution_count": 277,
     "metadata": {},
     "output_type": "execute_result"
    }
   ],
   "source": [
    "range(100000000000000000)"
   ]
  },
  {
   "cell_type": "code",
   "execution_count": 281,
   "metadata": {},
   "outputs": [
    {
     "data": {
      "text/plain": [
       "<map at 0x7f43dc04deb8>"
      ]
     },
     "execution_count": 281,
     "metadata": {},
     "output_type": "execute_result"
    }
   ],
   "source": [
    "map(lambda: x, range(100000000000000000000))"
   ]
  },
  {
   "cell_type": "markdown",
   "metadata": {},
   "source": [
    "<pre id=\"explain\">\n",
    "<span id=\"yellow\">직접 만들어 봅시다</span>\n",
    "</pre>"
   ]
  },
  {
   "cell_type": "code",
   "execution_count": 289,
   "metadata": {},
   "outputs": [
    {
     "data": {
      "text/plain": [
       "<generator object new_range at 0x7f43dc03c570>"
      ]
     },
     "execution_count": 289,
     "metadata": {},
     "output_type": "execute_result"
    }
   ],
   "source": [
    "def new_range(a1, a2):\n",
    "    n = a1\n",
    "    while n<a2: \n",
    "        yield n\n",
    "        n+=2\n",
    "\n",
    "new_range(0, 10000000000000000000)"
   ]
  },
  {
   "cell_type": "code",
   "execution_count": 288,
   "metadata": {},
   "outputs": [
    {
     "data": {
      "text/plain": [
       "[0, 2, 4, 6, 8]"
      ]
     },
     "execution_count": 288,
     "metadata": {},
     "output_type": "execute_result"
    }
   ],
   "source": [
    "list(new_range(0,10))"
   ]
  },
  {
   "cell_type": "markdown",
   "metadata": {},
   "source": [
    "<pre id=\"explain\">\n",
    "<span id=\"yellow\"><h2>Decorators</h2></span>\n",
    "데코레이터 패턴(Decorator pattern)이란 \n",
    "주어진 상황 및 용도에 따라 어떤 객체에 책임을 덧붙이는 패턴으로, \n",
    "기능 확장이 필요할 때 서브클래싱 대신 쓸 수 있는 유연한 대안이 될 수 있다.\n",
    "\n",
    "<span id=\"yellow\">단점:</span> 너무 많이쓰면 코드가 작살난다.\n",
    "</pre>"
   ]
  },
  {
   "cell_type": "code",
   "execution_count": 308,
   "metadata": {
    "collapsed": true
   },
   "outputs": [],
   "source": [
    "def document_it(func):\n",
    "    def new_function(*args, **kwargs):\n",
    "        print('Running function:', func.__name__)\n",
    "        print('Positional arguments:', args)\n",
    "        print('Keyword arguments:', kwargs)   \n",
    "        result = func(*args, **kwargs)\n",
    "        print('Result:', result)\n",
    "        return result\n",
    "    return new_function"
   ]
  },
  {
   "cell_type": "code",
   "execution_count": 309,
   "metadata": {},
   "outputs": [
    {
     "name": "stdout",
     "output_type": "stream",
     "text": [
      "Running function: add2\n",
      "Positional arguments: (3, 5)\n",
      "Keyword arguments: {}\n",
      "Result: 8\n"
     ]
    },
    {
     "data": {
      "text/plain": [
       "8"
      ]
     },
     "execution_count": 309,
     "metadata": {},
     "output_type": "execute_result"
    }
   ],
   "source": [
    "def add2(a, b): return a+b\n",
    "upgraded_add2 = document_it(add2)\n",
    "upgraded_add2(3, 5)"
   ]
  },
  {
   "cell_type": "code",
   "execution_count": 311,
   "metadata": {},
   "outputs": [
    {
     "name": "stdout",
     "output_type": "stream",
     "text": [
      "Running function: add2\n",
      "Positional arguments: (3, 5)\n",
      "Keyword arguments: {}\n",
      "Result: 8\n"
     ]
    },
    {
     "data": {
      "text/plain": [
       "8"
      ]
     },
     "execution_count": 311,
     "metadata": {},
     "output_type": "execute_result"
    }
   ],
   "source": [
    "@document_it\n",
    "def add2(a, b): return a+b\n",
    "\n",
    "add2(3,5)"
   ]
  },
  {
   "cell_type": "markdown",
   "metadata": {},
   "source": [
    "<pre id=\"explain\">\n",
    "<span id=\"yellow\">다중 Decorators</span>를 사용할 때 순서에 유의!\n",
    "</pre>"
   ]
  },
  {
   "cell_type": "code",
   "execution_count": 299,
   "metadata": {
    "collapsed": true
   },
   "outputs": [],
   "source": [
    "def square_it(func):\n",
    "    def new_function(*args, **kwargs):\n",
    "        result = func(*args, **kwargs)\n",
    "        return result*result\n",
    "    return new_function"
   ]
  },
  {
   "cell_type": "code",
   "execution_count": 315,
   "metadata": {},
   "outputs": [
    {
     "name": "stdout",
     "output_type": "stream",
     "text": [
      "Running function: add2\n",
      "Positional arguments: (3, 5)\n",
      "Keyword arguments: {}\n",
      "Result: 8\n"
     ]
    },
    {
     "data": {
      "text/plain": [
       "64"
      ]
     },
     "execution_count": 315,
     "metadata": {},
     "output_type": "execute_result"
    }
   ],
   "source": [
    "@square_it\n",
    "@document_it\n",
    "def add2(a, b): return a+b\n",
    "add2(3,5)"
   ]
  },
  {
   "cell_type": "code",
   "execution_count": 316,
   "metadata": {},
   "outputs": [
    {
     "name": "stdout",
     "output_type": "stream",
     "text": [
      "Running function: new_function\n",
      "Positional arguments: (3, 5)\n",
      "Keyword arguments: {}\n",
      "Result: 64\n"
     ]
    },
    {
     "data": {
      "text/plain": [
       "64"
      ]
     },
     "execution_count": 316,
     "metadata": {},
     "output_type": "execute_result"
    }
   ],
   "source": [
    "@document_it\n",
    "@square_it\n",
    "def add2(a, b): return a+b\n",
    "add2(3,5)"
   ]
  },
  {
   "cell_type": "markdown",
   "metadata": {},
   "source": [
    "<pre id=\"explain\">\n",
    "<span id=\"yellow\"><h2>Namespaces</h2></span>\n",
    "globals() 와 locals()\n",
    "전역변수와 지역변수를 다룰때 조심해야 한다\n",
    "</pre>"
   ]
  },
  {
   "cell_type": "code",
   "execution_count": 343,
   "metadata": {},
   "outputs": [
    {
     "data": {
      "text/plain": [
       "True"
      ]
     },
     "execution_count": 343,
     "metadata": {},
     "output_type": "execute_result"
    }
   ],
   "source": [
    "locals()==globals()"
   ]
  },
  {
   "cell_type": "code",
   "execution_count": 336,
   "metadata": {},
   "outputs": [
    {
     "name": "stdout",
     "output_type": "stream",
     "text": [
      "송서하\n"
     ]
    }
   ],
   "source": [
    "NAME = \"송서하\"\n",
    "def namespace_test(): print(NAME)\n",
    "\n",
    "try: namespace_test()\n",
    "except: print(\"에러났음!\")"
   ]
  },
  {
   "cell_type": "code",
   "execution_count": 334,
   "metadata": {},
   "outputs": [
    {
     "name": "stdout",
     "output_type": "stream",
     "text": [
      "에러났음!\n"
     ]
    }
   ],
   "source": [
    "NAME = \"seoha\"\n",
    "def namespace_test():\n",
    "    print(NAME)\n",
    "    NAME=\"jiwon\"\n",
    "    print(NAME)\n",
    "    \n",
    "try: namespace_test()\n",
    "except: print(\"에러났음!\")"
   ]
  },
  {
   "cell_type": "markdown",
   "metadata": {},
   "source": [
    "<pre id=\"explain\">\n",
    "<span id=\"yellow\">왜 오류가 생겼을까?</span>\n",
    "</pre>"
   ]
  },
  {
   "cell_type": "code",
   "execution_count": 338,
   "metadata": {},
   "outputs": [
    {
     "name": "stdout",
     "output_type": "stream",
     "text": [
      "송서하\n",
      "{}\n"
     ]
    }
   ],
   "source": [
    "NAME = \"송서하\"\n",
    "def namespace_test(): \n",
    "    print(NAME); print(locals())\n",
    "    \n",
    "try: namespace_test()\n",
    "except: print(\"에러났음!\")"
   ]
  },
  {
   "cell_type": "code",
   "execution_count": 6,
   "metadata": {},
   "outputs": [
    {
     "name": "stdout",
     "output_type": "stream",
     "text": [
      "에러났음!\n"
     ]
    }
   ],
   "source": [
    "NAME = \"seoha\"\n",
    "def namespace_test():\n",
    "#     print(NAME)\n",
    "    NAME=\"jiwon\"\n",
    "    print(NAME); print(locals())\n",
    "    \n",
    "try: namespace_test()\n",
    "except: print(\"에러났음!\")"
   ]
  },
  {
   "cell_type": "markdown",
   "metadata": {},
   "source": [
    "<pre id=\"explain\">\n",
    "<span id=\"yellow\">__doc__, __name__ ..</span>\n",
    "언더바 두개가 앞뒤로 붙은 변수는 파이썬 자체에서 미리 예약한 변수다\n",
    "변수이름을 언더바로 지은 이유는 잘 안쓸거 같아서..\n",
    "그러니까 언더바 두개 붙인 변수는 뭐가 되었든 쓰지말자!\n",
    "</pre>"
   ]
  },
  {
   "cell_type": "code",
   "execution_count": 346,
   "metadata": {},
   "outputs": [
    {
     "data": {
      "text/plain": [
       "'__main__'"
      ]
     },
     "execution_count": 346,
     "metadata": {},
     "output_type": "execute_result"
    }
   ],
   "source": [
    "__name__"
   ]
  },
  {
   "cell_type": "markdown",
   "metadata": {},
   "source": [
    "<pre id=\"explain\">\n",
    "<span id=\"yellow\"><h2>예외처리</h2></span>\n",
    "</pre>"
   ]
  },
  {
   "cell_type": "code",
   "execution_count": 8,
   "metadata": {},
   "outputs": [
    {
     "name": "stdout",
     "output_type": "stream",
     "text": [
      "choose index: 4\n"
     ]
    },
    {
     "data": {
      "text/plain": [
       "0"
      ]
     },
     "execution_count": 8,
     "metadata": {},
     "output_type": "execute_result"
    }
   ],
   "source": [
    "a = [1,2,3]\n",
    "i = int(input(\"choose index: \"))\n",
    "try: result = a[i]\n",
    "except: result = 0\n",
    "result"
   ]
  },
  {
   "cell_type": "markdown",
   "metadata": {},
   "source": [
    "<pre id=\"explain\">\n",
    "<span id=\"yellow\">나만의 예외처리 만들어보기</span>\n",
    "</pre>"
   ]
  },
  {
   "cell_type": "code",
   "execution_count": 9,
   "metadata": {},
   "outputs": [
    {
     "name": "stdout",
     "output_type": "stream",
     "text": [
      "choose index: 5\n",
      "list index out of range\n"
     ]
    }
   ],
   "source": [
    "class MyException(Exception): pass\n",
    "\n",
    "a = [1,2,3]\n",
    "i = int(input(\"choose index: \"))\n",
    "try: result = a[i]\n",
    "except IndexError as err: print(err)\n",
    "except MyException as other: print(other)"
   ]
  },
  {
   "cell_type": "code",
   "execution_count": 10,
   "metadata": {},
   "outputs": [
    {
     "name": "stdout",
     "output_type": "stream",
     "text": [
      "erroooooooooooor!\n"
     ]
    }
   ],
   "source": [
    "try: raise MyException('erroooooooooooor!')\n",
    "except MyException as exc: print(exc)"
   ]
  },
  {
   "cell_type": "code",
   "execution_count": 378,
   "metadata": {},
   "outputs": [
    {
     "ename": "MyException",
     "evalue": "erroooooooooooor!",
     "output_type": "error",
     "traceback": [
      "\u001b[0;31m\u001b[0m",
      "\u001b[0;31mMyException\u001b[0mTraceback (most recent call last)",
      "\u001b[0;32m<ipython-input-378-9ce5da35f696>\u001b[0m in \u001b[0;36m<module>\u001b[0;34m()\u001b[0m\n\u001b[0;32m----> 1\u001b[0;31m \u001b[0;32mraise\u001b[0m \u001b[0mMyException\u001b[0m\u001b[0;34m(\u001b[0m\u001b[0;34m'erroooooooooooor!'\u001b[0m\u001b[0;34m)\u001b[0m\u001b[0;34m\u001b[0m\u001b[0m\n\u001b[0m",
      "\u001b[0;31mMyException\u001b[0m: erroooooooooooor!"
     ]
    }
   ],
   "source": [
    "raise MyException('erroooooooooooor!')"
   ]
  },
  {
   "cell_type": "code",
   "execution_count": 11,
   "metadata": {},
   "outputs": [
    {
     "ename": "TypeError",
     "evalue": "exceptions must derive from BaseException",
     "output_type": "error",
     "traceback": [
      "\u001b[0;31m\u001b[0m",
      "\u001b[0;31mTypeError\u001b[0mTraceback (most recent call last)",
      "\u001b[0;32m<ipython-input-11-cec558dcc593>\u001b[0m in \u001b[0;36m<module>\u001b[0;34m()\u001b[0m\n\u001b[0;32m----> 1\u001b[0;31m \u001b[0;32mraise\u001b[0m \u001b[0;36m1\u001b[0m\u001b[0;34m\u001b[0m\u001b[0m\n\u001b[0m",
      "\u001b[0;31mTypeError\u001b[0m: exceptions must derive from BaseException"
     ]
    }
   ],
   "source": [
    "raise 1"
   ]
  }
 ],
 "metadata": {
  "kernelspec": {
   "display_name": "Python 3",
   "language": "python",
   "name": "python3"
  },
  "language_info": {
   "codemirror_mode": {
    "name": "ipython",
    "version": 3
   },
   "file_extension": ".py",
   "mimetype": "text/x-python",
   "name": "python",
   "nbconvert_exporter": "python",
   "pygments_lexer": "ipython3",
   "version": "3.6.1"
  }
 },
 "nbformat": 4,
 "nbformat_minor": 2
}
