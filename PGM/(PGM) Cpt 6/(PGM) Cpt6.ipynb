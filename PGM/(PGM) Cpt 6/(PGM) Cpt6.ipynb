{
 "cells": [
  {
   "cell_type": "markdown",
   "metadata": {},
   "source": [
    "# 6. Exact Inference Using Graphical Models\n",
    "\n",
    "## 1) Complexity of inference\n",
    "\n",
    "- MAP queries\n",
    "Maxinum a posteriori\n",
    "\n",
    "### Real-world issues\n"
   ]
  },
  {
   "cell_type": "markdown",
   "metadata": {},
   "source": [
    "## 2) Using the variable Elimination algorithm\n",
    "\n",
    "brute force\n",
    "\n",
    "Variable Elimination"
   ]
  },
  {
   "cell_type": "code",
   "execution_count": 1,
   "metadata": {
    "collapsed": false
   },
   "outputs": [],
   "source": [
    "from libpgm.graphskeleton import GraphSkeleton\n",
    "from libpgm.nodedata import NodeData\n",
    "from libpgm.discretebayesiannetwork import DiscreteBayesianNetwork\n",
    "from libpgm.tablecpdfactor import TableCPDFactor\n",
    "import itertools\n",
    "import pandas as pd\n",
    "from libpgm.tablecpdfactorization import TableCPDFactorization\n",
    "def loadbn(jsonpath):\n",
    "   nd = NodeData()\n",
    "   skel = GraphSkeleton()\n",
    "   nd.load(jsonpath)\n",
    "   skel.load(jsonpath)\n",
    "   skel.toporder()\n",
    "   bn = DiscreteBayesianNetwork(skel, nd)\n",
    "   return bn\n",
    "bn=loadbn(\"asia1.txt\")\n"
   ]
  },
  {
   "cell_type": "code",
   "execution_count": 2,
   "metadata": {
    "collapsed": false
   },
   "outputs": [
    {
     "name": "stdout",
     "output_type": "stream",
     "text": [
      "values in joint distribution  256\n"
     ]
    },
    {
     "data": {
      "text/html": [
       "<div>\n",
       "<table border=\"1\" class=\"dataframe\">\n",
       "  <thead>\n",
       "    <tr style=\"text-align: right;\">\n",
       "      <th></th>\n",
       "      <th>dysp</th>\n",
       "      <th>xray</th>\n",
       "      <th>either</th>\n",
       "      <th>tub</th>\n",
       "      <th>lung</th>\n",
       "      <th>bronc</th>\n",
       "      <th>smoke</th>\n",
       "      <th>asia</th>\n",
       "      <th>probability</th>\n",
       "    </tr>\n",
       "  </thead>\n",
       "  <tbody>\n",
       "    <tr>\n",
       "      <th>0</th>\n",
       "      <td>yes</td>\n",
       "      <td>yes</td>\n",
       "      <td>yes</td>\n",
       "      <td>yes</td>\n",
       "      <td>yes</td>\n",
       "      <td>yes</td>\n",
       "      <td>yes</td>\n",
       "      <td>yes</td>\n",
       "      <td>1.323000e-05</td>\n",
       "    </tr>\n",
       "    <tr>\n",
       "      <th>1</th>\n",
       "      <td>yes</td>\n",
       "      <td>yes</td>\n",
       "      <td>yes</td>\n",
       "      <td>yes</td>\n",
       "      <td>yes</td>\n",
       "      <td>yes</td>\n",
       "      <td>yes</td>\n",
       "      <td>no</td>\n",
       "      <td>2.619540e-04</td>\n",
       "    </tr>\n",
       "    <tr>\n",
       "      <th>2</th>\n",
       "      <td>yes</td>\n",
       "      <td>yes</td>\n",
       "      <td>yes</td>\n",
       "      <td>yes</td>\n",
       "      <td>yes</td>\n",
       "      <td>yes</td>\n",
       "      <td>no</td>\n",
       "      <td>yes</td>\n",
       "      <td>6.615000e-07</td>\n",
       "    </tr>\n",
       "    <tr>\n",
       "      <th>3</th>\n",
       "      <td>yes</td>\n",
       "      <td>yes</td>\n",
       "      <td>yes</td>\n",
       "      <td>yes</td>\n",
       "      <td>yes</td>\n",
       "      <td>yes</td>\n",
       "      <td>no</td>\n",
       "      <td>no</td>\n",
       "      <td>1.309770e-05</td>\n",
       "    </tr>\n",
       "    <tr>\n",
       "      <th>4</th>\n",
       "      <td>yes</td>\n",
       "      <td>yes</td>\n",
       "      <td>yes</td>\n",
       "      <td>yes</td>\n",
       "      <td>yes</td>\n",
       "      <td>no</td>\n",
       "      <td>yes</td>\n",
       "      <td>yes</td>\n",
       "      <td>6.860000e-06</td>\n",
       "    </tr>\n",
       "  </tbody>\n",
       "</table>\n",
       "</div>"
      ],
      "text/plain": [
       "  dysp xray either  tub lung bronc smoke asia   probability\n",
       "0  yes  yes    yes  yes  yes   yes   yes  yes  1.323000e-05\n",
       "1  yes  yes    yes  yes  yes   yes   yes   no  2.619540e-04\n",
       "2  yes  yes    yes  yes  yes   yes    no  yes  6.615000e-07\n",
       "3  yes  yes    yes  yes  yes   yes    no   no  1.309770e-05\n",
       "4  yes  yes    yes  yes  yes    no   yes  yes  6.860000e-06"
      ]
     },
     "execution_count": 2,
     "metadata": {},
     "output_type": "execute_result"
    }
   ],
   "source": [
    "#a method that prints the distribution as a table.\n",
    "def printdist(jd,bn,normalize=False):\n",
    "    x=[bn.Vdata[i][\"vals\"] for i in jd.scope]\n",
    "    zipover=[i/sum(jd.vals) for i in jd.vals] if normalize else jd.vals\n",
    "    #creates the cartesian product\n",
    "    k=[a + [b] for a,b in zip([list(i) for i in itertools.product(*x[::-1])],zipover)]\n",
    "    df=pd.DataFrame.from_records(k,columns=[i for i in reversed(jd.scope)]+['probability'])\n",
    "    return df\n",
    "#instantiate TableCPDs for all the nodes and multiply them. The result is in the factor that calls the methods.\n",
    "jc=TableCPDFactor(\"asia\",bn)\n",
    "[jc.multiplyfactor(TableCPDFactor(i,bn)) for i in bn.V if i != \"asia\"]\n",
    "df=printdist(jc,bn,normalize=True)\n",
    "print (\"values in joint distribution \",len(jc.vals))\n",
    "#print the first few values in the table\n",
    "df.head()"
   ]
  },
  {
   "cell_type": "markdown",
   "metadata": {},
   "source": [
    "### Marginalizing factors that are not relevant\n",
    "\n",
    "- factor marginalization\n",
    "\n"
   ]
  },
  {
   "cell_type": "code",
   "execution_count": 3,
   "metadata": {
    "collapsed": false
   },
   "outputs": [
    {
     "data": {
      "text/html": [
       "<div>\n",
       "<table border=\"1\" class=\"dataframe\">\n",
       "  <thead>\n",
       "    <tr style=\"text-align: right;\">\n",
       "      <th></th>\n",
       "      <th>bronc</th>\n",
       "      <th>smoke</th>\n",
       "      <th>probability</th>\n",
       "    </tr>\n",
       "  </thead>\n",
       "  <tbody>\n",
       "    <tr>\n",
       "      <th>0</th>\n",
       "      <td>no</td>\n",
       "      <td>no</td>\n",
       "      <td>0.35</td>\n",
       "    </tr>\n",
       "    <tr>\n",
       "      <th>1</th>\n",
       "      <td>no</td>\n",
       "      <td>yes</td>\n",
       "      <td>0.20</td>\n",
       "    </tr>\n",
       "    <tr>\n",
       "      <th>2</th>\n",
       "      <td>yes</td>\n",
       "      <td>no</td>\n",
       "      <td>0.15</td>\n",
       "    </tr>\n",
       "    <tr>\n",
       "      <th>3</th>\n",
       "      <td>yes</td>\n",
       "      <td>yes</td>\n",
       "      <td>0.30</td>\n",
       "    </tr>\n",
       "  </tbody>\n",
       "</table>\n",
       "</div>"
      ],
      "text/plain": [
       "  bronc smoke  probability\n",
       "0    no    no         0.35\n",
       "1    no   yes         0.20\n",
       "2   yes    no         0.15\n",
       "3   yes   yes         0.30"
      ]
     },
     "execution_count": 3,
     "metadata": {},
     "output_type": "execute_result"
    }
   ],
   "source": [
    "t2=df.groupby(['bronc','smoke'],as_index=False)\n",
    "t3=t2['probability'].sum()\n",
    "t3"
   ]
  },
  {
   "cell_type": "code",
   "execution_count": 4,
   "metadata": {
    "collapsed": false
   },
   "outputs": [
    {
     "data": {
      "text/html": [
       "<div>\n",
       "<table border=\"1\" class=\"dataframe\">\n",
       "  <thead>\n",
       "    <tr style=\"text-align: right;\">\n",
       "      <th></th>\n",
       "      <th>dysp</th>\n",
       "      <th>xray</th>\n",
       "      <th>either</th>\n",
       "      <th>tub</th>\n",
       "      <th>lung</th>\n",
       "      <th>bronc</th>\n",
       "      <th>smoke</th>\n",
       "      <th>asia</th>\n",
       "      <th>probability</th>\n",
       "    </tr>\n",
       "  </thead>\n",
       "  <tbody>\n",
       "    <tr>\n",
       "      <th>6</th>\n",
       "      <td>yes</td>\n",
       "      <td>yes</td>\n",
       "      <td>yes</td>\n",
       "      <td>yes</td>\n",
       "      <td>yes</td>\n",
       "      <td>no</td>\n",
       "      <td>no</td>\n",
       "      <td>yes</td>\n",
       "      <td>0.000001</td>\n",
       "    </tr>\n",
       "    <tr>\n",
       "      <th>7</th>\n",
       "      <td>yes</td>\n",
       "      <td>yes</td>\n",
       "      <td>yes</td>\n",
       "      <td>yes</td>\n",
       "      <td>yes</td>\n",
       "      <td>no</td>\n",
       "      <td>no</td>\n",
       "      <td>no</td>\n",
       "      <td>0.000024</td>\n",
       "    </tr>\n",
       "    <tr>\n",
       "      <th>14</th>\n",
       "      <td>yes</td>\n",
       "      <td>yes</td>\n",
       "      <td>yes</td>\n",
       "      <td>yes</td>\n",
       "      <td>no</td>\n",
       "      <td>no</td>\n",
       "      <td>no</td>\n",
       "      <td>yes</td>\n",
       "      <td>0.000119</td>\n",
       "    </tr>\n",
       "    <tr>\n",
       "      <th>15</th>\n",
       "      <td>yes</td>\n",
       "      <td>yes</td>\n",
       "      <td>yes</td>\n",
       "      <td>yes</td>\n",
       "      <td>no</td>\n",
       "      <td>no</td>\n",
       "      <td>no</td>\n",
       "      <td>no</td>\n",
       "      <td>0.002353</td>\n",
       "    </tr>\n",
       "    <tr>\n",
       "      <th>22</th>\n",
       "      <td>yes</td>\n",
       "      <td>yes</td>\n",
       "      <td>yes</td>\n",
       "      <td>no</td>\n",
       "      <td>yes</td>\n",
       "      <td>no</td>\n",
       "      <td>no</td>\n",
       "      <td>yes</td>\n",
       "      <td>0.000023</td>\n",
       "    </tr>\n",
       "  </tbody>\n",
       "</table>\n",
       "</div>"
      ],
      "text/plain": [
       "   dysp xray either  tub lung bronc smoke asia  probability\n",
       "6   yes  yes    yes  yes  yes    no    no  yes     0.000001\n",
       "7   yes  yes    yes  yes  yes    no    no   no     0.000024\n",
       "14  yes  yes    yes  yes   no    no    no  yes     0.000119\n",
       "15  yes  yes    yes  yes   no    no    no   no     0.002353\n",
       "22  yes  yes    yes   no  yes    no    no  yes     0.000023"
      ]
     },
     "execution_count": 4,
     "metadata": {},
     "output_type": "execute_result"
    }
   ],
   "source": [
    "df.loc[(df[\"smoke\"] == 'no') & (df[\"bronc\"] == 'no'), :].head()"
   ]
  },
  {
   "cell_type": "code",
   "execution_count": 5,
   "metadata": {
    "collapsed": false
   },
   "outputs": [
    {
     "data": {
      "text/plain": [
       "0.35"
      ]
     },
     "execution_count": 5,
     "metadata": {},
     "output_type": "execute_result"
    }
   ],
   "source": [
    "df.loc[(df[\"bronc\"] == 'no') & (df[\"smoke\"] == 'no'), \"probability\"].sum()"
   ]
  },
  {
   "cell_type": "markdown",
   "metadata": {},
   "source": [
    "### Factor reduction to filter evidence"
   ]
  },
  {
   "cell_type": "code",
   "execution_count": 6,
   "metadata": {
    "collapsed": false
   },
   "outputs": [
    {
     "data": {
      "text/html": [
       "<div>\n",
       "<table border=\"1\" class=\"dataframe\">\n",
       "  <thead>\n",
       "    <tr style=\"text-align: right;\">\n",
       "      <th></th>\n",
       "      <th>bronc</th>\n",
       "      <th>smoke</th>\n",
       "      <th>probability</th>\n",
       "    </tr>\n",
       "  </thead>\n",
       "  <tbody>\n",
       "    <tr>\n",
       "      <th>1</th>\n",
       "      <td>no</td>\n",
       "      <td>yes</td>\n",
       "      <td>0.2</td>\n",
       "    </tr>\n",
       "    <tr>\n",
       "      <th>3</th>\n",
       "      <td>yes</td>\n",
       "      <td>yes</td>\n",
       "      <td>0.3</td>\n",
       "    </tr>\n",
       "  </tbody>\n",
       "</table>\n",
       "</div>"
      ],
      "text/plain": [
       "  bronc smoke  probability\n",
       "1    no   yes          0.2\n",
       "3   yes   yes          0.3"
      ]
     },
     "execution_count": 6,
     "metadata": {},
     "output_type": "execute_result"
    }
   ],
   "source": [
    "t4=t3.loc[ (t3[\"smoke\"] == 'yes'), :]\n",
    "t4"
   ]
  },
  {
   "cell_type": "code",
   "execution_count": 7,
   "metadata": {
    "collapsed": false
   },
   "outputs": [
    {
     "name": "stderr",
     "output_type": "stream",
     "text": [
      "/Users/SungwonLyu/anaconda/lib/python3.5/site-packages/ipykernel/__main__.py:2: SettingWithCopyWarning: \n",
      "A value is trying to be set on a copy of a slice from a DataFrame.\n",
      "Try using .loc[row_indexer,col_indexer] = value instead\n",
      "\n",
      "See the caveats in the documentation: http://pandas.pydata.org/pandas-docs/stable/indexing.html#indexing-view-versus-copy\n",
      "  from ipykernel import kernelapp as app\n"
     ]
    },
    {
     "data": {
      "text/html": [
       "<div>\n",
       "<table border=\"1\" class=\"dataframe\">\n",
       "  <thead>\n",
       "    <tr style=\"text-align: right;\">\n",
       "      <th></th>\n",
       "      <th>bronc</th>\n",
       "      <th>smoke</th>\n",
       "      <th>probability</th>\n",
       "    </tr>\n",
       "  </thead>\n",
       "  <tbody>\n",
       "    <tr>\n",
       "      <th>1</th>\n",
       "      <td>no</td>\n",
       "      <td>yes</td>\n",
       "      <td>0.4</td>\n",
       "    </tr>\n",
       "    <tr>\n",
       "      <th>3</th>\n",
       "      <td>yes</td>\n",
       "      <td>yes</td>\n",
       "      <td>0.6</td>\n",
       "    </tr>\n",
       "  </tbody>\n",
       "</table>\n",
       "</div>"
      ],
      "text/plain": [
       "  bronc smoke  probability\n",
       "1    no   yes          0.4\n",
       "3   yes   yes          0.6"
      ]
     },
     "execution_count": 7,
     "metadata": {},
     "output_type": "execute_result"
    }
   ],
   "source": [
    "psum=t4['probability'].sum()\n",
    "t4['probability']=t4['probability']/psum\n",
    "t4"
   ]
  },
  {
   "cell_type": "code",
   "execution_count": 8,
   "metadata": {
    "collapsed": false
   },
   "outputs": [
    {
     "data": {
      "text/html": [
       "<div>\n",
       "<table border=\"1\" class=\"dataframe\">\n",
       "  <thead>\n",
       "    <tr style=\"text-align: right;\">\n",
       "      <th></th>\n",
       "      <th>bronc</th>\n",
       "      <th>probability</th>\n",
       "    </tr>\n",
       "  </thead>\n",
       "  <tbody>\n",
       "    <tr>\n",
       "      <th>0</th>\n",
       "      <td>no</td>\n",
       "      <td>0.55</td>\n",
       "    </tr>\n",
       "    <tr>\n",
       "      <th>1</th>\n",
       "      <td>yes</td>\n",
       "      <td>0.45</td>\n",
       "    </tr>\n",
       "  </tbody>\n",
       "</table>\n",
       "</div>"
      ],
      "text/plain": [
       "  bronc  probability\n",
       "0    no         0.55\n",
       "1   yes         0.45"
      ]
     },
     "execution_count": 8,
     "metadata": {},
     "output_type": "execute_result"
    }
   ],
   "source": [
    "t5=t3.groupby(['bronc'],as_index=False)\n",
    "t5['probability'].sum()"
   ]
  },
  {
   "cell_type": "markdown",
   "metadata": {},
   "source": [
    "#### Short comings of the brute-force approach\n",
    "\n",
    "#### Using the Variable Elimination approach\n",
    "\n",
    "- Factors\n",
    "\n",
    "Factor product / Factor Marginalization / Factor Reductions\n",
    "\n",
    "Scope\n",
    "\n",
    "- Variable Elimination\n",
    "\n",
    "1) Multiplying factors\n",
    "\n",
    "2) Marginalizing a variable (which is in the scope of all multiplied factors)\n",
    "\n",
    "3) Producing a new factor\n"
   ]
  },
  {
   "cell_type": "code",
   "execution_count": 9,
   "metadata": {
    "collapsed": false
   },
   "outputs": [
    {
     "data": {
      "text/html": [
       "<div>\n",
       "<table border=\"1\" class=\"dataframe\">\n",
       "  <thead>\n",
       "    <tr style=\"text-align: right;\">\n",
       "      <th></th>\n",
       "      <th>asia</th>\n",
       "      <th>tub</th>\n",
       "      <th>probability</th>\n",
       "    </tr>\n",
       "  </thead>\n",
       "  <tbody>\n",
       "    <tr>\n",
       "      <th>0</th>\n",
       "      <td>yes</td>\n",
       "      <td>yes</td>\n",
       "      <td>0.0005</td>\n",
       "    </tr>\n",
       "    <tr>\n",
       "      <th>1</th>\n",
       "      <td>yes</td>\n",
       "      <td>no</td>\n",
       "      <td>0.0095</td>\n",
       "    </tr>\n",
       "    <tr>\n",
       "      <th>2</th>\n",
       "      <td>no</td>\n",
       "      <td>yes</td>\n",
       "      <td>0.0099</td>\n",
       "    </tr>\n",
       "    <tr>\n",
       "      <th>3</th>\n",
       "      <td>no</td>\n",
       "      <td>no</td>\n",
       "      <td>0.9801</td>\n",
       "    </tr>\n",
       "  </tbody>\n",
       "</table>\n",
       "</div>"
      ],
      "text/plain": [
       "  asia  tub  probability\n",
       "0  yes  yes       0.0005\n",
       "1  yes   no       0.0095\n",
       "2   no  yes       0.0099\n",
       "3   no   no       0.9801"
      ]
     },
     "execution_count": 9,
     "metadata": {},
     "output_type": "execute_result"
    }
   ],
   "source": [
    "asia=TableCPDFactor(\"asia\",bn)\n",
    "phi_1=TableCPDFactor(\"tub\",bn)\n",
    "phi_1.multiplyfactor(asia)\n",
    "printdist(phi_1,bn)"
   ]
  },
  {
   "cell_type": "code",
   "execution_count": 10,
   "metadata": {
    "collapsed": false
   },
   "outputs": [
    {
     "data": {
      "text/html": [
       "<div>\n",
       "<table border=\"1\" class=\"dataframe\">\n",
       "  <thead>\n",
       "    <tr style=\"text-align: right;\">\n",
       "      <th></th>\n",
       "      <th>tub</th>\n",
       "      <th>probability</th>\n",
       "    </tr>\n",
       "  </thead>\n",
       "  <tbody>\n",
       "    <tr>\n",
       "      <th>0</th>\n",
       "      <td>yes</td>\n",
       "      <td>0.0104</td>\n",
       "    </tr>\n",
       "    <tr>\n",
       "      <th>1</th>\n",
       "      <td>no</td>\n",
       "      <td>0.9896</td>\n",
       "    </tr>\n",
       "  </tbody>\n",
       "</table>\n",
       "</div>"
      ],
      "text/plain": [
       "   tub  probability\n",
       "0  yes       0.0104\n",
       "1   no       0.9896"
      ]
     },
     "execution_count": 10,
     "metadata": {},
     "output_type": "execute_result"
    }
   ],
   "source": [
    "phi_1.sumout(\"asia\")\n",
    "printdist(phi_1,bn)"
   ]
  },
  {
   "cell_type": "code",
   "execution_count": 11,
   "metadata": {
    "collapsed": false
   },
   "outputs": [
    {
     "data": {
      "text/html": [
       "<div>\n",
       "<table border=\"1\" class=\"dataframe\">\n",
       "  <thead>\n",
       "    <tr style=\"text-align: right;\">\n",
       "      <th></th>\n",
       "      <th>bronc</th>\n",
       "      <th>lung</th>\n",
       "      <th>probability</th>\n",
       "    </tr>\n",
       "  </thead>\n",
       "  <tbody>\n",
       "    <tr>\n",
       "      <th>0</th>\n",
       "      <td>yes</td>\n",
       "      <td>yes</td>\n",
       "      <td>0.0315</td>\n",
       "    </tr>\n",
       "    <tr>\n",
       "      <th>1</th>\n",
       "      <td>yes</td>\n",
       "      <td>no</td>\n",
       "      <td>0.4185</td>\n",
       "    </tr>\n",
       "    <tr>\n",
       "      <th>2</th>\n",
       "      <td>no</td>\n",
       "      <td>yes</td>\n",
       "      <td>0.0235</td>\n",
       "    </tr>\n",
       "    <tr>\n",
       "      <th>3</th>\n",
       "      <td>no</td>\n",
       "      <td>no</td>\n",
       "      <td>0.5265</td>\n",
       "    </tr>\n",
       "  </tbody>\n",
       "</table>\n",
       "</div>"
      ],
      "text/plain": [
       "  bronc lung  probability\n",
       "0   yes  yes       0.0315\n",
       "1   yes   no       0.4185\n",
       "2    no  yes       0.0235\n",
       "3    no   no       0.5265"
      ]
     },
     "execution_count": 11,
     "metadata": {},
     "output_type": "execute_result"
    }
   ],
   "source": [
    "phi_2=TableCPDFactor(\"smoke\",bn)\n",
    "[phi_2.multiplyfactor(TableCPDFactor(i,bn)) for i in [\"lung\",\"bronc\"]]\n",
    "phi_2.sumout(\"smoke\")\n",
    "printdist(phi_2,bn)"
   ]
  },
  {
   "cell_type": "code",
   "execution_count": 12,
   "metadata": {
    "collapsed": false
   },
   "outputs": [
    {
     "data": {
      "text/html": [
       "<div>\n",
       "<table border=\"1\" class=\"dataframe\">\n",
       "  <thead>\n",
       "    <tr style=\"text-align: right;\">\n",
       "      <th></th>\n",
       "      <th>lung</th>\n",
       "      <th>either</th>\n",
       "      <th>probability</th>\n",
       "    </tr>\n",
       "  </thead>\n",
       "  <tbody>\n",
       "    <tr>\n",
       "      <th>0</th>\n",
       "      <td>yes</td>\n",
       "      <td>yes</td>\n",
       "      <td>1.0000</td>\n",
       "    </tr>\n",
       "    <tr>\n",
       "      <th>1</th>\n",
       "      <td>yes</td>\n",
       "      <td>no</td>\n",
       "      <td>0.0000</td>\n",
       "    </tr>\n",
       "    <tr>\n",
       "      <th>2</th>\n",
       "      <td>no</td>\n",
       "      <td>yes</td>\n",
       "      <td>0.0104</td>\n",
       "    </tr>\n",
       "    <tr>\n",
       "      <th>3</th>\n",
       "      <td>no</td>\n",
       "      <td>no</td>\n",
       "      <td>0.9896</td>\n",
       "    </tr>\n",
       "  </tbody>\n",
       "</table>\n",
       "</div>"
      ],
      "text/plain": [
       "  lung either  probability\n",
       "0  yes    yes       1.0000\n",
       "1  yes     no       0.0000\n",
       "2   no    yes       0.0104\n",
       "3   no     no       0.9896"
      ]
     },
     "execution_count": 12,
     "metadata": {},
     "output_type": "execute_result"
    }
   ],
   "source": [
    "phi_3=TableCPDFactor(\"either\",bn)\n",
    "phi_3.multiplyfactor(phi_1)\n",
    "phi_3.sumout(\"tub\")\n",
    "printdist(phi_3,bn)"
   ]
  },
  {
   "cell_type": "code",
   "execution_count": 13,
   "metadata": {
    "collapsed": false
   },
   "outputs": [
    {
     "name": "stdout",
     "output_type": "stream",
     "text": [
      "variables in scope  ['either', 'bronc']\n"
     ]
    }
   ],
   "source": [
    "phi_4=phi_3\n",
    "phi_4.multiplyfactor(phi_2)\n",
    "phi_4.sumout(\"lung\")\n",
    "print (\"variables in scope \",phi_4.scope)"
   ]
  },
  {
   "cell_type": "code",
   "execution_count": 14,
   "metadata": {
    "collapsed": false
   },
   "outputs": [
    {
     "name": "stdout",
     "output_type": "stream",
     "text": [
      "variables in scope  ['xray', 'bronc', 'dysp']\n"
     ]
    }
   ],
   "source": [
    "phi_5=TableCPDFactor(\"xray\",bn)\n",
    "phi_5.multiplyfactor(phi_4)\n",
    "phi_5.multiplyfactor(TableCPDFactor(\"dysp\",bn))\n",
    "phi_5.sumout(\"either\")\n",
    "print (\"variables in scope \",phi_5.scope)"
   ]
  },
  {
   "cell_type": "code",
   "execution_count": 15,
   "metadata": {
    "collapsed": false
   },
   "outputs": [
    {
     "data": {
      "text/html": [
       "<div>\n",
       "<table border=\"1\" class=\"dataframe\">\n",
       "  <thead>\n",
       "    <tr style=\"text-align: right;\">\n",
       "      <th></th>\n",
       "      <th>bronc</th>\n",
       "      <th>xray</th>\n",
       "      <th>probability</th>\n",
       "    </tr>\n",
       "  </thead>\n",
       "  <tbody>\n",
       "    <tr>\n",
       "      <th>0</th>\n",
       "      <td>yes</td>\n",
       "      <td>yes</td>\n",
       "      <td>0.055843</td>\n",
       "    </tr>\n",
       "    <tr>\n",
       "      <th>1</th>\n",
       "      <td>yes</td>\n",
       "      <td>no</td>\n",
       "      <td>0.394157</td>\n",
       "    </tr>\n",
       "    <tr>\n",
       "      <th>2</th>\n",
       "      <td>no</td>\n",
       "      <td>yes</td>\n",
       "      <td>0.054447</td>\n",
       "    </tr>\n",
       "    <tr>\n",
       "      <th>3</th>\n",
       "      <td>no</td>\n",
       "      <td>no</td>\n",
       "      <td>0.495553</td>\n",
       "    </tr>\n",
       "  </tbody>\n",
       "</table>\n",
       "</div>"
      ],
      "text/plain": [
       "  bronc xray  probability\n",
       "0   yes  yes     0.055843\n",
       "1   yes   no     0.394157\n",
       "2    no  yes     0.054447\n",
       "3    no   no     0.495553"
      ]
     },
     "execution_count": 15,
     "metadata": {},
     "output_type": "execute_result"
    }
   ],
   "source": [
    "phi_6=phi_5\n",
    "phi_6.sumout(\"dysp\")\n",
    "printdist(phi_6,bn)"
   ]
  },
  {
   "cell_type": "code",
   "execution_count": 16,
   "metadata": {
    "collapsed": false
   },
   "outputs": [
    {
     "data": {
      "text/html": [
       "<div>\n",
       "<table border=\"1\" class=\"dataframe\">\n",
       "  <thead>\n",
       "    <tr style=\"text-align: right;\">\n",
       "      <th></th>\n",
       "      <th>bronc</th>\n",
       "      <th>probability</th>\n",
       "    </tr>\n",
       "  </thead>\n",
       "  <tbody>\n",
       "    <tr>\n",
       "      <th>0</th>\n",
       "      <td>yes</td>\n",
       "      <td>0.055843</td>\n",
       "    </tr>\n",
       "    <tr>\n",
       "      <th>1</th>\n",
       "      <td>no</td>\n",
       "      <td>0.054447</td>\n",
       "    </tr>\n",
       "  </tbody>\n",
       "</table>\n",
       "</div>"
      ],
      "text/plain": [
       "  bronc  probability\n",
       "0   yes     0.055843\n",
       "1    no     0.054447"
      ]
     },
     "execution_count": 16,
     "metadata": {},
     "output_type": "execute_result"
    }
   ],
   "source": [
    "phi_6.reducefactor(\"xray\",'yes')\n",
    "printdist(phi_6,bn)"
   ]
  },
  {
   "cell_type": "code",
   "execution_count": 17,
   "metadata": {
    "collapsed": false
   },
   "outputs": [
    {
     "data": {
      "text/html": [
       "<div>\n",
       "<table border=\"1\" class=\"dataframe\">\n",
       "  <thead>\n",
       "    <tr style=\"text-align: right;\">\n",
       "      <th></th>\n",
       "      <th>bronc</th>\n",
       "      <th>probability</th>\n",
       "    </tr>\n",
       "  </thead>\n",
       "  <tbody>\n",
       "    <tr>\n",
       "      <th>0</th>\n",
       "      <td>yes</td>\n",
       "      <td>0.506326</td>\n",
       "    </tr>\n",
       "    <tr>\n",
       "      <th>1</th>\n",
       "      <td>no</td>\n",
       "      <td>0.493674</td>\n",
       "    </tr>\n",
       "  </tbody>\n",
       "</table>\n",
       "</div>"
      ],
      "text/plain": [
       "  bronc  probability\n",
       "0   yes     0.506326\n",
       "1    no     0.493674"
      ]
     },
     "execution_count": 17,
     "metadata": {},
     "output_type": "execute_result"
    }
   ],
   "source": [
    "summ = sum(phi_6.vals)\n",
    "phi_6.vals=[i/float(summ) for i in phi_6.vals]\n",
    "printdist(phi_6,bn)"
   ]
  },
  {
   "cell_type": "code",
   "execution_count": 18,
   "metadata": {
    "collapsed": false
   },
   "outputs": [
    {
     "data": {
      "text/html": [
       "<div>\n",
       "<table border=\"1\" class=\"dataframe\">\n",
       "  <thead>\n",
       "    <tr style=\"text-align: right;\">\n",
       "      <th></th>\n",
       "      <th>bronc</th>\n",
       "      <th>probability</th>\n",
       "    </tr>\n",
       "  </thead>\n",
       "  <tbody>\n",
       "    <tr>\n",
       "      <th>0</th>\n",
       "      <td>yes</td>\n",
       "      <td>0.506326</td>\n",
       "    </tr>\n",
       "    <tr>\n",
       "      <th>1</th>\n",
       "      <td>no</td>\n",
       "      <td>0.493674</td>\n",
       "    </tr>\n",
       "  </tbody>\n",
       "</table>\n",
       "</div>"
      ],
      "text/plain": [
       "  bronc  probability\n",
       "0   yes     0.506326\n",
       "1    no     0.493674"
      ]
     },
     "execution_count": 18,
     "metadata": {},
     "output_type": "execute_result"
    }
   ],
   "source": [
    "bn = loadbn(\"asia1.txt\")\n",
    "evidence = {\"xray\":'yes'}\n",
    "query = {\"bronc\":'yes'}\n",
    "fn = TableCPDFactorization(bn)\n",
    "result = fn.condprobve(query, evidence)\n",
    "printdist(result,bn)"
   ]
  },
  {
   "cell_type": "markdown",
   "metadata": {},
   "source": [
    "### Complexity of Variable Elimination\n",
    "\n",
    "- Why does elimination ordering matter?\n",
    "---"
   ]
  },
  {
   "cell_type": "markdown",
   "metadata": {},
   "source": [
    "### Graph perspective\n",
    "\n",
    "Factor 와 Graph는 같은 내용, 다른 표현 방법\n",
    "\n",
    "이러한 변수 제거방법이 그래프에 어떻게 영향을 미칠까\n",
    "\n",
    "변수 제거방법은 Directed나 Undirected나 똑같이 영향을 미치지 때문에, Undirected라고 가정하고 진행한다. \n",
    "\n",
    "---\n",
    "\n",
    "- moralization\n",
    "\n",
    "![Image](figures/1.png)\n",
    "\n",
    "두가지를 연결하고 중간을 지우는 것(새로운 Factor)은 그 둘 사이에 직접적인 링크를 만드는 것과 같다.\n",
    "\n",
    "새로운 Factor은 새로운 종속관계를 의미하기 때문에 그래프에도 나타나야 한다. \n",
    "\n",
    "이러한 Moralization의 결과 나타난 네트워크가 Induced Markov network이다. \n",
    "\n",
    "- minimal I-map\n",
    "\n",
    "이렇게 새로운 연결을 더하는 것을 fill edges라고 함\n",
    "\n",
    "각 Factor에 대응하여 완전하게 연결된 그래프가 minimal I-map.\n",
    "\n",
    "P분포에서 이렇게 모두 다 연결하면 Graph G\n",
    "\n",
    "• G is an I-map of P\n",
    "• If G ' ⊂ G and G ' is not an I-map of P\n",
    "\n",
    "다시 말하면 I-map은 이러한 연결을 모두 하고도 독립상태인 노드들을 보여준다. \n",
    "\n",
    "엣지를 더하는 것은 변수 제거 순서에 따른다.\n",
    "\n",
    "---\n",
    "\n",
    "#### Learning the induced width from the graph structure\n",
    "\n",
    "![Image](figures/2.png)\n",
    "\n",
    "clique: 모두 연결된 하부그래프 ex)BCD\n",
    "\n",
    "- Why does induced width matter?\n",
    "\n",
    "induced width: number of nodes in the largest clique minus one ex)2\n",
    "\n",
    "minimal induced width: VE알고리즘 후에 (다 연결하는것은 아님)최소 induced width\n",
    "\n",
    "induced graph의 cluques는 VE 알고리즘의 런타임을 근사할 수 있게 해준다. \n",
    "\n",
    "최고의 VE순서를 찾는다고 해도 그 시간은 지수적으로 증가할 수 있다. 그렇기 때문에 추정하는 방법을 찾아야한다.\n",
    "\n",
    "- Finding VE orderings\n",
    "\n",
    "Greedy algorithms이 좋다. \n",
    "\n",
    "Several cost functions도 쓰일수 도 있다. \n",
    "\n",
    "ex) choosing the smallest factor first (a node with the least number of neighbors)"
   ]
  },
  {
   "cell_type": "markdown",
   "metadata": {},
   "source": [
    "## 3) The tree algorithm\n",
    "\n",
    "개념\n",
    "\n",
    "- A cluster graph: 군집 그래프 - factor과 비슷하다\n",
    "\n",
    "- message passing: 군집사이의 메시지를 전하는 것. \n",
    "\n",
    "ex) 파티에서 셸리와 클레어가 만나는데 셸리는 BCD를 알고있고 클레어는 DEF를 알고있다. 그들은 공통된 친구인 D에 대한 이야기를 나눌 수 있다. \n",
    "\n",
    "- Separation Set (sepset) : 두 클러스터 사이의 공통된 변수\n",
    "\n",
    "ex) {Shelly, B, C, D} 와 {Clair, D, E, f}의 sepset은 {D}\n",
    "\n",
    "- message passing 알고리즘은 여러종류가 있지만 clique tree- message passing algorithm (junction tree algorithm)를 알아보기로 한다."
   ]
  },
  {
   "cell_type": "markdown",
   "metadata": {},
   "source": [
    "### The four stages of the juction tree algorithm\n",
    "\n",
    "### Using the junction tree algorithm for inference\n",
    "\n",
    "1) 베이즈 네트워크가 Join tree라는 구조로 변환된다. (Join tree = Junction tree = Cluster tree = Clique tree) \n",
    "\n",
    "![Image](figures/3.png)\n",
    "\n",
    "#### Stage 1.1 – moralization\n",
    "\n",
    "![Image](figures/4.png)\n",
    "\n",
    "- 우선 모든 방향성있는 엣지를 없는 것으로 바꾼다. \n",
    "\n",
    "- V구조를 가지고 있는 노드의 부모들을 모두 연결한다.(moralization)\n",
    "\n",
    "#### Stage 1.2 – triangulation\n",
    "\n",
    "![Image](figures/5.png)\n",
    "\n",
    "- 이렇게 이어서 triangulated graph 구조를 만든다.\n",
    "\n",
    "- 이 triangulated graph의 subset을 밝힌다 (Clique)\n",
    "\n",
    "#### Stage 1.3 – building the join tree\n",
    "\n",
    "![Image](figures/6.png)\n",
    "\n",
    "- clique를 클러스터로 시작해서 Join tree를 만든다. \n",
    "\n",
    "- JOin tree: 한 노드가 두 클리크를 연결하면 클리크의 경로의 모든 노드에 모두 나타나야 한다. \n",
    "\n",
    "- the variables in the cliques {Bronc, Either, Smoke} and {Bronc, Dysp, Either} are the variables in the {Bronc, Either} sepset.\n",
    "\n",
    "#### Stage 2 – initializing potentials\n",
    "\n",
    "각 클러스터의 가능성(potential)이 초기화된다. \n",
    "\n",
    "확률(probability)와 비교하여 Undirected Marcov Chain이기 때문에 모두 더하여 1이 아니고 가능성이라고 표현단다.\n",
    "\n",
    "가능성이란 CPD나 표와 유사하게 각 할당마다 값이 있다. \n",
    "\n",
    "클러스터와 sepset는 각각 가능성이 있다. \n",
    "\n",
    "#### Stage 3 – message passing\n",
    "\n",
    "![Image](figures/7.png)\n",
    "\n",
    "이웃한 클러스터 사이에 메시지를 전달한다.\n",
    "\n",
    "각 메시지는 클러스터가 특정한 변수에 대하여 가지고 있는 정보를 포함한다. \n",
    "\n",
    "각 메시지는 동시에 전달되지만 다른 클러스터에 전달하기 전에 전달 받아야 한다.\n",
    "\n",
    "나무 구조로 생각하면 위 방향으로, 아래 방향으로 두 단계로 일어난다.\n",
    "\n",
    "the source cluster\n",
    "\n",
    "intervene sepset\n",
    "\n",
    "destination cluster\n",
    "\n",
    "각 클러스터의 sepset이 일관된 값을 가지면 메시지전달이 완료된다. \n",
    "\n",
    "예시)\n",
    "\n",
    "sepset potential: φr\n",
    "\n",
    "destination cluster potential: φy\n",
    "\n",
    "sepset할당\n",
    "\n",
    "![Image](figures/8.png)\n",
    "\n",
    "destination 할당\n",
    "\n",
    "![Image](figures/9.png)\n",
    "\n",
    "=> Consistent belief\n",
    "\n",
    "#### Stage 4 - Marginalization\n",
    "\n",
    "다른 변수들에 대하여 marginalization한 후 \n",
    "\n",
    "어떤 변수에 대해서도 query할 수 있다. \n",
    "\n",
    "![Image](figures/10.png)\n",
    "\n",
    "나머지 변수들에 대해 Marginal out 하면\n",
    "\n",
    "![Image](figures/11.png)\n",
    "\n",
    "다른 클러스터에서 marginal out 해도 같은 값을 가질까?\n",
    "\n",
    "![Image](figures/12.png)\n",
    "\n",
    "그렇다고 한다. \n",
    "\n",
    "---\n",
    "\n",
    "- 장점: marginal queries에 대해 한번의 계산으로 빠르게 나타낼 수 있따.\n",
    "\n",
    "- 단점: 공간을 많이 차지한다. VE는 중간과정을 지우지만, junction tree는 모두 저장한다. "
   ]
  }
 ],
 "metadata": {
  "anaconda-cloud": {},
  "kernelspec": {
   "display_name": "Python [Root]",
   "language": "python",
   "name": "Python [Root]"
  },
  "language_info": {
   "codemirror_mode": {
    "name": "ipython",
    "version": 3
   },
   "file_extension": ".py",
   "mimetype": "text/x-python",
   "name": "python",
   "nbconvert_exporter": "python",
   "pygments_lexer": "ipython3",
   "version": "3.5.2"
  }
 },
 "nbformat": 4,
 "nbformat_minor": 0
}
